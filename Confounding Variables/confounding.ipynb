{
 "cells": [
  {
   "cell_type": "code",
   "execution_count": 66,
   "metadata": {},
   "outputs": [],
   "source": [
    "import pandas as pd\n",
    "import numpy as np\n",
    "import matplotlib.pyplot as plt\n",
    "from sklearn.metrics import r2_score, mean_squared_error\n",
    "from sklearn.linear_model import LinearRegression\n"
   ]
  },
  {
   "cell_type": "code",
   "execution_count": 67,
   "metadata": {},
   "outputs": [],
   "source": [
    "data = pd.read_csv(\"data/king_county.csv\", sep=\"\\t\")"
   ]
  },
  {
   "cell_type": "code",
   "execution_count": 68,
   "metadata": {},
   "outputs": [
    {
     "name": "stdout",
     "output_type": "stream",
     "text": [
      "<class 'pandas.core.frame.DataFrame'>\n",
      "Int64Index: 22687 entries, 1 to 27063\n",
      "Data columns (total 22 columns):\n",
      " #   Column           Non-Null Count  Dtype  \n",
      "---  ------           --------------  -----  \n",
      " 0   DocumentDate     22687 non-null  object \n",
      " 1   SalePrice        22687 non-null  int64  \n",
      " 2   PropertyID       22687 non-null  int64  \n",
      " 3   PropertyType     22687 non-null  object \n",
      " 4   ym               22687 non-null  object \n",
      " 5   zhvi_px          22687 non-null  int64  \n",
      " 6   zhvi_idx         22687 non-null  float64\n",
      " 7   AdjSalePrice     22687 non-null  float64\n",
      " 8   NbrLivingUnits   22687 non-null  int64  \n",
      " 9   SqFtLot          22687 non-null  int64  \n",
      " 10  SqFtTotLiving    22687 non-null  int64  \n",
      " 11  SqFtFinBasement  22687 non-null  int64  \n",
      " 12  Bathrooms        22687 non-null  float64\n",
      " 13  Bedrooms         22687 non-null  int64  \n",
      " 14  BldgGrade        22687 non-null  int64  \n",
      " 15  YrBuilt          22687 non-null  int64  \n",
      " 16  YrRenovated      22687 non-null  int64  \n",
      " 17  TrafficNoise     22687 non-null  int64  \n",
      " 18  LandVal          22687 non-null  int64  \n",
      " 19  ImpsVal          22687 non-null  int64  \n",
      " 20  ZipCode          22687 non-null  int64  \n",
      " 21  NewConstruction  22687 non-null  bool   \n",
      "dtypes: bool(1), float64(3), int64(15), object(3)\n",
      "memory usage: 3.8+ MB\n"
     ]
    }
   ],
   "source": [
    "data.info()"
   ]
  },
  {
   "cell_type": "code",
   "execution_count": 69,
   "metadata": {},
   "outputs": [
    {
     "data": {
      "text/html": [
       "<div>\n",
       "<style scoped>\n",
       "    .dataframe tbody tr th:only-of-type {\n",
       "        vertical-align: middle;\n",
       "    }\n",
       "\n",
       "    .dataframe tbody tr th {\n",
       "        vertical-align: top;\n",
       "    }\n",
       "\n",
       "    .dataframe thead th {\n",
       "        text-align: right;\n",
       "    }\n",
       "</style>\n",
       "<table border=\"1\" class=\"dataframe\">\n",
       "  <thead>\n",
       "    <tr style=\"text-align: right;\">\n",
       "      <th></th>\n",
       "      <th>DocumentDate</th>\n",
       "      <th>SalePrice</th>\n",
       "      <th>PropertyID</th>\n",
       "      <th>PropertyType</th>\n",
       "      <th>ym</th>\n",
       "      <th>zhvi_px</th>\n",
       "      <th>zhvi_idx</th>\n",
       "      <th>AdjSalePrice</th>\n",
       "      <th>NbrLivingUnits</th>\n",
       "      <th>SqFtLot</th>\n",
       "      <th>...</th>\n",
       "      <th>Bathrooms</th>\n",
       "      <th>Bedrooms</th>\n",
       "      <th>BldgGrade</th>\n",
       "      <th>YrBuilt</th>\n",
       "      <th>YrRenovated</th>\n",
       "      <th>TrafficNoise</th>\n",
       "      <th>LandVal</th>\n",
       "      <th>ImpsVal</th>\n",
       "      <th>ZipCode</th>\n",
       "      <th>NewConstruction</th>\n",
       "    </tr>\n",
       "  </thead>\n",
       "  <tbody>\n",
       "    <tr>\n",
       "      <th>1</th>\n",
       "      <td>2014-09-16</td>\n",
       "      <td>280000</td>\n",
       "      <td>1000102</td>\n",
       "      <td>Multiplex</td>\n",
       "      <td>2014-09-01</td>\n",
       "      <td>405100</td>\n",
       "      <td>0.930836</td>\n",
       "      <td>300805.0</td>\n",
       "      <td>2</td>\n",
       "      <td>9373</td>\n",
       "      <td>...</td>\n",
       "      <td>3.00</td>\n",
       "      <td>6</td>\n",
       "      <td>7</td>\n",
       "      <td>1991</td>\n",
       "      <td>0</td>\n",
       "      <td>0</td>\n",
       "      <td>70000</td>\n",
       "      <td>229000</td>\n",
       "      <td>98002</td>\n",
       "      <td>False</td>\n",
       "    </tr>\n",
       "    <tr>\n",
       "      <th>2</th>\n",
       "      <td>2006-06-16</td>\n",
       "      <td>1000000</td>\n",
       "      <td>1200013</td>\n",
       "      <td>Single Family</td>\n",
       "      <td>2006-06-01</td>\n",
       "      <td>404400</td>\n",
       "      <td>0.929228</td>\n",
       "      <td>1076162.0</td>\n",
       "      <td>1</td>\n",
       "      <td>20156</td>\n",
       "      <td>...</td>\n",
       "      <td>3.75</td>\n",
       "      <td>4</td>\n",
       "      <td>10</td>\n",
       "      <td>2005</td>\n",
       "      <td>0</td>\n",
       "      <td>0</td>\n",
       "      <td>203000</td>\n",
       "      <td>590000</td>\n",
       "      <td>98166</td>\n",
       "      <td>True</td>\n",
       "    </tr>\n",
       "    <tr>\n",
       "      <th>3</th>\n",
       "      <td>2007-01-29</td>\n",
       "      <td>745000</td>\n",
       "      <td>1200019</td>\n",
       "      <td>Single Family</td>\n",
       "      <td>2007-01-01</td>\n",
       "      <td>425600</td>\n",
       "      <td>0.977941</td>\n",
       "      <td>761805.0</td>\n",
       "      <td>1</td>\n",
       "      <td>26036</td>\n",
       "      <td>...</td>\n",
       "      <td>1.75</td>\n",
       "      <td>4</td>\n",
       "      <td>8</td>\n",
       "      <td>1947</td>\n",
       "      <td>0</td>\n",
       "      <td>0</td>\n",
       "      <td>183000</td>\n",
       "      <td>275000</td>\n",
       "      <td>98166</td>\n",
       "      <td>False</td>\n",
       "    </tr>\n",
       "    <tr>\n",
       "      <th>4</th>\n",
       "      <td>2008-02-25</td>\n",
       "      <td>425000</td>\n",
       "      <td>2800016</td>\n",
       "      <td>Single Family</td>\n",
       "      <td>2008-02-01</td>\n",
       "      <td>418400</td>\n",
       "      <td>0.961397</td>\n",
       "      <td>442065.0</td>\n",
       "      <td>1</td>\n",
       "      <td>8618</td>\n",
       "      <td>...</td>\n",
       "      <td>3.75</td>\n",
       "      <td>5</td>\n",
       "      <td>7</td>\n",
       "      <td>1966</td>\n",
       "      <td>0</td>\n",
       "      <td>0</td>\n",
       "      <td>104000</td>\n",
       "      <td>229000</td>\n",
       "      <td>98168</td>\n",
       "      <td>False</td>\n",
       "    </tr>\n",
       "    <tr>\n",
       "      <th>5</th>\n",
       "      <td>2013-03-29</td>\n",
       "      <td>240000</td>\n",
       "      <td>2800024</td>\n",
       "      <td>Single Family</td>\n",
       "      <td>2013-03-01</td>\n",
       "      <td>351600</td>\n",
       "      <td>0.807904</td>\n",
       "      <td>297065.0</td>\n",
       "      <td>1</td>\n",
       "      <td>8620</td>\n",
       "      <td>...</td>\n",
       "      <td>1.75</td>\n",
       "      <td>4</td>\n",
       "      <td>7</td>\n",
       "      <td>1948</td>\n",
       "      <td>0</td>\n",
       "      <td>0</td>\n",
       "      <td>104000</td>\n",
       "      <td>205000</td>\n",
       "      <td>98168</td>\n",
       "      <td>False</td>\n",
       "    </tr>\n",
       "  </tbody>\n",
       "</table>\n",
       "<p>5 rows × 22 columns</p>\n",
       "</div>"
      ],
      "text/plain": [
       "  DocumentDate  SalePrice  PropertyID   PropertyType          ym  zhvi_px  \\\n",
       "1   2014-09-16     280000     1000102      Multiplex  2014-09-01   405100   \n",
       "2   2006-06-16    1000000     1200013  Single Family  2006-06-01   404400   \n",
       "3   2007-01-29     745000     1200019  Single Family  2007-01-01   425600   \n",
       "4   2008-02-25     425000     2800016  Single Family  2008-02-01   418400   \n",
       "5   2013-03-29     240000     2800024  Single Family  2013-03-01   351600   \n",
       "\n",
       "   zhvi_idx  AdjSalePrice  NbrLivingUnits  SqFtLot  ...  Bathrooms  Bedrooms  \\\n",
       "1  0.930836      300805.0               2     9373  ...       3.00         6   \n",
       "2  0.929228     1076162.0               1    20156  ...       3.75         4   \n",
       "3  0.977941      761805.0               1    26036  ...       1.75         4   \n",
       "4  0.961397      442065.0               1     8618  ...       3.75         5   \n",
       "5  0.807904      297065.0               1     8620  ...       1.75         4   \n",
       "\n",
       "   BldgGrade  YrBuilt  YrRenovated  TrafficNoise  LandVal  ImpsVal  ZipCode  \\\n",
       "1          7     1991            0             0    70000   229000    98002   \n",
       "2         10     2005            0             0   203000   590000    98166   \n",
       "3          8     1947            0             0   183000   275000    98166   \n",
       "4          7     1966            0             0   104000   229000    98168   \n",
       "5          7     1948            0             0   104000   205000    98168   \n",
       "\n",
       "   NewConstruction  \n",
       "1            False  \n",
       "2             True  \n",
       "3            False  \n",
       "4            False  \n",
       "5            False  \n",
       "\n",
       "[5 rows x 22 columns]"
      ]
     },
     "execution_count": 69,
     "metadata": {},
     "output_type": "execute_result"
    }
   ],
   "source": [
    "data.head()"
   ]
  },
  {
   "cell_type": "code",
   "execution_count": 70,
   "metadata": {},
   "outputs": [
    {
     "data": {
      "text/html": [
       "<div>\n",
       "<style scoped>\n",
       "    .dataframe tbody tr th:only-of-type {\n",
       "        vertical-align: middle;\n",
       "    }\n",
       "\n",
       "    .dataframe tbody tr th {\n",
       "        vertical-align: top;\n",
       "    }\n",
       "\n",
       "    .dataframe thead th {\n",
       "        text-align: right;\n",
       "    }\n",
       "</style>\n",
       "<table border=\"1\" class=\"dataframe\">\n",
       "  <thead>\n",
       "    <tr style=\"text-align: right;\">\n",
       "      <th></th>\n",
       "      <th>SqFtTotLiving</th>\n",
       "      <th>SqFtLot</th>\n",
       "      <th>Bathrooms</th>\n",
       "      <th>Bedrooms</th>\n",
       "      <th>BldgGrade</th>\n",
       "    </tr>\n",
       "  </thead>\n",
       "  <tbody>\n",
       "    <tr>\n",
       "      <th>1</th>\n",
       "      <td>2400</td>\n",
       "      <td>9373</td>\n",
       "      <td>3.00</td>\n",
       "      <td>6</td>\n",
       "      <td>7</td>\n",
       "    </tr>\n",
       "    <tr>\n",
       "      <th>2</th>\n",
       "      <td>3764</td>\n",
       "      <td>20156</td>\n",
       "      <td>3.75</td>\n",
       "      <td>4</td>\n",
       "      <td>10</td>\n",
       "    </tr>\n",
       "    <tr>\n",
       "      <th>3</th>\n",
       "      <td>2060</td>\n",
       "      <td>26036</td>\n",
       "      <td>1.75</td>\n",
       "      <td>4</td>\n",
       "      <td>8</td>\n",
       "    </tr>\n",
       "    <tr>\n",
       "      <th>4</th>\n",
       "      <td>3200</td>\n",
       "      <td>8618</td>\n",
       "      <td>3.75</td>\n",
       "      <td>5</td>\n",
       "      <td>7</td>\n",
       "    </tr>\n",
       "    <tr>\n",
       "      <th>5</th>\n",
       "      <td>1720</td>\n",
       "      <td>8620</td>\n",
       "      <td>1.75</td>\n",
       "      <td>4</td>\n",
       "      <td>7</td>\n",
       "    </tr>\n",
       "  </tbody>\n",
       "</table>\n",
       "</div>"
      ],
      "text/plain": [
       "   SqFtTotLiving  SqFtLot  Bathrooms  Bedrooms  BldgGrade\n",
       "1           2400     9373       3.00         6          7\n",
       "2           3764    20156       3.75         4         10\n",
       "3           2060    26036       1.75         4          8\n",
       "4           3200     8618       3.75         5          7\n",
       "5           1720     8620       1.75         4          7"
      ]
     },
     "execution_count": 70,
     "metadata": {},
     "output_type": "execute_result"
    }
   ],
   "source": [
    "predictors = ['SqFtTotLiving', 'SqFtLot', 'Bathrooms', 'Bedrooms', 'BldgGrade']\n",
    "outcome = 'AdjSalePrice'\n",
    "data[predictors].head()"
   ]
  },
  {
   "cell_type": "code",
   "execution_count": 71,
   "metadata": {},
   "outputs": [
    {
     "name": "stdout",
     "output_type": "stream",
     "text": [
      "Intercept: -521871.368\n",
      "Coefficients:\n",
      " SqFtTotLiving: 228.8306036024076\n",
      " SqFtLot: -0.06046682065307258\n",
      " Bathrooms: -19442.840398320994\n",
      " Bedrooms: -47769.955185214334\n",
      " BldgGrade: 106106.96307898096\n"
     ]
    }
   ],
   "source": [
    "model = LinearRegression()\n",
    "model.fit(data[predictors], data[outcome])\n",
    "\n",
    "print(f'Intercept: {model.intercept_:.3f}')\n",
    "print('Coefficients:')\n",
    "for name, coef in zip(predictors, model.coef_):\n",
    "    print(f' {name}: {coef}')"
   ]
  },
  {
   "cell_type": "code",
   "execution_count": 72,
   "metadata": {},
   "outputs": [],
   "source": [
    "zip_groups = pd.DataFrame([\n",
    "    *pd.DataFrame({\n",
    "        'ZipCode': data['ZipCode'],\n",
    "        'residual' : data[outcome] - model.predict(data[predictors]),\n",
    "    })\n",
    "    .groupby(['ZipCode'])\n",
    "    .apply(lambda x: {\n",
    "        'ZipCode': x.iloc[0,0],\n",
    "        'count': len(x),\n",
    "        'median_residual': x.residual.median()\n",
    "    })\n",
    "]).sort_values('median_residual')\n",
    "zip_groups['cum_count'] = np.cumsum(zip_groups['count'])\n",
    "zip_groups['ZipGroup'] = pd.qcut(zip_groups['cum_count'], 5, labels=False, retbins=False)\n",
    "to_join = zip_groups[['ZipCode', 'ZipGroup']].set_index('ZipCode')\n",
    "data = data.join(to_join, on='ZipCode')\n",
    "data['ZipGroup'] = data['ZipGroup'].astype('category')"
   ]
  },
  {
   "cell_type": "code",
   "execution_count": 73,
   "metadata": {},
   "outputs": [
    {
     "name": "stdout",
     "output_type": "stream",
     "text": [
      "Intercept: -666637.469\n",
      "Coefficients:\n",
      " SqFtTotLiving: 210.61266005580183\n",
      " SqFtLot: 0.4549871385465901\n",
      " Bathrooms: 5928.425640001864\n",
      " Bedrooms: -41682.871840744745\n",
      " BldgGrade: 98541.18352725943\n",
      " PropertyType_Single Family: 19323.625287919334\n",
      " PropertyType_Townhouse: -78198.72092762386\n",
      " ZipGroup_1: 53317.173306597986\n",
      " ZipGroup_2: 116251.58883563547\n",
      " ZipGroup_3: 178360.53178793367\n",
      " ZipGroup_4: 338408.60185652017\n"
     ]
    }
   ],
   "source": [
    "new_predictors = ['SqFtTotLiving', 'SqFtLot', 'Bathrooms', 'Bedrooms', 'BldgGrade', 'PropertyType', 'ZipGroup']\n",
    "outcome = 'AdjSalePrice'\n",
    "X = pd.get_dummies(data[new_predictors], drop_first=True)\n",
    "confounding_model = LinearRegression()\n",
    "confounding_model.fit(X, data[outcome])\n",
    "print(f'Intercept: {confounding_model.intercept_:.3f}')\n",
    "print('Coefficients:')\n",
    "for name, coef in zip(X.columns, confounding_model.coef_):\n",
    "    print(f' {name}: {coef}')"
   ]
  },
  {
   "cell_type": "code",
   "execution_count": 74,
   "metadata": {},
   "outputs": [],
   "source": [
    "lung = pd.read_csv(\"data/lung.txt\", sep=\"\\t\")"
   ]
  },
  {
   "cell_type": "code",
   "execution_count": 75,
   "metadata": {},
   "outputs": [
    {
     "name": "stdout",
     "output_type": "stream",
     "text": [
      "<class 'pandas.core.frame.DataFrame'>\n",
      "RangeIndex: 725 entries, 0 to 724\n",
      "Data columns (total 6 columns):\n",
      " #   Column     Non-Null Count  Dtype  \n",
      "---  ------     --------------  -----  \n",
      " 0   LungCap    725 non-null    float64\n",
      " 1   Age        725 non-null    int64  \n",
      " 2   Height     725 non-null    float64\n",
      " 3   Smoke      725 non-null    object \n",
      " 4   Gender     725 non-null    object \n",
      " 5   Caesarean  725 non-null    object \n",
      "dtypes: float64(2), int64(1), object(3)\n",
      "memory usage: 34.1+ KB\n"
     ]
    }
   ],
   "source": [
    "lung.info()"
   ]
  },
  {
   "cell_type": "code",
   "execution_count": 76,
   "metadata": {},
   "outputs": [
    {
     "data": {
      "text/html": [
       "<div>\n",
       "<style scoped>\n",
       "    .dataframe tbody tr th:only-of-type {\n",
       "        vertical-align: middle;\n",
       "    }\n",
       "\n",
       "    .dataframe tbody tr th {\n",
       "        vertical-align: top;\n",
       "    }\n",
       "\n",
       "    .dataframe thead th {\n",
       "        text-align: right;\n",
       "    }\n",
       "</style>\n",
       "<table border=\"1\" class=\"dataframe\">\n",
       "  <thead>\n",
       "    <tr style=\"text-align: right;\">\n",
       "      <th></th>\n",
       "      <th>LungCap</th>\n",
       "      <th>Age</th>\n",
       "      <th>Height</th>\n",
       "      <th>Smoke</th>\n",
       "      <th>Gender</th>\n",
       "      <th>Caesarean</th>\n",
       "    </tr>\n",
       "  </thead>\n",
       "  <tbody>\n",
       "    <tr>\n",
       "      <th>0</th>\n",
       "      <td>6.475</td>\n",
       "      <td>6</td>\n",
       "      <td>62.1</td>\n",
       "      <td>no</td>\n",
       "      <td>male</td>\n",
       "      <td>no</td>\n",
       "    </tr>\n",
       "    <tr>\n",
       "      <th>1</th>\n",
       "      <td>10.125</td>\n",
       "      <td>18</td>\n",
       "      <td>74.7</td>\n",
       "      <td>yes</td>\n",
       "      <td>female</td>\n",
       "      <td>no</td>\n",
       "    </tr>\n",
       "    <tr>\n",
       "      <th>2</th>\n",
       "      <td>9.550</td>\n",
       "      <td>16</td>\n",
       "      <td>69.7</td>\n",
       "      <td>no</td>\n",
       "      <td>female</td>\n",
       "      <td>yes</td>\n",
       "    </tr>\n",
       "    <tr>\n",
       "      <th>3</th>\n",
       "      <td>11.125</td>\n",
       "      <td>14</td>\n",
       "      <td>71.0</td>\n",
       "      <td>no</td>\n",
       "      <td>male</td>\n",
       "      <td>no</td>\n",
       "    </tr>\n",
       "    <tr>\n",
       "      <th>4</th>\n",
       "      <td>4.800</td>\n",
       "      <td>5</td>\n",
       "      <td>56.9</td>\n",
       "      <td>no</td>\n",
       "      <td>male</td>\n",
       "      <td>no</td>\n",
       "    </tr>\n",
       "  </tbody>\n",
       "</table>\n",
       "</div>"
      ],
      "text/plain": [
       "   LungCap  Age  Height Smoke  Gender Caesarean\n",
       "0    6.475    6    62.1    no    male        no\n",
       "1   10.125   18    74.7   yes  female        no\n",
       "2    9.550   16    69.7    no  female       yes\n",
       "3   11.125   14    71.0    no    male        no\n",
       "4    4.800    5    56.9    no    male        no"
      ]
     },
     "execution_count": 76,
     "metadata": {},
     "output_type": "execute_result"
    }
   ],
   "source": [
    "lung.head()"
   ]
  },
  {
   "cell_type": "code",
   "execution_count": 79,
   "metadata": {},
   "outputs": [
    {
     "data": {
      "application/vnd.plotly.v1+json": {
       "config": {
        "plotlyServerURL": "https://plot.ly"
       },
       "data": [
        {
         "alignmentgroup": "True",
         "hovertemplate": "Smoke=%{x}<br>Age=%{y}<extra></extra>",
         "legendgroup": "",
         "marker": {
          "color": "#636efa"
         },
         "name": "",
         "notched": false,
         "offsetgroup": "",
         "orientation": "v",
         "showlegend": false,
         "type": "box",
         "x": [
          "no",
          "yes",
          "no",
          "no",
          "no",
          "no",
          "no",
          "no",
          "no",
          "no",
          "no",
          "no",
          "no",
          "no",
          "no",
          "no",
          "no",
          "no",
          "yes",
          "no",
          "no",
          "no",
          "no",
          "no",
          "no",
          "no",
          "no",
          "no",
          "no",
          "yes",
          "no",
          "no",
          "no",
          "no",
          "no",
          "no",
          "no",
          "no",
          "no",
          "no",
          "no",
          "no",
          "no",
          "no",
          "no",
          "no",
          "no",
          "no",
          "no",
          "no",
          "no",
          "no",
          "no",
          "no",
          "no",
          "no",
          "no",
          "no",
          "no",
          "no",
          "no",
          "no",
          "no",
          "no",
          "no",
          "yes",
          "yes",
          "no",
          "no",
          "no",
          "no",
          "no",
          "no",
          "no",
          "no",
          "yes",
          "no",
          "no",
          "no",
          "no",
          "no",
          "no",
          "no",
          "no",
          "no",
          "no",
          "no",
          "no",
          "yes",
          "no",
          "no",
          "no",
          "yes",
          "no",
          "yes",
          "no",
          "yes",
          "no",
          "no",
          "no",
          "yes",
          "no",
          "no",
          "no",
          "no",
          "no",
          "no",
          "no",
          "no",
          "no",
          "no",
          "no",
          "no",
          "no",
          "no",
          "no",
          "no",
          "no",
          "no",
          "yes",
          "no",
          "yes",
          "no",
          "no",
          "no",
          "no",
          "no",
          "no",
          "no",
          "yes",
          "no",
          "no",
          "no",
          "no",
          "no",
          "no",
          "no",
          "no",
          "no",
          "no",
          "no",
          "no",
          "no",
          "no",
          "no",
          "no",
          "no",
          "no",
          "no",
          "no",
          "no",
          "no",
          "no",
          "no",
          "no",
          "no",
          "yes",
          "no",
          "no",
          "no",
          "no",
          "no",
          "no",
          "no",
          "no",
          "no",
          "no",
          "no",
          "no",
          "no",
          "no",
          "no",
          "no",
          "yes",
          "no",
          "yes",
          "no",
          "no",
          "yes",
          "no",
          "no",
          "no",
          "no",
          "no",
          "no",
          "no",
          "no",
          "no",
          "no",
          "no",
          "no",
          "no",
          "no",
          "no",
          "no",
          "no",
          "no",
          "no",
          "no",
          "no",
          "no",
          "no",
          "no",
          "no",
          "no",
          "no",
          "no",
          "no",
          "no",
          "no",
          "no",
          "no",
          "no",
          "no",
          "no",
          "no",
          "no",
          "no",
          "yes",
          "no",
          "yes",
          "no",
          "no",
          "no",
          "no",
          "no",
          "no",
          "no",
          "no",
          "no",
          "no",
          "no",
          "no",
          "no",
          "no",
          "no",
          "no",
          "yes",
          "yes",
          "no",
          "no",
          "no",
          "no",
          "no",
          "no",
          "no",
          "no",
          "no",
          "yes",
          "no",
          "no",
          "no",
          "no",
          "no",
          "no",
          "no",
          "yes",
          "no",
          "no",
          "yes",
          "no",
          "no",
          "no",
          "no",
          "no",
          "no",
          "no",
          "no",
          "no",
          "no",
          "no",
          "no",
          "no",
          "no",
          "no",
          "no",
          "no",
          "no",
          "no",
          "no",
          "yes",
          "no",
          "no",
          "no",
          "no",
          "no",
          "no",
          "no",
          "no",
          "yes",
          "no",
          "yes",
          "no",
          "no",
          "no",
          "no",
          "no",
          "no",
          "no",
          "no",
          "yes",
          "no",
          "no",
          "no",
          "no",
          "no",
          "yes",
          "no",
          "no",
          "no",
          "no",
          "no",
          "no",
          "no",
          "no",
          "no",
          "yes",
          "no",
          "no",
          "no",
          "no",
          "no",
          "no",
          "no",
          "no",
          "no",
          "no",
          "no",
          "no",
          "no",
          "no",
          "no",
          "no",
          "no",
          "no",
          "no",
          "no",
          "no",
          "no",
          "no",
          "no",
          "yes",
          "no",
          "no",
          "no",
          "no",
          "no",
          "no",
          "no",
          "no",
          "no",
          "no",
          "no",
          "no",
          "no",
          "no",
          "no",
          "no",
          "yes",
          "no",
          "no",
          "no",
          "yes",
          "no",
          "no",
          "no",
          "no",
          "no",
          "yes",
          "no",
          "no",
          "no",
          "no",
          "no",
          "no",
          "no",
          "no",
          "no",
          "no",
          "no",
          "no",
          "no",
          "yes",
          "no",
          "no",
          "no",
          "no",
          "yes",
          "no",
          "no",
          "no",
          "no",
          "no",
          "no",
          "no",
          "no",
          "no",
          "no",
          "no",
          "no",
          "no",
          "no",
          "no",
          "no",
          "no",
          "no",
          "no",
          "no",
          "no",
          "no",
          "no",
          "yes",
          "no",
          "no",
          "no",
          "no",
          "no",
          "yes",
          "yes",
          "no",
          "no",
          "no",
          "no",
          "yes",
          "no",
          "no",
          "no",
          "no",
          "yes",
          "no",
          "no",
          "no",
          "no",
          "no",
          "yes",
          "no",
          "no",
          "no",
          "no",
          "no",
          "no",
          "no",
          "yes",
          "no",
          "no",
          "no",
          "no",
          "no",
          "no",
          "no",
          "no",
          "no",
          "no",
          "no",
          "no",
          "no",
          "no",
          "yes",
          "no",
          "no",
          "no",
          "no",
          "no",
          "no",
          "no",
          "no",
          "no",
          "yes",
          "no",
          "no",
          "no",
          "no",
          "no",
          "yes",
          "yes",
          "yes",
          "no",
          "no",
          "yes",
          "no",
          "no",
          "no",
          "no",
          "yes",
          "no",
          "no",
          "no",
          "no",
          "no",
          "no",
          "no",
          "no",
          "no",
          "no",
          "no",
          "no",
          "no",
          "no",
          "no",
          "no",
          "no",
          "no",
          "no",
          "no",
          "no",
          "no",
          "no",
          "no",
          "no",
          "no",
          "no",
          "yes",
          "yes",
          "no",
          "yes",
          "no",
          "no",
          "no",
          "no",
          "no",
          "no",
          "no",
          "no",
          "no",
          "no",
          "no",
          "no",
          "no",
          "yes",
          "no",
          "no",
          "no",
          "no",
          "no",
          "no",
          "no",
          "no",
          "no",
          "no",
          "no",
          "no",
          "no",
          "no",
          "no",
          "no",
          "no",
          "no",
          "no",
          "no",
          "no",
          "yes",
          "no",
          "no",
          "no",
          "no",
          "no",
          "no",
          "no",
          "no",
          "no",
          "no",
          "yes",
          "no",
          "no",
          "yes",
          "no",
          "no",
          "no",
          "no",
          "no",
          "no",
          "yes",
          "no",
          "no",
          "no",
          "no",
          "no",
          "yes",
          "no",
          "no",
          "no",
          "no",
          "no",
          "no",
          "no",
          "no",
          "yes",
          "no",
          "no",
          "no",
          "no",
          "no",
          "no",
          "no",
          "no",
          "no",
          "no",
          "no",
          "no",
          "no",
          "no",
          "no",
          "no",
          "no",
          "no",
          "no",
          "no",
          "yes",
          "no",
          "no",
          "no",
          "no",
          "no",
          "no",
          "no",
          "no",
          "no",
          "no",
          "yes",
          "no",
          "no",
          "yes",
          "no",
          "no",
          "no",
          "no",
          "no",
          "no",
          "no",
          "no",
          "no",
          "no",
          "no",
          "no",
          "no",
          "no",
          "no",
          "yes",
          "no",
          "no",
          "no",
          "no",
          "yes",
          "yes",
          "no",
          "no",
          "no",
          "no",
          "no",
          "no",
          "no",
          "no",
          "no",
          "no",
          "no",
          "no",
          "no",
          "no",
          "yes",
          "no",
          "no",
          "no",
          "no",
          "no",
          "no",
          "no",
          "no",
          "no",
          "no",
          "no",
          "no",
          "yes",
          "no",
          "no",
          "no",
          "no",
          "yes",
          "no",
          "yes",
          "no",
          "no",
          "no",
          "no",
          "yes",
          "no",
          "no",
          "no",
          "no",
          "no",
          "no",
          "no",
          "no",
          "no",
          "no",
          "no",
          "no",
          "no",
          "yes",
          "yes",
          "no",
          "no",
          "no",
          "no",
          "no",
          "no",
          "no",
          "no",
          "no",
          "no",
          "no",
          "no",
          "no",
          "no",
          "no",
          "no",
          "no",
          "no",
          "yes",
          "no",
          "no",
          "no",
          "yes",
          "yes",
          "no",
          "no"
         ],
         "x0": " ",
         "xaxis": "x",
         "y": [
          6,
          18,
          16,
          14,
          5,
          11,
          8,
          11,
          15,
          11,
          19,
          17,
          12,
          10,
          10,
          13,
          15,
          8,
          11,
          14,
          6,
          8,
          16,
          11,
          11,
          12,
          12,
          9,
          4,
          18,
          4,
          13,
          13,
          13,
          12,
          10,
          6,
          9,
          11,
          17,
          14,
          17,
          8,
          12,
          6,
          11,
          11,
          12,
          17,
          7,
          15,
          15,
          11,
          10,
          18,
          6,
          13,
          19,
          9,
          12,
          12,
          14,
          9,
          13,
          13,
          13,
          11,
          11,
          11,
          12,
          14,
          11,
          11,
          13,
          13,
          12,
          14,
          9,
          17,
          11,
          12,
          16,
          17,
          19,
          14,
          12,
          19,
          11,
          15,
          19,
          9,
          14,
          13,
          14,
          19,
          18,
          16,
          7,
          16,
          10,
          13,
          14,
          13,
          16,
          16,
          5,
          16,
          12,
          7,
          7,
          15,
          18,
          8,
          3,
          15,
          15,
          7,
          18,
          8,
          17,
          16,
          12,
          17,
          16,
          19,
          12,
          17,
          19,
          12,
          12,
          15,
          17,
          13,
          12,
          16,
          13,
          15,
          15,
          14,
          13,
          6,
          18,
          18,
          18,
          9,
          17,
          14,
          14,
          14,
          3,
          11,
          8,
          9,
          8,
          16,
          7,
          11,
          5,
          16,
          11,
          16,
          10,
          12,
          19,
          7,
          8,
          13,
          17,
          9,
          8,
          15,
          6,
          14,
          10,
          17,
          15,
          10,
          16,
          17,
          17,
          13,
          17,
          15,
          16,
          18,
          10,
          16,
          8,
          14,
          4,
          17,
          15,
          10,
          13,
          16,
          17,
          19,
          11,
          8,
          12,
          13,
          16,
          15,
          18,
          8,
          5,
          10,
          8,
          13,
          7,
          11,
          15,
          10,
          15,
          8,
          7,
          10,
          18,
          15,
          19,
          14,
          3,
          6,
          12,
          14,
          8,
          15,
          5,
          3,
          11,
          11,
          13,
          18,
          19,
          15,
          18,
          8,
          11,
          17,
          14,
          12,
          14,
          8,
          12,
          11,
          6,
          9,
          11,
          18,
          18,
          19,
          9,
          18,
          9,
          7,
          8,
          18,
          11,
          12,
          11,
          14,
          14,
          5,
          12,
          19,
          9,
          17,
          10,
          9,
          9,
          10,
          14,
          14,
          12,
          17,
          10,
          12,
          13,
          11,
          12,
          17,
          14,
          15,
          8,
          13,
          11,
          10,
          6,
          10,
          18,
          6,
          18,
          3,
          15,
          13,
          19,
          11,
          13,
          5,
          8,
          18,
          13,
          10,
          18,
          12,
          9,
          15,
          14,
          8,
          19,
          7,
          13,
          14,
          19,
          9,
          12,
          10,
          3,
          13,
          16,
          13,
          10,
          15,
          11,
          11,
          19,
          15,
          11,
          19,
          8,
          7,
          10,
          13,
          14,
          14,
          9,
          11,
          13,
          15,
          18,
          15,
          13,
          9,
          8,
          7,
          17,
          11,
          12,
          9,
          14,
          8,
          16,
          17,
          9,
          12,
          19,
          17,
          15,
          12,
          7,
          8,
          15,
          18,
          11,
          10,
          9,
          11,
          16,
          16,
          18,
          16,
          10,
          13,
          16,
          18,
          9,
          13,
          11,
          5,
          6,
          12,
          9,
          15,
          13,
          16,
          18,
          11,
          13,
          7,
          4,
          13,
          16,
          17,
          10,
          11,
          7,
          11,
          16,
          13,
          8,
          3,
          12,
          15,
          8,
          4,
          13,
          7,
          15,
          15,
          18,
          7,
          13,
          18,
          19,
          10,
          6,
          13,
          14,
          15,
          5,
          12,
          17,
          8,
          12,
          12,
          12,
          7,
          19,
          17,
          16,
          6,
          12,
          6,
          6,
          14,
          15,
          7,
          14,
          16,
          11,
          9,
          19,
          17,
          15,
          13,
          5,
          11,
          11,
          10,
          13,
          10,
          9,
          15,
          13,
          17,
          5,
          14,
          10,
          13,
          8,
          17,
          13,
          10,
          10,
          16,
          5,
          15,
          11,
          12,
          19,
          10,
          18,
          13,
          15,
          16,
          17,
          14,
          9,
          16,
          16,
          16,
          16,
          12,
          16,
          7,
          18,
          4,
          19,
          11,
          15,
          8,
          15,
          5,
          6,
          19,
          14,
          14,
          7,
          15,
          13,
          9,
          13,
          18,
          5,
          14,
          7,
          18,
          17,
          14,
          13,
          11,
          12,
          18,
          3,
          14,
          9,
          10,
          9,
          15,
          14,
          16,
          12,
          9,
          13,
          15,
          11,
          6,
          12,
          17,
          12,
          3,
          12,
          7,
          12,
          8,
          9,
          15,
          11,
          15,
          12,
          9,
          10,
          6,
          12,
          14,
          15,
          8,
          19,
          12,
          7,
          17,
          7,
          12,
          13,
          15,
          15,
          6,
          13,
          19,
          12,
          9,
          17,
          19,
          10,
          12,
          14,
          12,
          18,
          5,
          19,
          17,
          13,
          9,
          7,
          16,
          16,
          17,
          17,
          18,
          7,
          7,
          12,
          12,
          8,
          8,
          14,
          11,
          17,
          13,
          13,
          15,
          5,
          10,
          15,
          11,
          3,
          6,
          7,
          12,
          14,
          13,
          19,
          15,
          14,
          7,
          16,
          16,
          16,
          7,
          7,
          16,
          15,
          12,
          6,
          11,
          13,
          15,
          13,
          18,
          15,
          3,
          16,
          12,
          12,
          5,
          12,
          14,
          6,
          19,
          9,
          11,
          10,
          7,
          16,
          5,
          8,
          15,
          10,
          10,
          13,
          18,
          12,
          13,
          19,
          10,
          19,
          16,
          13,
          13,
          14,
          9,
          8,
          10,
          13,
          12,
          6,
          14,
          18,
          14,
          3,
          16,
          10,
          12,
          10,
          16,
          10,
          8,
          10,
          5,
          8,
          8,
          18,
          6,
          10,
          14,
          17,
          18,
          14,
          14,
          10,
          13,
          18,
          11,
          15,
          19,
          16,
          16,
          15,
          8,
          7,
          12,
          10,
          13,
          7,
          13,
          14,
          9,
          16,
          15,
          13,
          10,
          14,
          12,
          7,
          15,
          19,
          15,
          12,
          15,
          10,
          17,
          5,
          3,
          14,
          16,
          19,
          11,
          16,
          17,
          9,
          9,
          18,
          11,
          15,
          10
         ],
         "y0": " ",
         "yaxis": "y"
        }
       ],
       "layout": {
        "boxmode": "group",
        "legend": {
         "tracegroupgap": 0
        },
        "margin": {
         "t": 60
        },
        "template": {
         "data": {
          "bar": [
           {
            "error_x": {
             "color": "#2a3f5f"
            },
            "error_y": {
             "color": "#2a3f5f"
            },
            "marker": {
             "line": {
              "color": "#E5ECF6",
              "width": 0.5
             },
             "pattern": {
              "fillmode": "overlay",
              "size": 10,
              "solidity": 0.2
             }
            },
            "type": "bar"
           }
          ],
          "barpolar": [
           {
            "marker": {
             "line": {
              "color": "#E5ECF6",
              "width": 0.5
             },
             "pattern": {
              "fillmode": "overlay",
              "size": 10,
              "solidity": 0.2
             }
            },
            "type": "barpolar"
           }
          ],
          "carpet": [
           {
            "aaxis": {
             "endlinecolor": "#2a3f5f",
             "gridcolor": "white",
             "linecolor": "white",
             "minorgridcolor": "white",
             "startlinecolor": "#2a3f5f"
            },
            "baxis": {
             "endlinecolor": "#2a3f5f",
             "gridcolor": "white",
             "linecolor": "white",
             "minorgridcolor": "white",
             "startlinecolor": "#2a3f5f"
            },
            "type": "carpet"
           }
          ],
          "choropleth": [
           {
            "colorbar": {
             "outlinewidth": 0,
             "ticks": ""
            },
            "type": "choropleth"
           }
          ],
          "contour": [
           {
            "colorbar": {
             "outlinewidth": 0,
             "ticks": ""
            },
            "colorscale": [
             [
              0,
              "#0d0887"
             ],
             [
              0.1111111111111111,
              "#46039f"
             ],
             [
              0.2222222222222222,
              "#7201a8"
             ],
             [
              0.3333333333333333,
              "#9c179e"
             ],
             [
              0.4444444444444444,
              "#bd3786"
             ],
             [
              0.5555555555555556,
              "#d8576b"
             ],
             [
              0.6666666666666666,
              "#ed7953"
             ],
             [
              0.7777777777777778,
              "#fb9f3a"
             ],
             [
              0.8888888888888888,
              "#fdca26"
             ],
             [
              1,
              "#f0f921"
             ]
            ],
            "type": "contour"
           }
          ],
          "contourcarpet": [
           {
            "colorbar": {
             "outlinewidth": 0,
             "ticks": ""
            },
            "type": "contourcarpet"
           }
          ],
          "heatmap": [
           {
            "colorbar": {
             "outlinewidth": 0,
             "ticks": ""
            },
            "colorscale": [
             [
              0,
              "#0d0887"
             ],
             [
              0.1111111111111111,
              "#46039f"
             ],
             [
              0.2222222222222222,
              "#7201a8"
             ],
             [
              0.3333333333333333,
              "#9c179e"
             ],
             [
              0.4444444444444444,
              "#bd3786"
             ],
             [
              0.5555555555555556,
              "#d8576b"
             ],
             [
              0.6666666666666666,
              "#ed7953"
             ],
             [
              0.7777777777777778,
              "#fb9f3a"
             ],
             [
              0.8888888888888888,
              "#fdca26"
             ],
             [
              1,
              "#f0f921"
             ]
            ],
            "type": "heatmap"
           }
          ],
          "heatmapgl": [
           {
            "colorbar": {
             "outlinewidth": 0,
             "ticks": ""
            },
            "colorscale": [
             [
              0,
              "#0d0887"
             ],
             [
              0.1111111111111111,
              "#46039f"
             ],
             [
              0.2222222222222222,
              "#7201a8"
             ],
             [
              0.3333333333333333,
              "#9c179e"
             ],
             [
              0.4444444444444444,
              "#bd3786"
             ],
             [
              0.5555555555555556,
              "#d8576b"
             ],
             [
              0.6666666666666666,
              "#ed7953"
             ],
             [
              0.7777777777777778,
              "#fb9f3a"
             ],
             [
              0.8888888888888888,
              "#fdca26"
             ],
             [
              1,
              "#f0f921"
             ]
            ],
            "type": "heatmapgl"
           }
          ],
          "histogram": [
           {
            "marker": {
             "pattern": {
              "fillmode": "overlay",
              "size": 10,
              "solidity": 0.2
             }
            },
            "type": "histogram"
           }
          ],
          "histogram2d": [
           {
            "colorbar": {
             "outlinewidth": 0,
             "ticks": ""
            },
            "colorscale": [
             [
              0,
              "#0d0887"
             ],
             [
              0.1111111111111111,
              "#46039f"
             ],
             [
              0.2222222222222222,
              "#7201a8"
             ],
             [
              0.3333333333333333,
              "#9c179e"
             ],
             [
              0.4444444444444444,
              "#bd3786"
             ],
             [
              0.5555555555555556,
              "#d8576b"
             ],
             [
              0.6666666666666666,
              "#ed7953"
             ],
             [
              0.7777777777777778,
              "#fb9f3a"
             ],
             [
              0.8888888888888888,
              "#fdca26"
             ],
             [
              1,
              "#f0f921"
             ]
            ],
            "type": "histogram2d"
           }
          ],
          "histogram2dcontour": [
           {
            "colorbar": {
             "outlinewidth": 0,
             "ticks": ""
            },
            "colorscale": [
             [
              0,
              "#0d0887"
             ],
             [
              0.1111111111111111,
              "#46039f"
             ],
             [
              0.2222222222222222,
              "#7201a8"
             ],
             [
              0.3333333333333333,
              "#9c179e"
             ],
             [
              0.4444444444444444,
              "#bd3786"
             ],
             [
              0.5555555555555556,
              "#d8576b"
             ],
             [
              0.6666666666666666,
              "#ed7953"
             ],
             [
              0.7777777777777778,
              "#fb9f3a"
             ],
             [
              0.8888888888888888,
              "#fdca26"
             ],
             [
              1,
              "#f0f921"
             ]
            ],
            "type": "histogram2dcontour"
           }
          ],
          "mesh3d": [
           {
            "colorbar": {
             "outlinewidth": 0,
             "ticks": ""
            },
            "type": "mesh3d"
           }
          ],
          "parcoords": [
           {
            "line": {
             "colorbar": {
              "outlinewidth": 0,
              "ticks": ""
             }
            },
            "type": "parcoords"
           }
          ],
          "pie": [
           {
            "automargin": true,
            "type": "pie"
           }
          ],
          "scatter": [
           {
            "marker": {
             "colorbar": {
              "outlinewidth": 0,
              "ticks": ""
             }
            },
            "type": "scatter"
           }
          ],
          "scatter3d": [
           {
            "line": {
             "colorbar": {
              "outlinewidth": 0,
              "ticks": ""
             }
            },
            "marker": {
             "colorbar": {
              "outlinewidth": 0,
              "ticks": ""
             }
            },
            "type": "scatter3d"
           }
          ],
          "scattercarpet": [
           {
            "marker": {
             "colorbar": {
              "outlinewidth": 0,
              "ticks": ""
             }
            },
            "type": "scattercarpet"
           }
          ],
          "scattergeo": [
           {
            "marker": {
             "colorbar": {
              "outlinewidth": 0,
              "ticks": ""
             }
            },
            "type": "scattergeo"
           }
          ],
          "scattergl": [
           {
            "marker": {
             "colorbar": {
              "outlinewidth": 0,
              "ticks": ""
             }
            },
            "type": "scattergl"
           }
          ],
          "scattermapbox": [
           {
            "marker": {
             "colorbar": {
              "outlinewidth": 0,
              "ticks": ""
             }
            },
            "type": "scattermapbox"
           }
          ],
          "scatterpolar": [
           {
            "marker": {
             "colorbar": {
              "outlinewidth": 0,
              "ticks": ""
             }
            },
            "type": "scatterpolar"
           }
          ],
          "scatterpolargl": [
           {
            "marker": {
             "colorbar": {
              "outlinewidth": 0,
              "ticks": ""
             }
            },
            "type": "scatterpolargl"
           }
          ],
          "scatterternary": [
           {
            "marker": {
             "colorbar": {
              "outlinewidth": 0,
              "ticks": ""
             }
            },
            "type": "scatterternary"
           }
          ],
          "surface": [
           {
            "colorbar": {
             "outlinewidth": 0,
             "ticks": ""
            },
            "colorscale": [
             [
              0,
              "#0d0887"
             ],
             [
              0.1111111111111111,
              "#46039f"
             ],
             [
              0.2222222222222222,
              "#7201a8"
             ],
             [
              0.3333333333333333,
              "#9c179e"
             ],
             [
              0.4444444444444444,
              "#bd3786"
             ],
             [
              0.5555555555555556,
              "#d8576b"
             ],
             [
              0.6666666666666666,
              "#ed7953"
             ],
             [
              0.7777777777777778,
              "#fb9f3a"
             ],
             [
              0.8888888888888888,
              "#fdca26"
             ],
             [
              1,
              "#f0f921"
             ]
            ],
            "type": "surface"
           }
          ],
          "table": [
           {
            "cells": {
             "fill": {
              "color": "#EBF0F8"
             },
             "line": {
              "color": "white"
             }
            },
            "header": {
             "fill": {
              "color": "#C8D4E3"
             },
             "line": {
              "color": "white"
             }
            },
            "type": "table"
           }
          ]
         },
         "layout": {
          "annotationdefaults": {
           "arrowcolor": "#2a3f5f",
           "arrowhead": 0,
           "arrowwidth": 1
          },
          "autotypenumbers": "strict",
          "coloraxis": {
           "colorbar": {
            "outlinewidth": 0,
            "ticks": ""
           }
          },
          "colorscale": {
           "diverging": [
            [
             0,
             "#8e0152"
            ],
            [
             0.1,
             "#c51b7d"
            ],
            [
             0.2,
             "#de77ae"
            ],
            [
             0.3,
             "#f1b6da"
            ],
            [
             0.4,
             "#fde0ef"
            ],
            [
             0.5,
             "#f7f7f7"
            ],
            [
             0.6,
             "#e6f5d0"
            ],
            [
             0.7,
             "#b8e186"
            ],
            [
             0.8,
             "#7fbc41"
            ],
            [
             0.9,
             "#4d9221"
            ],
            [
             1,
             "#276419"
            ]
           ],
           "sequential": [
            [
             0,
             "#0d0887"
            ],
            [
             0.1111111111111111,
             "#46039f"
            ],
            [
             0.2222222222222222,
             "#7201a8"
            ],
            [
             0.3333333333333333,
             "#9c179e"
            ],
            [
             0.4444444444444444,
             "#bd3786"
            ],
            [
             0.5555555555555556,
             "#d8576b"
            ],
            [
             0.6666666666666666,
             "#ed7953"
            ],
            [
             0.7777777777777778,
             "#fb9f3a"
            ],
            [
             0.8888888888888888,
             "#fdca26"
            ],
            [
             1,
             "#f0f921"
            ]
           ],
           "sequentialminus": [
            [
             0,
             "#0d0887"
            ],
            [
             0.1111111111111111,
             "#46039f"
            ],
            [
             0.2222222222222222,
             "#7201a8"
            ],
            [
             0.3333333333333333,
             "#9c179e"
            ],
            [
             0.4444444444444444,
             "#bd3786"
            ],
            [
             0.5555555555555556,
             "#d8576b"
            ],
            [
             0.6666666666666666,
             "#ed7953"
            ],
            [
             0.7777777777777778,
             "#fb9f3a"
            ],
            [
             0.8888888888888888,
             "#fdca26"
            ],
            [
             1,
             "#f0f921"
            ]
           ]
          },
          "colorway": [
           "#636efa",
           "#EF553B",
           "#00cc96",
           "#ab63fa",
           "#FFA15A",
           "#19d3f3",
           "#FF6692",
           "#B6E880",
           "#FF97FF",
           "#FECB52"
          ],
          "font": {
           "color": "#2a3f5f"
          },
          "geo": {
           "bgcolor": "white",
           "lakecolor": "white",
           "landcolor": "#E5ECF6",
           "showlakes": true,
           "showland": true,
           "subunitcolor": "white"
          },
          "hoverlabel": {
           "align": "left"
          },
          "hovermode": "closest",
          "mapbox": {
           "style": "light"
          },
          "paper_bgcolor": "white",
          "plot_bgcolor": "#E5ECF6",
          "polar": {
           "angularaxis": {
            "gridcolor": "white",
            "linecolor": "white",
            "ticks": ""
           },
           "bgcolor": "#E5ECF6",
           "radialaxis": {
            "gridcolor": "white",
            "linecolor": "white",
            "ticks": ""
           }
          },
          "scene": {
           "xaxis": {
            "backgroundcolor": "#E5ECF6",
            "gridcolor": "white",
            "gridwidth": 2,
            "linecolor": "white",
            "showbackground": true,
            "ticks": "",
            "zerolinecolor": "white"
           },
           "yaxis": {
            "backgroundcolor": "#E5ECF6",
            "gridcolor": "white",
            "gridwidth": 2,
            "linecolor": "white",
            "showbackground": true,
            "ticks": "",
            "zerolinecolor": "white"
           },
           "zaxis": {
            "backgroundcolor": "#E5ECF6",
            "gridcolor": "white",
            "gridwidth": 2,
            "linecolor": "white",
            "showbackground": true,
            "ticks": "",
            "zerolinecolor": "white"
           }
          },
          "shapedefaults": {
           "line": {
            "color": "#2a3f5f"
           }
          },
          "ternary": {
           "aaxis": {
            "gridcolor": "white",
            "linecolor": "white",
            "ticks": ""
           },
           "baxis": {
            "gridcolor": "white",
            "linecolor": "white",
            "ticks": ""
           },
           "bgcolor": "#E5ECF6",
           "caxis": {
            "gridcolor": "white",
            "linecolor": "white",
            "ticks": ""
           }
          },
          "title": {
           "x": 0.05
          },
          "xaxis": {
           "automargin": true,
           "gridcolor": "white",
           "linecolor": "white",
           "ticks": "",
           "title": {
            "standoff": 15
           },
           "zerolinecolor": "white",
           "zerolinewidth": 2
          },
          "yaxis": {
           "automargin": true,
           "gridcolor": "white",
           "linecolor": "white",
           "ticks": "",
           "title": {
            "standoff": 15
           },
           "zerolinecolor": "white",
           "zerolinewidth": 2
          }
         }
        },
        "xaxis": {
         "anchor": "y",
         "domain": [
          0,
          1
         ],
         "title": {
          "text": "Smoke"
         }
        },
        "yaxis": {
         "anchor": "x",
         "domain": [
          0,
          1
         ],
         "title": {
          "text": "Age"
         }
        }
       }
      }
     },
     "metadata": {},
     "output_type": "display_data"
    }
   ],
   "source": [
    "import plotly.express as px\n",
    "fig = px.box(lung, x=\"Smoke\", y=\"Age\")\n",
    "fig.show()"
   ]
  },
  {
   "cell_type": "code",
   "execution_count": 80,
   "metadata": {},
   "outputs": [
    {
     "data": {
      "application/vnd.plotly.v1+json": {
       "config": {
        "plotlyServerURL": "https://plot.ly"
       },
       "data": [
        {
         "hovertemplate": "Age=%{x}<br>FEV=%{y}<extra></extra>",
         "legendgroup": "",
         "marker": {
          "color": "#636efa",
          "symbol": "circle"
         },
         "mode": "markers",
         "name": "",
         "orientation": "v",
         "showlegend": false,
         "type": "scatter",
         "x": [
          6,
          18,
          16,
          14,
          5,
          11,
          8,
          11,
          15,
          11,
          19,
          17,
          12,
          10,
          10,
          13,
          15,
          8,
          11,
          14,
          6,
          8,
          16,
          11,
          11,
          12,
          12,
          9,
          4,
          18,
          4,
          13,
          13,
          13,
          12,
          10,
          6,
          9,
          11,
          17,
          14,
          17,
          8,
          12,
          6,
          11,
          11,
          12,
          17,
          7,
          15,
          15,
          11,
          10,
          18,
          6,
          13,
          19,
          9,
          12,
          12,
          14,
          9,
          13,
          13,
          13,
          11,
          11,
          11,
          12,
          14,
          11,
          11,
          13,
          13,
          12,
          14,
          9,
          17,
          11,
          12,
          16,
          17,
          19,
          14,
          12,
          19,
          11,
          15,
          19,
          9,
          14,
          13,
          14,
          19,
          18,
          16,
          7,
          16,
          10,
          13,
          14,
          13,
          16,
          16,
          5,
          16,
          12,
          7,
          7,
          15,
          18,
          8,
          3,
          15,
          15,
          7,
          18,
          8,
          17,
          16,
          12,
          17,
          16,
          19,
          12,
          17,
          19,
          12,
          12,
          15,
          17,
          13,
          12,
          16,
          13,
          15,
          15,
          14,
          13,
          6,
          18,
          18,
          18,
          9,
          17,
          14,
          14,
          14,
          3,
          11,
          8,
          9,
          8,
          16,
          7,
          11,
          5,
          16,
          11,
          16,
          10,
          12,
          19,
          7,
          8,
          13,
          17,
          9,
          8,
          15,
          6,
          14,
          10,
          17,
          15,
          10,
          16,
          17,
          17,
          13,
          17,
          15,
          16,
          18,
          10,
          16,
          8,
          14,
          4,
          17,
          15,
          10,
          13,
          16,
          17,
          19,
          11,
          8,
          12,
          13,
          16,
          15,
          18,
          8,
          5,
          10,
          8,
          13,
          7,
          11,
          15,
          10,
          15,
          8,
          7,
          10,
          18,
          15,
          19,
          14,
          3,
          6,
          12,
          14,
          8,
          15,
          5,
          3,
          11,
          11,
          13,
          18,
          19,
          15,
          18,
          8,
          11,
          17,
          14,
          12,
          14,
          8,
          12,
          11,
          6,
          9,
          11,
          18,
          18,
          19,
          9,
          18,
          9,
          7,
          8,
          18,
          11,
          12,
          11,
          14,
          14,
          5,
          12,
          19,
          9,
          17,
          10,
          9,
          9,
          10,
          14,
          14,
          12,
          17,
          10,
          12,
          13,
          11,
          12,
          17,
          14,
          15,
          8,
          13,
          11,
          10,
          6,
          10,
          18,
          6,
          18,
          3,
          15,
          13,
          19,
          11,
          13,
          5,
          8,
          18,
          13,
          10,
          18,
          12,
          9,
          15,
          14,
          8,
          19,
          7,
          13,
          14,
          19,
          9,
          12,
          10,
          3,
          13,
          16,
          13,
          10,
          15,
          11,
          11,
          19,
          15,
          11,
          19,
          8,
          7,
          10,
          13,
          14,
          14,
          9,
          11,
          13,
          15,
          18,
          15,
          13,
          9,
          8,
          7,
          17,
          11,
          12,
          9,
          14,
          8,
          16,
          17,
          9,
          12,
          19,
          17,
          15,
          12,
          7,
          8,
          15,
          18,
          11,
          10,
          9,
          11,
          16,
          16,
          18,
          16,
          10,
          13,
          16,
          18,
          9,
          13,
          11,
          5,
          6,
          12,
          9,
          15,
          13,
          16,
          18,
          11,
          13,
          7,
          4,
          13,
          16,
          17,
          10,
          11,
          7,
          11,
          16,
          13,
          8,
          3,
          12,
          15,
          8,
          4,
          13,
          7,
          15,
          15,
          18,
          7,
          13,
          18,
          19,
          10,
          6,
          13,
          14,
          15,
          5,
          12,
          17,
          8,
          12,
          12,
          12,
          7,
          19,
          17,
          16,
          6,
          12,
          6,
          6,
          14,
          15,
          7,
          14,
          16,
          11,
          9,
          19,
          17,
          15,
          13,
          5,
          11,
          11,
          10,
          13,
          10,
          9,
          15,
          13,
          17,
          5,
          14,
          10,
          13,
          8,
          17,
          13,
          10,
          10,
          16,
          5,
          15,
          11,
          12,
          19,
          10,
          18,
          13,
          15,
          16,
          17,
          14,
          9,
          16,
          16,
          16,
          16,
          12,
          16,
          7,
          18,
          4,
          19,
          11,
          15,
          8,
          15,
          5,
          6,
          19,
          14,
          14,
          7,
          15,
          13,
          9,
          13,
          18,
          5,
          14,
          7,
          18,
          17,
          14,
          13,
          11,
          12,
          18,
          3,
          14,
          9,
          10,
          9,
          15,
          14,
          16,
          12,
          9,
          13,
          15,
          11,
          6,
          12,
          17,
          12,
          3,
          12,
          7,
          12,
          8,
          9,
          15,
          11,
          15,
          12,
          9,
          10,
          6,
          12,
          14,
          15,
          8,
          19,
          12,
          7,
          17,
          7,
          12,
          13,
          15,
          15,
          6,
          13,
          19,
          12,
          9,
          17,
          19,
          10,
          12,
          14,
          12,
          18,
          5,
          19,
          17,
          13,
          9,
          7,
          16,
          16,
          17,
          17,
          18,
          7,
          7,
          12,
          12,
          8,
          8,
          14,
          11,
          17,
          13,
          13,
          15,
          5,
          10,
          15,
          11,
          3,
          6,
          7,
          12,
          14,
          13,
          19,
          15,
          14,
          7,
          16,
          16,
          16,
          7,
          7,
          16,
          15,
          12,
          6,
          11,
          13,
          15,
          13,
          18,
          15,
          3,
          16,
          12,
          12,
          5,
          12,
          14,
          6,
          19,
          9,
          11,
          10,
          7,
          16,
          5,
          8,
          15,
          10,
          10,
          13,
          18,
          12,
          13,
          19,
          10,
          19,
          16,
          13,
          13,
          14,
          9,
          8,
          10,
          13,
          12,
          6,
          14,
          18,
          14,
          3,
          16,
          10,
          12,
          10,
          16,
          10,
          8,
          10,
          5,
          8,
          8,
          18,
          6,
          10,
          14,
          17,
          18,
          14,
          14,
          10,
          13,
          18,
          11,
          15,
          19,
          16,
          16,
          15,
          8,
          7,
          12,
          10,
          13,
          7,
          13,
          14,
          9,
          16,
          15,
          13,
          10,
          14,
          12,
          7,
          15,
          19,
          15,
          12,
          15,
          10,
          17,
          5,
          3,
          14,
          16,
          19,
          11,
          16,
          17,
          9,
          9,
          18,
          11,
          15,
          10
         ],
         "xaxis": "x",
         "y": [
          6.475,
          10.125,
          9.55,
          11.125,
          4.8,
          6.225,
          4.95,
          7.325,
          8.875,
          6.8,
          11.5,
          10.925,
          6.525,
          6,
          7.825,
          9.525,
          7.875,
          5.05,
          7.025,
          9.525,
          3.975,
          5.325,
          10.025,
          8.725,
          9.375,
          8.35,
          6.75,
          9.025,
          1.125,
          10.475,
          4.65,
          7.725,
          10.6,
          11.025,
          8.65,
          8.825,
          4.2,
          8.775,
          6.325,
          11.325,
          8.225,
          10.725,
          5.875,
          7.275,
          1.575,
          6.7,
          7.65,
          8,
          12.95,
          7.35,
          9.625,
          12.425,
          7.4,
          4.875,
          12.225,
          4.25,
          8.2,
          11.4,
          4.625,
          7.825,
          6.7,
          9.2,
          6.95,
          6.85,
          8.45,
          7.35,
          5.375,
          7.375,
          8.6,
          7.9,
          8.5,
          9.7,
          5.125,
          7.825,
          6.25,
          4.975,
          7.5,
          5.875,
          10.05,
          10.8,
          7.35,
          11.9,
          12.05,
          11.575,
          6.2,
          6.125,
          13.875,
          7.75,
          7.475,
          11.575,
          6.95,
          9.2,
          9.75,
          9.65,
          11.75,
          10.825,
          7.55,
          6.95,
          10.675,
          6.1,
          8.025,
          9.225,
          3.45,
          10.725,
          7.95,
          3.425,
          10.875,
          8.625,
          6.45,
          3.1,
          10.425,
          12.15,
          1.85,
          5.875,
          9.125,
          8.975,
          3.75,
          10.275,
          6.675,
          11.775,
          8.55,
          6.45,
          13.2,
          11.55,
          12.95,
          7.825,
          10.55,
          11.7,
          3.65,
          6.65,
          10.425,
          12.925,
          7.45,
          8.6,
          10.65,
          4.725,
          7.55,
          10.175,
          6.45,
          9.475,
          4.975,
          9.9,
          10.2,
          12.4,
          6.85,
          11.825,
          8.625,
          11.35,
          8.225,
          0.507,
          5.075,
          6.45,
          6.725,
          4.525,
          9.275,
          2.85,
          9.35,
          5.55,
          10.35,
          6.625,
          9.725,
          4.9,
          10.475,
          10.85,
          5.15,
          4.425,
          7.55,
          8.35,
          6.05,
          4.325,
          8.85,
          4.325,
          8.775,
          6.45,
          9.175,
          9.45,
          6.7,
          10.95,
          9.85,
          9.825,
          8.5,
          11.875,
          10.475,
          9.925,
          8.5,
          7.2,
          8.375,
          5.5,
          7.925,
          2.875,
          10.35,
          9.325,
          7.45,
          8.625,
          11.225,
          12.125,
          13.025,
          7.85,
          2.55,
          7.575,
          9.55,
          12.225,
          11.625,
          10,
          3.9,
          5.85,
          5.025,
          5.95,
          9.475,
          6.4,
          8.225,
          10.775,
          6.15,
          9.4,
          7.25,
          5.85,
          4.125,
          10.925,
          7.35,
          10.475,
          6.575,
          1.175,
          2.95,
          9,
          8.1,
          7.275,
          11.075,
          3.1,
          4.7,
          5.85,
          7.925,
          7.3,
          9.275,
          11.125,
          8.625,
          9.825,
          5.725,
          7.925,
          9.475,
          10.9,
          9.675,
          9.95,
          6.575,
          8.6,
          9.5,
          3.825,
          8,
          7.475,
          10.7,
          10.125,
          11.225,
          7.275,
          12.5,
          7.625,
          5.3,
          5.6,
          11.05,
          8.025,
          9.95,
          7.4,
          8.85,
          11.875,
          4.85,
          5.175,
          10.175,
          5.225,
          8.975,
          7.35,
          7.975,
          8.775,
          6.1,
          8.8,
          8.7,
          6.975,
          9.375,
          7.4,
          8.8,
          6.7,
          7.25,
          9.725,
          8.5,
          10.975,
          9.7,
          4.775,
          10.325,
          6.2,
          8,
          3.025,
          6.125,
          9.55,
          7.05,
          10.45,
          5.475,
          11.4,
          7.15,
          12.2,
          6.725,
          8.725,
          2.625,
          7.4,
          8.2,
          6.85,
          6.55,
          10.525,
          6.625,
          6.55,
          8.475,
          10.925,
          6.075,
          8.35,
          2.475,
          9.675,
          8.775,
          13.1,
          6.5,
          7.3,
          3.9,
          1.025,
          6.775,
          10.975,
          7.625,
          7.225,
          8.9,
          9.15,
          5.2,
          11.075,
          8.325,
          3.625,
          9.625,
          4.5,
          4.15,
          6,
          10.05,
          10.75,
          7.375,
          5.25,
          8.875,
          10.9,
          9.8,
          10.25,
          7.425,
          6.325,
          5.55,
          1.625,
          5.05,
          10.1,
          4.725,
          5.025,
          3.425,
          8.475,
          5.65,
          11.675,
          10.6,
          4.725,
          7.575,
          7.75,
          11.7,
          8.325,
          6.65,
          3.675,
          3.975,
          10.05,
          10.2,
          7.275,
          6.05,
          6.225,
          9.3,
          8.975,
          8.65,
          11.65,
          11.075,
          7.7,
          6.925,
          10.725,
          14.375,
          6.175,
          7.825,
          8.625,
          4.9,
          4.2,
          5.85,
          7.375,
          8.775,
          8,
          11.075,
          10.6,
          5.15,
          6.475,
          5.375,
          3.4,
          6.525,
          11.325,
          11.65,
          6.725,
          7.775,
          5.7,
          6.825,
          10.5,
          8.725,
          4.475,
          2,
          5.325,
          8.425,
          1.9,
          3.225,
          8.775,
          2.65,
          12.15,
          10.1,
          11.5,
          5.65,
          8.675,
          9.275,
          11,
          8.125,
          3.175,
          7.45,
          9.1,
          9.875,
          2.25,
          9.025,
          11.225,
          5.95,
          7.8,
          8.55,
          5.875,
          5.425,
          12.275,
          11.225,
          9.45,
          7.025,
          5.5,
          3.9,
          5.05,
          10.45,
          11.3,
          2.875,
          8.425,
          10.5,
          9.925,
          5.25,
          9.75,
          9.8,
          8.3,
          7.7,
          6.15,
          6.3,
          9.85,
          4.325,
          7.925,
          4.35,
          4.425,
          13.075,
          10.45,
          11.525,
          1.925,
          6.825,
          6.575,
          7.975,
          7.7,
          8.6,
          9.975,
          7.125,
          9.6,
          10.7,
          3.175,
          9.1,
          10.275,
          7,
          10.4,
          7.85,
          12.625,
          10.65,
          11.025,
          9.05,
          8.075,
          9.675,
          6.95,
          8.425,
          9.525,
          5.675,
          10.375,
          8.975,
          9.675,
          6.3,
          11.6,
          2.375,
          10.1,
          6.075,
          6.725,
          4.25,
          12.9,
          2.875,
          5.375,
          14.675,
          9,
          8.35,
          2.725,
          8.125,
          7.9,
          6.1,
          8,
          10.6,
          2.925,
          8.6,
          4.475,
          9.1,
          13.375,
          10.3,
          12.05,
          9.025,
          6.7,
          11.5,
          1.675,
          6.225,
          8.075,
          8.275,
          9.325,
          9.9,
          6.475,
          9.725,
          9.85,
          10.2,
          8.25,
          10.4,
          8.35,
          5.225,
          9,
          9.625,
          7.05,
          4.075,
          8.5,
          5.775,
          8.175,
          6.075,
          6.9,
          7.925,
          7.55,
          12.325,
          11.95,
          6.8,
          6.85,
          6.925,
          7.875,
          11.175,
          9.575,
          8.425,
          10.775,
          7.625,
          7.65,
          10.3,
          1.775,
          9.025,
          8.025,
          8.575,
          8.85,
          2.725,
          7.1,
          10.575,
          6.575,
          7.9,
          8.275,
          10.2,
          4.55,
          8,
          7.225,
          8.7,
          10.7,
          1.325,
          13.375,
          11.9,
          8.625,
          6.9,
          2.25,
          10.025,
          13.05,
          12.325,
          10.7,
          9.1,
          8.225,
          5.15,
          8,
          6.05,
          4.45,
          5.35,
          8.825,
          8.925,
          12.375,
          9.475,
          8.35,
          9.15,
          2.25,
          8.025,
          8.7,
          7.825,
          1.45,
          3.925,
          2.825,
          8.975,
          6.275,
          11.8,
          11.8,
          9.375,
          7.675,
          2.65,
          8.575,
          9.875,
          10.825,
          4.825,
          4.25,
          9.75,
          8.55,
          8.6,
          3.7,
          8.275,
          8.125,
          10.675,
          7.65,
          9.175,
          8.25,
          3.675,
          10.625,
          8.2,
          7.675,
          2.725,
          8.35,
          9.225,
          2.925,
          8.35,
          3.7,
          6.425,
          8.775,
          5.65,
          10.2,
          2.025,
          6.175,
          9.05,
          7,
          5.025,
          7.55,
          14.55,
          6.975,
          7.95,
          10.875,
          7.325,
          13.375,
          7.85,
          9.1,
          6.825,
          6.45,
          6.55,
          6.175,
          5.575,
          7.8,
          8.9,
          4.625,
          5.625,
          10.025,
          6.5,
          3.25,
          11.225,
          7.325,
          8.425,
          5.55,
          10.4,
          7.825,
          7.55,
          8.05,
          2.625,
          4.575,
          4.975,
          11.275,
          6.125,
          5.95,
          7.475,
          12.125,
          13.325,
          9.2,
          8.125,
          3.925,
          10.025,
          9.825,
          5.825,
          8.525,
          12.7,
          8.8,
          6.15,
          7.475,
          4.45,
          4.7,
          4.425,
          6.2,
          6.05,
          1.95,
          6.75,
          8.25,
          6.375,
          6.45,
          7.95,
          7.425,
          6.6,
          10.4,
          9.675,
          3.6,
          6.225,
          12.425,
          9.175,
          5.275,
          6.9,
          4.85,
          12.325,
          4.625,
          3.425,
          9.325,
          9.925,
          8.725,
          7.075,
          8.825,
          7.175,
          7.325,
          5.725,
          9.05,
          3.85,
          9.825,
          7.1
         ],
         "yaxis": "y"
        }
       ],
       "layout": {
        "legend": {
         "tracegroupgap": 0
        },
        "margin": {
         "t": 60
        },
        "template": {
         "data": {
          "bar": [
           {
            "error_x": {
             "color": "#2a3f5f"
            },
            "error_y": {
             "color": "#2a3f5f"
            },
            "marker": {
             "line": {
              "color": "#E5ECF6",
              "width": 0.5
             },
             "pattern": {
              "fillmode": "overlay",
              "size": 10,
              "solidity": 0.2
             }
            },
            "type": "bar"
           }
          ],
          "barpolar": [
           {
            "marker": {
             "line": {
              "color": "#E5ECF6",
              "width": 0.5
             },
             "pattern": {
              "fillmode": "overlay",
              "size": 10,
              "solidity": 0.2
             }
            },
            "type": "barpolar"
           }
          ],
          "carpet": [
           {
            "aaxis": {
             "endlinecolor": "#2a3f5f",
             "gridcolor": "white",
             "linecolor": "white",
             "minorgridcolor": "white",
             "startlinecolor": "#2a3f5f"
            },
            "baxis": {
             "endlinecolor": "#2a3f5f",
             "gridcolor": "white",
             "linecolor": "white",
             "minorgridcolor": "white",
             "startlinecolor": "#2a3f5f"
            },
            "type": "carpet"
           }
          ],
          "choropleth": [
           {
            "colorbar": {
             "outlinewidth": 0,
             "ticks": ""
            },
            "type": "choropleth"
           }
          ],
          "contour": [
           {
            "colorbar": {
             "outlinewidth": 0,
             "ticks": ""
            },
            "colorscale": [
             [
              0,
              "#0d0887"
             ],
             [
              0.1111111111111111,
              "#46039f"
             ],
             [
              0.2222222222222222,
              "#7201a8"
             ],
             [
              0.3333333333333333,
              "#9c179e"
             ],
             [
              0.4444444444444444,
              "#bd3786"
             ],
             [
              0.5555555555555556,
              "#d8576b"
             ],
             [
              0.6666666666666666,
              "#ed7953"
             ],
             [
              0.7777777777777778,
              "#fb9f3a"
             ],
             [
              0.8888888888888888,
              "#fdca26"
             ],
             [
              1,
              "#f0f921"
             ]
            ],
            "type": "contour"
           }
          ],
          "contourcarpet": [
           {
            "colorbar": {
             "outlinewidth": 0,
             "ticks": ""
            },
            "type": "contourcarpet"
           }
          ],
          "heatmap": [
           {
            "colorbar": {
             "outlinewidth": 0,
             "ticks": ""
            },
            "colorscale": [
             [
              0,
              "#0d0887"
             ],
             [
              0.1111111111111111,
              "#46039f"
             ],
             [
              0.2222222222222222,
              "#7201a8"
             ],
             [
              0.3333333333333333,
              "#9c179e"
             ],
             [
              0.4444444444444444,
              "#bd3786"
             ],
             [
              0.5555555555555556,
              "#d8576b"
             ],
             [
              0.6666666666666666,
              "#ed7953"
             ],
             [
              0.7777777777777778,
              "#fb9f3a"
             ],
             [
              0.8888888888888888,
              "#fdca26"
             ],
             [
              1,
              "#f0f921"
             ]
            ],
            "type": "heatmap"
           }
          ],
          "heatmapgl": [
           {
            "colorbar": {
             "outlinewidth": 0,
             "ticks": ""
            },
            "colorscale": [
             [
              0,
              "#0d0887"
             ],
             [
              0.1111111111111111,
              "#46039f"
             ],
             [
              0.2222222222222222,
              "#7201a8"
             ],
             [
              0.3333333333333333,
              "#9c179e"
             ],
             [
              0.4444444444444444,
              "#bd3786"
             ],
             [
              0.5555555555555556,
              "#d8576b"
             ],
             [
              0.6666666666666666,
              "#ed7953"
             ],
             [
              0.7777777777777778,
              "#fb9f3a"
             ],
             [
              0.8888888888888888,
              "#fdca26"
             ],
             [
              1,
              "#f0f921"
             ]
            ],
            "type": "heatmapgl"
           }
          ],
          "histogram": [
           {
            "marker": {
             "pattern": {
              "fillmode": "overlay",
              "size": 10,
              "solidity": 0.2
             }
            },
            "type": "histogram"
           }
          ],
          "histogram2d": [
           {
            "colorbar": {
             "outlinewidth": 0,
             "ticks": ""
            },
            "colorscale": [
             [
              0,
              "#0d0887"
             ],
             [
              0.1111111111111111,
              "#46039f"
             ],
             [
              0.2222222222222222,
              "#7201a8"
             ],
             [
              0.3333333333333333,
              "#9c179e"
             ],
             [
              0.4444444444444444,
              "#bd3786"
             ],
             [
              0.5555555555555556,
              "#d8576b"
             ],
             [
              0.6666666666666666,
              "#ed7953"
             ],
             [
              0.7777777777777778,
              "#fb9f3a"
             ],
             [
              0.8888888888888888,
              "#fdca26"
             ],
             [
              1,
              "#f0f921"
             ]
            ],
            "type": "histogram2d"
           }
          ],
          "histogram2dcontour": [
           {
            "colorbar": {
             "outlinewidth": 0,
             "ticks": ""
            },
            "colorscale": [
             [
              0,
              "#0d0887"
             ],
             [
              0.1111111111111111,
              "#46039f"
             ],
             [
              0.2222222222222222,
              "#7201a8"
             ],
             [
              0.3333333333333333,
              "#9c179e"
             ],
             [
              0.4444444444444444,
              "#bd3786"
             ],
             [
              0.5555555555555556,
              "#d8576b"
             ],
             [
              0.6666666666666666,
              "#ed7953"
             ],
             [
              0.7777777777777778,
              "#fb9f3a"
             ],
             [
              0.8888888888888888,
              "#fdca26"
             ],
             [
              1,
              "#f0f921"
             ]
            ],
            "type": "histogram2dcontour"
           }
          ],
          "mesh3d": [
           {
            "colorbar": {
             "outlinewidth": 0,
             "ticks": ""
            },
            "type": "mesh3d"
           }
          ],
          "parcoords": [
           {
            "line": {
             "colorbar": {
              "outlinewidth": 0,
              "ticks": ""
             }
            },
            "type": "parcoords"
           }
          ],
          "pie": [
           {
            "automargin": true,
            "type": "pie"
           }
          ],
          "scatter": [
           {
            "marker": {
             "colorbar": {
              "outlinewidth": 0,
              "ticks": ""
             }
            },
            "type": "scatter"
           }
          ],
          "scatter3d": [
           {
            "line": {
             "colorbar": {
              "outlinewidth": 0,
              "ticks": ""
             }
            },
            "marker": {
             "colorbar": {
              "outlinewidth": 0,
              "ticks": ""
             }
            },
            "type": "scatter3d"
           }
          ],
          "scattercarpet": [
           {
            "marker": {
             "colorbar": {
              "outlinewidth": 0,
              "ticks": ""
             }
            },
            "type": "scattercarpet"
           }
          ],
          "scattergeo": [
           {
            "marker": {
             "colorbar": {
              "outlinewidth": 0,
              "ticks": ""
             }
            },
            "type": "scattergeo"
           }
          ],
          "scattergl": [
           {
            "marker": {
             "colorbar": {
              "outlinewidth": 0,
              "ticks": ""
             }
            },
            "type": "scattergl"
           }
          ],
          "scattermapbox": [
           {
            "marker": {
             "colorbar": {
              "outlinewidth": 0,
              "ticks": ""
             }
            },
            "type": "scattermapbox"
           }
          ],
          "scatterpolar": [
           {
            "marker": {
             "colorbar": {
              "outlinewidth": 0,
              "ticks": ""
             }
            },
            "type": "scatterpolar"
           }
          ],
          "scatterpolargl": [
           {
            "marker": {
             "colorbar": {
              "outlinewidth": 0,
              "ticks": ""
             }
            },
            "type": "scatterpolargl"
           }
          ],
          "scatterternary": [
           {
            "marker": {
             "colorbar": {
              "outlinewidth": 0,
              "ticks": ""
             }
            },
            "type": "scatterternary"
           }
          ],
          "surface": [
           {
            "colorbar": {
             "outlinewidth": 0,
             "ticks": ""
            },
            "colorscale": [
             [
              0,
              "#0d0887"
             ],
             [
              0.1111111111111111,
              "#46039f"
             ],
             [
              0.2222222222222222,
              "#7201a8"
             ],
             [
              0.3333333333333333,
              "#9c179e"
             ],
             [
              0.4444444444444444,
              "#bd3786"
             ],
             [
              0.5555555555555556,
              "#d8576b"
             ],
             [
              0.6666666666666666,
              "#ed7953"
             ],
             [
              0.7777777777777778,
              "#fb9f3a"
             ],
             [
              0.8888888888888888,
              "#fdca26"
             ],
             [
              1,
              "#f0f921"
             ]
            ],
            "type": "surface"
           }
          ],
          "table": [
           {
            "cells": {
             "fill": {
              "color": "#EBF0F8"
             },
             "line": {
              "color": "white"
             }
            },
            "header": {
             "fill": {
              "color": "#C8D4E3"
             },
             "line": {
              "color": "white"
             }
            },
            "type": "table"
           }
          ]
         },
         "layout": {
          "annotationdefaults": {
           "arrowcolor": "#2a3f5f",
           "arrowhead": 0,
           "arrowwidth": 1
          },
          "autotypenumbers": "strict",
          "coloraxis": {
           "colorbar": {
            "outlinewidth": 0,
            "ticks": ""
           }
          },
          "colorscale": {
           "diverging": [
            [
             0,
             "#8e0152"
            ],
            [
             0.1,
             "#c51b7d"
            ],
            [
             0.2,
             "#de77ae"
            ],
            [
             0.3,
             "#f1b6da"
            ],
            [
             0.4,
             "#fde0ef"
            ],
            [
             0.5,
             "#f7f7f7"
            ],
            [
             0.6,
             "#e6f5d0"
            ],
            [
             0.7,
             "#b8e186"
            ],
            [
             0.8,
             "#7fbc41"
            ],
            [
             0.9,
             "#4d9221"
            ],
            [
             1,
             "#276419"
            ]
           ],
           "sequential": [
            [
             0,
             "#0d0887"
            ],
            [
             0.1111111111111111,
             "#46039f"
            ],
            [
             0.2222222222222222,
             "#7201a8"
            ],
            [
             0.3333333333333333,
             "#9c179e"
            ],
            [
             0.4444444444444444,
             "#bd3786"
            ],
            [
             0.5555555555555556,
             "#d8576b"
            ],
            [
             0.6666666666666666,
             "#ed7953"
            ],
            [
             0.7777777777777778,
             "#fb9f3a"
            ],
            [
             0.8888888888888888,
             "#fdca26"
            ],
            [
             1,
             "#f0f921"
            ]
           ],
           "sequentialminus": [
            [
             0,
             "#0d0887"
            ],
            [
             0.1111111111111111,
             "#46039f"
            ],
            [
             0.2222222222222222,
             "#7201a8"
            ],
            [
             0.3333333333333333,
             "#9c179e"
            ],
            [
             0.4444444444444444,
             "#bd3786"
            ],
            [
             0.5555555555555556,
             "#d8576b"
            ],
            [
             0.6666666666666666,
             "#ed7953"
            ],
            [
             0.7777777777777778,
             "#fb9f3a"
            ],
            [
             0.8888888888888888,
             "#fdca26"
            ],
            [
             1,
             "#f0f921"
            ]
           ]
          },
          "colorway": [
           "#636efa",
           "#EF553B",
           "#00cc96",
           "#ab63fa",
           "#FFA15A",
           "#19d3f3",
           "#FF6692",
           "#B6E880",
           "#FF97FF",
           "#FECB52"
          ],
          "font": {
           "color": "#2a3f5f"
          },
          "geo": {
           "bgcolor": "white",
           "lakecolor": "white",
           "landcolor": "#E5ECF6",
           "showlakes": true,
           "showland": true,
           "subunitcolor": "white"
          },
          "hoverlabel": {
           "align": "left"
          },
          "hovermode": "closest",
          "mapbox": {
           "style": "light"
          },
          "paper_bgcolor": "white",
          "plot_bgcolor": "#E5ECF6",
          "polar": {
           "angularaxis": {
            "gridcolor": "white",
            "linecolor": "white",
            "ticks": ""
           },
           "bgcolor": "#E5ECF6",
           "radialaxis": {
            "gridcolor": "white",
            "linecolor": "white",
            "ticks": ""
           }
          },
          "scene": {
           "xaxis": {
            "backgroundcolor": "#E5ECF6",
            "gridcolor": "white",
            "gridwidth": 2,
            "linecolor": "white",
            "showbackground": true,
            "ticks": "",
            "zerolinecolor": "white"
           },
           "yaxis": {
            "backgroundcolor": "#E5ECF6",
            "gridcolor": "white",
            "gridwidth": 2,
            "linecolor": "white",
            "showbackground": true,
            "ticks": "",
            "zerolinecolor": "white"
           },
           "zaxis": {
            "backgroundcolor": "#E5ECF6",
            "gridcolor": "white",
            "gridwidth": 2,
            "linecolor": "white",
            "showbackground": true,
            "ticks": "",
            "zerolinecolor": "white"
           }
          },
          "shapedefaults": {
           "line": {
            "color": "#2a3f5f"
           }
          },
          "ternary": {
           "aaxis": {
            "gridcolor": "white",
            "linecolor": "white",
            "ticks": ""
           },
           "baxis": {
            "gridcolor": "white",
            "linecolor": "white",
            "ticks": ""
           },
           "bgcolor": "#E5ECF6",
           "caxis": {
            "gridcolor": "white",
            "linecolor": "white",
            "ticks": ""
           }
          },
          "title": {
           "x": 0.05
          },
          "xaxis": {
           "automargin": true,
           "gridcolor": "white",
           "linecolor": "white",
           "ticks": "",
           "title": {
            "standoff": 15
           },
           "zerolinecolor": "white",
           "zerolinewidth": 2
          },
          "yaxis": {
           "automargin": true,
           "gridcolor": "white",
           "linecolor": "white",
           "ticks": "",
           "title": {
            "standoff": 15
           },
           "zerolinecolor": "white",
           "zerolinewidth": 2
          }
         }
        },
        "xaxis": {
         "anchor": "y",
         "domain": [
          0,
          1
         ],
         "title": {
          "text": "Age"
         }
        },
        "yaxis": {
         "anchor": "x",
         "domain": [
          0,
          1
         ],
         "title": {
          "text": "FEV"
         }
        }
       }
      }
     },
     "metadata": {},
     "output_type": "display_data"
    }
   ],
   "source": [
    "fig = px.scatter(lung, x= \"Age\", y= \"LungCap\", labels={\"LungCap\": \"FEV\"})\n",
    "fig.show()"
   ]
  },
  {
   "cell_type": "code",
   "execution_count": 83,
   "metadata": {},
   "outputs": [
    {
     "data": {
      "text/plain": [
       "0.8196748974989415"
      ]
     },
     "execution_count": 83,
     "metadata": {},
     "output_type": "execute_result"
    }
   ],
   "source": [
    "lung.Age.corr(lung.LungCap)"
   ]
  },
  {
   "cell_type": "code",
   "execution_count": 110,
   "metadata": {},
   "outputs": [
    {
     "data": {
      "text/html": [
       "<table class=\"simpletable\">\n",
       "<caption>OLS Regression Results</caption>\n",
       "<tr>\n",
       "  <th>Dep. Variable:</th>         <td>LungCap</td>     <th>  R-squared:         </th> <td>   0.677</td> \n",
       "</tr>\n",
       "<tr>\n",
       "  <th>Model:</th>                   <td>OLS</td>       <th>  Adj. R-squared:    </th> <td>   0.676</td> \n",
       "</tr>\n",
       "<tr>\n",
       "  <th>Method:</th>             <td>Least Squares</td>  <th>  F-statistic:       </th> <td>   757.5</td> \n",
       "</tr>\n",
       "<tr>\n",
       "  <th>Date:</th>             <td>Tue, 01 Nov 2022</td> <th>  Prob (F-statistic):</th> <td>4.97e-178</td>\n",
       "</tr>\n",
       "<tr>\n",
       "  <th>Time:</th>                 <td>08:08:02</td>     <th>  Log-Likelihood:    </th> <td> -1328.1</td> \n",
       "</tr>\n",
       "<tr>\n",
       "  <th>No. Observations:</th>      <td>   725</td>      <th>  AIC:               </th> <td>   2662.</td> \n",
       "</tr>\n",
       "<tr>\n",
       "  <th>Df Residuals:</th>          <td>   722</td>      <th>  BIC:               </th> <td>   2676.</td> \n",
       "</tr>\n",
       "<tr>\n",
       "  <th>Df Model:</th>              <td>     2</td>      <th>                     </th>     <td> </td>    \n",
       "</tr>\n",
       "<tr>\n",
       "  <th>Covariance Type:</th>      <td>nonrobust</td>    <th>                     </th>     <td> </td>    \n",
       "</tr>\n",
       "</table>\n",
       "<table class=\"simpletable\">\n",
       "<tr>\n",
       "      <td></td>         <th>coef</th>     <th>std err</th>      <th>t</th>      <th>P>|t|</th>  <th>[0.025</th>    <th>0.975]</th>  \n",
       "</tr>\n",
       "<tr>\n",
       "  <th>Age</th>       <td>    0.5554</td> <td>    0.014</td> <td>   38.628</td> <td> 0.000</td> <td>    0.527</td> <td>    0.584</td>\n",
       "</tr>\n",
       "<tr>\n",
       "  <th>Smoke_yes</th> <td>   -0.6486</td> <td>    0.187</td> <td>   -3.473</td> <td> 0.001</td> <td>   -1.015</td> <td>   -0.282</td>\n",
       "</tr>\n",
       "<tr>\n",
       "  <th>const</th>     <td>    1.0857</td> <td>    0.183</td> <td>    5.933</td> <td> 0.000</td> <td>    0.726</td> <td>    1.445</td>\n",
       "</tr>\n",
       "</table>\n",
       "<table class=\"simpletable\">\n",
       "<tr>\n",
       "  <th>Omnibus:</th>       <td> 0.325</td> <th>  Durbin-Watson:     </th> <td>   1.808</td>\n",
       "</tr>\n",
       "<tr>\n",
       "  <th>Prob(Omnibus):</th> <td> 0.850</td> <th>  Jarque-Bera (JB):  </th> <td>   0.411</td>\n",
       "</tr>\n",
       "<tr>\n",
       "  <th>Skew:</th>          <td>-0.039</td> <th>  Prob(JB):          </th> <td>   0.814</td>\n",
       "</tr>\n",
       "<tr>\n",
       "  <th>Kurtosis:</th>      <td> 2.912</td> <th>  Cond. No.          </th> <td>    44.8</td>\n",
       "</tr>\n",
       "</table><br/><br/>Notes:<br/>[1] Standard Errors assume that the covariance matrix of the errors is correctly specified."
      ],
      "text/plain": [
       "<class 'statsmodels.iolib.summary.Summary'>\n",
       "\"\"\"\n",
       "                            OLS Regression Results                            \n",
       "==============================================================================\n",
       "Dep. Variable:                LungCap   R-squared:                       0.677\n",
       "Model:                            OLS   Adj. R-squared:                  0.676\n",
       "Method:                 Least Squares   F-statistic:                     757.5\n",
       "Date:                Tue, 01 Nov 2022   Prob (F-statistic):          4.97e-178\n",
       "Time:                        08:08:02   Log-Likelihood:                -1328.1\n",
       "No. Observations:                 725   AIC:                             2662.\n",
       "Df Residuals:                     722   BIC:                             2676.\n",
       "Df Model:                           2                                         \n",
       "Covariance Type:            nonrobust                                         \n",
       "==============================================================================\n",
       "                 coef    std err          t      P>|t|      [0.025      0.975]\n",
       "------------------------------------------------------------------------------\n",
       "Age            0.5554      0.014     38.628      0.000       0.527       0.584\n",
       "Smoke_yes     -0.6486      0.187     -3.473      0.001      -1.015      -0.282\n",
       "const          1.0857      0.183      5.933      0.000       0.726       1.445\n",
       "==============================================================================\n",
       "Omnibus:                        0.325   Durbin-Watson:                   1.808\n",
       "Prob(Omnibus):                  0.850   Jarque-Bera (JB):                0.411\n",
       "Skew:                          -0.039   Prob(JB):                        0.814\n",
       "Kurtosis:                       2.912   Cond. No.                         44.8\n",
       "==============================================================================\n",
       "\n",
       "Notes:\n",
       "[1] Standard Errors assume that the covariance matrix of the errors is correctly specified.\n",
       "\"\"\""
      ]
     },
     "execution_count": 110,
     "metadata": {},
     "output_type": "execute_result"
    }
   ],
   "source": [
    "import statsmodels.api as sm\n",
    "vars = ['Age', 'Smoke']\n",
    "X= pd.get_dummies(lung[vars], drop_first=True)\n",
    "model_adj = sm.OLS(lung['LungCap'], X.assign(const=1))\n",
    "res = model_adj.fit()\n",
    "res.summary()"
   ]
  },
  {
   "cell_type": "code",
   "execution_count": 112,
   "metadata": {},
   "outputs": [
    {
     "data": {
      "text/html": [
       "<table class=\"simpletable\">\n",
       "<caption>OLS Regression Results</caption>\n",
       "<tr>\n",
       "  <th>Dep. Variable:</th>         <td>LungCap</td>     <th>  R-squared:         </th> <td>   0.010</td>\n",
       "</tr>\n",
       "<tr>\n",
       "  <th>Model:</th>                   <td>OLS</td>       <th>  Adj. R-squared:    </th> <td>   0.009</td>\n",
       "</tr>\n",
       "<tr>\n",
       "  <th>Method:</th>             <td>Least Squares</td>  <th>  F-statistic:       </th> <td>   7.507</td>\n",
       "</tr>\n",
       "<tr>\n",
       "  <th>Date:</th>             <td>Tue, 01 Nov 2022</td> <th>  Prob (F-statistic):</th>  <td>0.00630</td>\n",
       "</tr>\n",
       "<tr>\n",
       "  <th>Time:</th>                 <td>08:08:07</td>     <th>  Log-Likelihood:    </th> <td> -1734.3</td>\n",
       "</tr>\n",
       "<tr>\n",
       "  <th>No. Observations:</th>      <td>   725</td>      <th>  AIC:               </th> <td>   3473.</td>\n",
       "</tr>\n",
       "<tr>\n",
       "  <th>Df Residuals:</th>          <td>   723</td>      <th>  BIC:               </th> <td>   3482.</td>\n",
       "</tr>\n",
       "<tr>\n",
       "  <th>Df Model:</th>              <td>     1</td>      <th>                     </th>     <td> </td>   \n",
       "</tr>\n",
       "<tr>\n",
       "  <th>Covariance Type:</th>      <td>nonrobust</td>    <th>                     </th>     <td> </td>   \n",
       "</tr>\n",
       "</table>\n",
       "<table class=\"simpletable\">\n",
       "<tr>\n",
       "      <td></td>         <th>coef</th>     <th>std err</th>      <th>t</th>      <th>P>|t|</th>  <th>[0.025</th>    <th>0.975]</th>  \n",
       "</tr>\n",
       "<tr>\n",
       "  <th>Smoke_yes</th> <td>    0.8753</td> <td>    0.319</td> <td>    2.740</td> <td> 0.006</td> <td>    0.248</td> <td>    1.502</td>\n",
       "</tr>\n",
       "<tr>\n",
       "  <th>const</th>     <td>    7.7702</td> <td>    0.104</td> <td>   74.637</td> <td> 0.000</td> <td>    7.566</td> <td>    7.975</td>\n",
       "</tr>\n",
       "</table>\n",
       "<table class=\"simpletable\">\n",
       "<tr>\n",
       "  <th>Omnibus:</th>       <td> 7.728</td> <th>  Durbin-Watson:     </th> <td>   1.932</td>\n",
       "</tr>\n",
       "<tr>\n",
       "  <th>Prob(Omnibus):</th> <td> 0.021</td> <th>  Jarque-Bera (JB):  </th> <td>   6.927</td>\n",
       "</tr>\n",
       "<tr>\n",
       "  <th>Skew:</th>          <td>-0.181</td> <th>  Prob(JB):          </th> <td>  0.0313</td>\n",
       "</tr>\n",
       "<tr>\n",
       "  <th>Kurtosis:</th>      <td> 2.686</td> <th>  Cond. No.          </th> <td>    3.29</td>\n",
       "</tr>\n",
       "</table><br/><br/>Notes:<br/>[1] Standard Errors assume that the covariance matrix of the errors is correctly specified."
      ],
      "text/plain": [
       "<class 'statsmodels.iolib.summary.Summary'>\n",
       "\"\"\"\n",
       "                            OLS Regression Results                            \n",
       "==============================================================================\n",
       "Dep. Variable:                LungCap   R-squared:                       0.010\n",
       "Model:                            OLS   Adj. R-squared:                  0.009\n",
       "Method:                 Least Squares   F-statistic:                     7.507\n",
       "Date:                Tue, 01 Nov 2022   Prob (F-statistic):            0.00630\n",
       "Time:                        08:08:07   Log-Likelihood:                -1734.3\n",
       "No. Observations:                 725   AIC:                             3473.\n",
       "Df Residuals:                     723   BIC:                             3482.\n",
       "Df Model:                           1                                         \n",
       "Covariance Type:            nonrobust                                         \n",
       "==============================================================================\n",
       "                 coef    std err          t      P>|t|      [0.025      0.975]\n",
       "------------------------------------------------------------------------------\n",
       "Smoke_yes      0.8753      0.319      2.740      0.006       0.248       1.502\n",
       "const          7.7702      0.104     74.637      0.000       7.566       7.975\n",
       "==============================================================================\n",
       "Omnibus:                        7.728   Durbin-Watson:                   1.932\n",
       "Prob(Omnibus):                  0.021   Jarque-Bera (JB):                6.927\n",
       "Skew:                          -0.181   Prob(JB):                       0.0313\n",
       "Kurtosis:                       2.686   Cond. No.                         3.29\n",
       "==============================================================================\n",
       "\n",
       "Notes:\n",
       "[1] Standard Errors assume that the covariance matrix of the errors is correctly specified.\n",
       "\"\"\""
      ]
     },
     "execution_count": 112,
     "metadata": {},
     "output_type": "execute_result"
    }
   ],
   "source": [
    "vars = ['Smoke']\n",
    "X= pd.get_dummies(lung[vars], drop_first=True)\n",
    "model_adj = sm.OLS(lung['LungCap'], X.assign(const=1))\n",
    "res = model_adj.fit()\n",
    "res.summary()"
   ]
  }
 ],
 "metadata": {
  "kernelspec": {
   "display_name": "Python 3 (ipykernel)",
   "language": "python",
   "name": "python3"
  },
  "language_info": {
   "codemirror_mode": {
    "name": "ipython",
    "version": 3
   },
   "file_extension": ".py",
   "mimetype": "text/x-python",
   "name": "python",
   "nbconvert_exporter": "python",
   "pygments_lexer": "ipython3",
   "version": "3.9.7"
  },
  "vscode": {
   "interpreter": {
    "hash": "0c7b2947fe0739f8b3c146b59575cc29c6c128e55474ca424458fa6cc9e3257b"
   }
  }
 },
 "nbformat": 4,
 "nbformat_minor": 2
}
