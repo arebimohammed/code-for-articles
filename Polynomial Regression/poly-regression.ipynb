{
 "cells": [
  {
   "cell_type": "code",
   "execution_count": 133,
   "id": "6c2ea29e",
   "metadata": {},
   "outputs": [],
   "source": [
    "import pandas as pd\n",
    "import numpy as np\n",
    "import matplotlib.pyplot as plt\n",
    "import plotly.express as px\n",
    "import plotly.graph_objects as go\n",
    "from sklearn.linear_model import LinearRegression\n",
    "from sklearn.preprocessing import PolynomialFeatures\n",
    "import operator"
   ]
  },
  {
   "cell_type": "code",
   "execution_count": 121,
   "id": "7eb686fa",
   "metadata": {},
   "outputs": [
    {
     "data": {
      "image/png": "[encoded data removed]",
      "text/plain": [
       "<Figure size 720x576 with 1 Axes>"
      ]
     },
     "metadata": {
      "needs_background": "light"
     },
     "output_type": "display_data"
    }
   ],
   "source": [
    "X = 6 * np.random.rand(200, 1) - 3\n",
    "y = 0.5 * X**2 + X + 2 + np.random.randn(200, 1)\n",
    "\n",
    "fig = plt.figure(figsize=(10,8))\n",
    "_ = plt.scatter(X,y,s=10)\n",
    "_ = plt.xlabel(\"$X$\", fontsize=16)\n",
    "_ = plt.ylabel(\"$y$\", rotation=0, fontsize=16)"
   ]
  },
  {
   "cell_type": "code",
   "execution_count": 122,
   "id": "5d7ce32f",
   "metadata": {},
   "outputs": [
    {
     "data": {
      "application/vnd.plotly.v1+json": {
       "config": {
        "plotlyServerURL": "https://plot.ly"
       },
       "data": [
        {
         "mode": "markers",
         "type": "scatter",
         "x": [
          -2.3853605997057823,
          1.7834085326254954,
          2.765579555928152,
          2.65600725027668,
          -2.4950028047864956,
          2.0065730642994604,
          -2.135496695028065,
          -2.912363951870116,
          0.11613435655250459,
          2.216354595604745,
          -0.23435485837983716,
          -2.9399086628035724,
          -2.2505103430422273,
          -0.29362169593335175,
          1.2483599649612644,
          0.6619439203124156,
          -0.877775765056859,
          1.147814958892031,
          -2.9471106945160344,
          0.22399223496843046,
          2.7033938480508555,
          -1.1942551812878868,
          1.3100162015495522,
          -1.1605256979116834,
          2.263886885785114,
          0.5902431771359522,
          2.8717307898524567,
          -1.6638061372676833,
          -0.5095470538121329,
          -1.8315852937935122,
          -2.0487288318134214,
          -1.5414231127848967,
          2.9034517998899316,
          0.39182229523993106,
          2.4527435773800104,
          -0.1848749591035288,
          -0.20119120182298644,
          -2.1905545380442337,
          0.4751327530044622,
          -1.8514334011095694,
          -0.13926688274019217,
          0.07308845106172956,
          0.4773791194331274,
          1.5877101088958199,
          1.8484384102103064,
          -1.4644515737303563,
          -1.719341047093117,
          0.2082018083067827,
          1.8996664972094646,
          2.825214381724223,
          -0.7104716492906258,
          -1.4243516103074547,
          -1.751088433153884,
          -1.3820128692834253,
          1.4347779511946603,
          0.17836967730774766,
          -2.4401532465171574,
          -2.9714750081334995,
          0.028989295938885995,
          1.5495934583968953,
          1.1419740959143105,
          -0.8637558616496435,
          -2.5567359154486775,
          1.0310666439789564,
          -0.030236030928741275,
          -1.5373964995002558,
          -2.8941188091957395,
          2.1886122027018233,
          1.0337364174629187,
          -2.4926751832734544,
          0.8769351180830425,
          0.7144738138805691,
          -2.318456352158856,
          1.7362631550111232,
          1.9873849527700695,
          -1.090604616787227,
          -1.1843487412962925,
          -0.25570005752331326,
          -2.6119309661195267,
          0.032794200318845945,
          1.4752589377727165,
          -2.996296248622726,
          -1.3728827123648686,
          1.7709357295026944,
          2.6315169445452673,
          -0.8230117958386711,
          -1.9649915387930923,
          2.2643436129327377,
          -0.676242526350384,
          -1.2338766911297094,
          2.9225630421240236,
          2.6491135033589934,
          0.6961284350501891,
          -1.4832945906780768,
          0.1660602978532908,
          -1.1222728481322588,
          0.5420844380079153,
          -1.2225270338980354,
          -2.9563004691270454,
          -0.5960958098541376,
          2.954453463960588,
          -1.9749986438269271,
          1.2939804212444024,
          1.5862780906061245,
          -1.6512100049516698,
          1.9715609981977211,
          2.7892049902593836,
          -1.4943950380908784,
          0.9527542117884806,
          -0.8773450221662551,
          0.013699023065061766,
          1.22206991440817,
          -0.7402081512695,
          -0.41920515975231876,
          -0.4755312260799127,
          -2.53185670198595,
          2.8422276593658067,
          2.777244501785937,
          1.5374027405023538,
          2.7707704310944576,
          1.5219576277788187,
          2.592053326554981,
          1.1212030813960494,
          2.620641995972294,
          1.53230079386796,
          2.917444174827284,
          0.40878056766295856,
          0.6761081516359679,
          -1.251770480509634,
          1.4253235830526174,
          -1.899249793489852,
          1.3713474961526115,
          -2.841551658399445,
          -2.322108828885206,
          1.5016220014622483,
          -2.4885298336783954,
          0.541155027912315,
          2.6053244589770284,
          2.641630219626288,
          0.5699479262706819,
          -1.014935519694771,
          -0.6959926300249291,
          -0.053563289253448776,
          1.0621869053071151,
          1.1030440303771707,
          1.1226846120782117,
          2.1135361053046937,
          2.3814035101103475,
          2.7121741423144243,
          1.347095415942368,
          2.4558855393052497,
          -2.719402388792557,
          -2.708719256921941,
          -2.77433013746736,
          -2.2576700946014903,
          -0.636361573487509,
          2.9712641339676757,
          -1.5209061946680609,
          -2.686835227057104,
          0.0950260050974503,
          -0.9079832008291109,
          -0.405723333416407,
          2.222591255215587,
          -0.9527717958202597,
          -2.1549418805789773,
          -0.11042702227086476,
          -1.4994482183203186,
          -0.03295682092142904,
          2.7579682457102184,
          -1.6480219267828837,
          1.2342355400747778,
          -2.586426588399595,
          2.8250158018210474,
          1.2360971052287049,
          -0.1672158690220451,
          0.9183282249275226,
          -0.5321796709272384,
          -2.6549293971362964,
          1.4683382065929065,
          2.2431819987944968,
          2.200751021486803,
          0.3225500824925822,
          1.6498052601895816,
          -1.8605877773761372,
          -0.3293537604999335,
          -2.4104070674829425,
          1.9178272153383258,
          -2.963487257007386,
          0.3701156355020867,
          0.40948859798543324,
          -0.034774157692016416,
          -0.7279363934167522,
          -2.8413027229280106,
          2.8137639244197308,
          -2.5592297930071792,
          -1.2382353462563673,
          0.8904627160613723,
          -1.5423959709799118,
          -0.21443154579097268,
          -0.5649674420209783
         ],
         "y": [
          1.0624771153906118,
          5.969737957506418,
          6.662563355898616,
          8.643074937534646,
          1.7520660372169985,
          7.052542618367961,
          2.249209913566512,
          2.769180740705467,
          1.8602417256750634,
          6.238029236846764,
          1.8714010353450203,
          4.402979904889186,
          1.0733610848061177,
          2.7090066967088067,
          4.647450116365681,
          1.7500797929414942,
          4.019616870560657,
          2.676455230772687,
          4.22518184430383,
          1.810796147169562,
          7.7524662737615175,
          0.7440291843405352,
          6.279903004264596,
          0.4707702901465898,
          6.094412666732303,
          2.4933259630956943,
          10.725840517838101,
          3.9082320378926614,
          0.6318983909129388,
          0.6743396995658313,
          1.8027521084882117,
          4.96811643174724,
          9.200609860087832,
          0.47951260210585445,
          7.183347871567813,
          2.836477052794959,
          1.718069547810578,
          3.8185817597446947,
          2.2731274692503995,
          0.9781857142871981,
          3.066135646660017,
          1.8659951861826085,
          4.00127159433709,
          4.062081624147145,
          5.143219247614562,
          2.3446013854256496,
          2.9638170139428968,
          3.69000267553995,
          6.454737530849011,
          10.288041988527235,
          2.5628077489429764,
          0.9575579988530496,
          1.659235926806225,
          1.7044630373322918,
          4.2305084069138275,
          1.2980556947280546,
          2.789012985101828,
          2.0967618321894292,
          1.5446936489901333,
          2.169249651761217,
          3.956770069367454,
          0.4272442176922817,
          2.830051923491137,
          5.263779565907266,
          -0.5412189362547237,
          0.3405030213222222,
          2.9644477669399354,
          6.162871519423537,
          3.43533175695475,
          2.1210890541968523,
          3.4462210306040033,
          4.066824224587454,
          2.668707570046124,
          4.81594998416456,
          5.390191401549911,
          2.477649792441974,
          3.243647785200503,
          0.01701790567982009,
          2.0965348151937344,
          0.9551593297090617,
          4.87285850892138,
          3.0879190367207943,
          0.058434837983138754,
          5.604375078355715,
          6.969435020455801,
          1.7704882848113317,
          2.107646133583027,
          8.033163939199511,
          0.40723400942530796,
          3.2658346226875548,
          9.927378615347845,
          8.004327658051272,
          2.726438665276367,
          1.3381162756321303,
          1.2168005349804027,
          3.149148020097521,
          1.0835045931653728,
          1.7038891761124346,
          2.3673958669633306,
          -0.9183039595994369,
          8.323996933892317,
          1.6794875032629653,
          5.727172910545518,
          5.011212742459186,
          2.133444759370065,
          5.428999405367087,
          7.073655942648326,
          0.16020604164529684,
          3.3129921443595456,
          2.295721726506231,
          -0.46749247185962783,
          4.690115773677945,
          3.7584957905738827,
          2.56702275063419,
          1.906990561185014,
          2.4977102474547066,
          7.7475388453811735,
          8.258413981475199,
          6.21128260528754,
          9.588330833513359,
          4.514814051379208,
          7.808664582603372,
          5.254660497532025,
          7.4934849204789025,
          6.154184408923312,
          7.959743060736281,
          2.0521224564614884,
          4.601806596482564,
          1.5376353639076172,
          5.772365494609739,
          1.9396899077026262,
          5.685622406514907,
          2.6085058455471604,
          0.15922327891136767,
          5.519767374582766,
          3.659359197836057,
          3.0804725973011746,
          9.181542742091423,
          8.79874959586702,
          2.987784518926461,
          1.8047980796425316,
          1.8426102416707288,
          1.0918763832275147,
          1.583876967224486,
          4.7402098309348215,
          5.113451578725725,
          6.595109604286519,
          6.021352077455507,
          9.268375350031212,
          5.331434932702535,
          8.410396318554968,
          4.284140166772326,
          1.0154433811362422,
          3.5842493389322594,
          3.2277263934008857,
          2.3899513940066632,
          10.760647671857098,
          2.8153668365533706,
          2.560539404648031,
          0.6582887172567966,
          1.5566770772912428,
          3.166685663983289,
          6.728735910142256,
          1.0880378119724956,
          1.05603378785269,
          1.5934273301256132,
          0.8054533102529697,
          1.2605494130692023,
          9.543289395706374,
          1.4899455947163027,
          5.778524766698348,
          1.8441168234298035,
          10.386133631014232,
          3.994837349997029,
          3.412031036697888,
          4.1927369588793235,
          2.7091688158522773,
          2.993025013466828,
          4.480949004149082,
          7.8459390073523725,
          7.662258936839448,
          3.815941941680214,
          5.171495749717331,
          0.35834050611516477,
          2.771017248025472,
          3.959250791795322,
          6.950189183777044,
          0.8602271390112786,
          2.4222157411179337,
          2.1356749288134242,
          2.906221595593351,
          0.9090098288136964,
          3.2992998068529356,
          8.840832743074467,
          3.7587945772353706,
          0.38730852522880466,
          0.5425122325243352,
          0.6798984963614941,
          2.009752710166368,
          1.2880318022904724
         ]
        }
       ],
       "layout": {
        "template": {
         "data": {
          "bar": [
           {
            "error_x": {
             "color": "#2a3f5f"
            },
            "error_y": {
             "color": "#2a3f5f"
            },
            "marker": {
             "line": {
              "color": "#E5ECF6",
              "width": 0.5
             },
             "pattern": {
              "fillmode": "overlay",
              "size": 10,
              "solidity": 0.2
             }
            },
            "type": "bar"
           }
          ],
          "barpolar": [
           {
            "marker": {
             "line": {
              "color": "#E5ECF6",
              "width": 0.5
             },
             "pattern": {
              "fillmode": "overlay",
              "size": 10,
              "solidity": 0.2
             }
            },
            "type": "barpolar"
           }
          ],
          "carpet": [
           {
            "aaxis": {
             "endlinecolor": "#2a3f5f",
             "gridcolor": "white",
             "linecolor": "white",
             "minorgridcolor": "white",
             "startlinecolor": "#2a3f5f"
            },
            "baxis": {
             "endlinecolor": "#2a3f5f",
             "gridcolor": "white",
             "linecolor": "white",
             "minorgridcolor": "white",
             "startlinecolor": "#2a3f5f"
            },
            "type": "carpet"
           }
          ],
          "choropleth": [
           {
            "colorbar": {
             "outlinewidth": 0,
             "ticks": ""
            },
            "type": "choropleth"
           }
          ],
          "contour": [
           {
            "colorbar": {
             "outlinewidth": 0,
             "ticks": ""
            },
            "colorscale": [
             [
              0,
              "#0d0887"
             ],
             [
              0.1111111111111111,
              "#46039f"
             ],
             [
              0.2222222222222222,
              "#7201a8"
             ],
             [
              0.3333333333333333,
              "#9c179e"
             ],
             [
              0.4444444444444444,
              "#bd3786"
             ],
             [
              0.5555555555555556,
              "#d8576b"
             ],
             [
              0.6666666666666666,
              "#ed7953"
             ],
             [
              0.7777777777777778,
              "#fb9f3a"
             ],
             [
              0.8888888888888888,
              "#fdca26"
             ],
             [
              1,
              "#f0f921"
             ]
            ],
            "type": "contour"
           }
          ],
          "contourcarpet": [
           {
            "colorbar": {
             "outlinewidth": 0,
             "ticks": ""
            },
            "type": "contourcarpet"
           }
          ],
          "heatmap": [
           {
            "colorbar": {
             "outlinewidth": 0,
             "ticks": ""
            },
            "colorscale": [
             [
              0,
              "#0d0887"
             ],
             [
              0.1111111111111111,
              "#46039f"
             ],
             [
              0.2222222222222222,
              "#7201a8"
             ],
             [
              0.3333333333333333,
              "#9c179e"
             ],
             [
              0.4444444444444444,
              "#bd3786"
             ],
             [
              0.5555555555555556,
              "#d8576b"
             ],
             [
              0.6666666666666666,
              "#ed7953"
             ],
             [
              0.7777777777777778,
              "#fb9f3a"
             ],
             [
              0.8888888888888888,
              "#fdca26"
             ],
             [
              1,
              "#f0f921"
             ]
            ],
            "type": "heatmap"
           }
          ],
          "heatmapgl": [
           {
            "colorbar": {
             "outlinewidth": 0,
             "ticks": ""
            },
            "colorscale": [
             [
              0,
              "#0d0887"
             ],
             [
              0.1111111111111111,
              "#46039f"
             ],
             [
              0.2222222222222222,
              "#7201a8"
             ],
             [
              0.3333333333333333,
              "#9c179e"
             ],
             [
              0.4444444444444444,
              "#bd3786"
             ],
             [
              0.5555555555555556,
              "#d8576b"
             ],
             [
              0.6666666666666666,
              "#ed7953"
             ],
             [
              0.7777777777777778,
              "#fb9f3a"
             ],
             [
              0.8888888888888888,
              "#fdca26"
             ],
             [
              1,
              "#f0f921"
             ]
            ],
            "type": "heatmapgl"
           }
          ],
          "histogram": [
           {
            "marker": {
             "pattern": {
              "fillmode": "overlay",
              "size": 10,
              "solidity": 0.2
             }
            },
            "type": "histogram"
           }
          ],
          "histogram2d": [
           {
            "colorbar": {
             "outlinewidth": 0,
             "ticks": ""
            },
            "colorscale": [
             [
              0,
              "#0d0887"
             ],
             [
              0.1111111111111111,
              "#46039f"
             ],
             [
              0.2222222222222222,
              "#7201a8"
             ],
             [
              0.3333333333333333,
              "#9c179e"
             ],
             [
              0.4444444444444444,
              "#bd3786"
             ],
             [
              0.5555555555555556,
              "#d8576b"
             ],
             [
              0.6666666666666666,
              "#ed7953"
             ],
             [
              0.7777777777777778,
              "#fb9f3a"
             ],
             [
              0.8888888888888888,
              "#fdca26"
             ],
             [
              1,
              "#f0f921"
             ]
            ],
            "type": "histogram2d"
           }
          ],
          "histogram2dcontour": [
           {
            "colorbar": {
             "outlinewidth": 0,
             "ticks": ""
            },
            "colorscale": [
             [
              0,
              "#0d0887"
             ],
             [
              0.1111111111111111,
              "#46039f"
             ],
             [
              0.2222222222222222,
              "#7201a8"
             ],
             [
              0.3333333333333333,
              "#9c179e"
             ],
             [
              0.4444444444444444,
              "#bd3786"
             ],
             [
              0.5555555555555556,
              "#d8576b"
             ],
             [
              0.6666666666666666,
              "#ed7953"
             ],
             [
              0.7777777777777778,
              "#fb9f3a"
             ],
             [
              0.8888888888888888,
              "#fdca26"
             ],
             [
              1,
              "#f0f921"
             ]
            ],
            "type": "histogram2dcontour"
           }
          ],
          "mesh3d": [
           {
            "colorbar": {
             "outlinewidth": 0,
             "ticks": ""
            },
            "type": "mesh3d"
           }
          ],
          "parcoords": [
           {
            "line": {
             "colorbar": {
              "outlinewidth": 0,
              "ticks": ""
             }
            },
            "type": "parcoords"
           }
          ],
          "pie": [
           {
            "automargin": true,
            "type": "pie"
           }
          ],
          "scatter": [
           {
            "marker": {
             "colorbar": {
              "outlinewidth": 0,
              "ticks": ""
             }
            },
            "type": "scatter"
           }
          ],
          "scatter3d": [
           {
            "line": {
             "colorbar": {
              "outlinewidth": 0,
              "ticks": ""
             }
            },
            "marker": {
             "colorbar": {
              "outlinewidth": 0,
              "ticks": ""
             }
            },
            "type": "scatter3d"
           }
          ],
          "scattercarpet": [
           {
            "marker": {
             "colorbar": {
              "outlinewidth": 0,
              "ticks": ""
             }
            },
            "type": "scattercarpet"
           }
          ],
          "scattergeo": [
           {
            "marker": {
             "colorbar": {
              "outlinewidth": 0,
              "ticks": ""
             }
            },
            "type": "scattergeo"
           }
          ],
          "scattergl": [
           {
            "marker": {
             "colorbar": {
              "outlinewidth": 0,
              "ticks": ""
             }
            },
            "type": "scattergl"
           }
          ],
          "scattermapbox": [
           {
            "marker": {
             "colorbar": {
              "outlinewidth": 0,
              "ticks": ""
             }
            },
            "type": "scattermapbox"
           }
          ],
          "scatterpolar": [
           {
            "marker": {
             "colorbar": {
              "outlinewidth": 0,
              "ticks": ""
             }
            },
            "type": "scatterpolar"
           }
          ],
          "scatterpolargl": [
           {
            "marker": {
             "colorbar": {
              "outlinewidth": 0,
              "ticks": ""
             }
            },
            "type": "scatterpolargl"
           }
          ],
          "scatterternary": [
           {
            "marker": {
             "colorbar": {
              "outlinewidth": 0,
              "ticks": ""
             }
            },
            "type": "scatterternary"
           }
          ],
          "surface": [
           {
            "colorbar": {
             "outlinewidth": 0,
             "ticks": ""
            },
            "colorscale": [
             [
              0,
              "#0d0887"
             ],
             [
              0.1111111111111111,
              "#46039f"
             ],
             [
              0.2222222222222222,
              "#7201a8"
             ],
             [
              0.3333333333333333,
              "#9c179e"
             ],
             [
              0.4444444444444444,
              "#bd3786"
             ],
             [
              0.5555555555555556,
              "#d8576b"
             ],
             [
              0.6666666666666666,
              "#ed7953"
             ],
             [
              0.7777777777777778,
              "#fb9f3a"
             ],
             [
              0.8888888888888888,
              "#fdca26"
             ],
             [
              1,
              "#f0f921"
             ]
            ],
            "type": "surface"
           }
          ],
          "table": [
           {
            "cells": {
             "fill": {
              "color": "#EBF0F8"
             },
             "line": {
              "color": "white"
             }
            },
            "header": {
             "fill": {
              "color": "#C8D4E3"
             },
             "line": {
              "color": "white"
             }
            },
            "type": "table"
           }
          ]
         },
         "layout": {
          "annotationdefaults": {
           "arrowcolor": "#2a3f5f",
           "arrowhead": 0,
           "arrowwidth": 1
          },
          "autotypenumbers": "strict",
          "coloraxis": {
           "colorbar": {
            "outlinewidth": 0,
            "ticks": ""
           }
          },
          "colorscale": {
           "diverging": [
            [
             0,
             "#8e0152"
            ],
            [
             0.1,
             "#c51b7d"
            ],
            [
             0.2,
             "#de77ae"
            ],
            [
             0.3,
             "#f1b6da"
            ],
            [
             0.4,
             "#fde0ef"
            ],
            [
             0.5,
             "#f7f7f7"
            ],
            [
             0.6,
             "#e6f5d0"
            ],
            [
             0.7,
             "#b8e186"
            ],
            [
             0.8,
             "#7fbc41"
            ],
            [
             0.9,
             "#4d9221"
            ],
            [
             1,
             "#276419"
            ]
           ],
           "sequential": [
            [
             0,
             "#0d0887"
            ],
            [
             0.1111111111111111,
             "#46039f"
            ],
            [
             0.2222222222222222,
             "#7201a8"
            ],
            [
             0.3333333333333333,
             "#9c179e"
            ],
            [
             0.4444444444444444,
             "#bd3786"
            ],
            [
             0.5555555555555556,
             "#d8576b"
            ],
            [
             0.6666666666666666,
             "#ed7953"
            ],
            [
             0.7777777777777778,
             "#fb9f3a"
            ],
            [
             0.8888888888888888,
             "#fdca26"
            ],
            [
             1,
             "#f0f921"
            ]
           ],
           "sequentialminus": [
            [
             0,
             "#0d0887"
            ],
            [
             0.1111111111111111,
             "#46039f"
            ],
            [
             0.2222222222222222,
             "#7201a8"
            ],
            [
             0.3333333333333333,
             "#9c179e"
            ],
            [
             0.4444444444444444,
             "#bd3786"
            ],
            [
             0.5555555555555556,
             "#d8576b"
            ],
            [
             0.6666666666666666,
             "#ed7953"
            ],
            [
             0.7777777777777778,
             "#fb9f3a"
            ],
            [
             0.8888888888888888,
             "#fdca26"
            ],
            [
             1,
             "#f0f921"
            ]
           ]
          },
          "colorway": [
           "#636efa",
           "#EF553B",
           "#00cc96",
           "#ab63fa",
           "#FFA15A",
           "#19d3f3",
           "#FF6692",
           "#B6E880",
           "#FF97FF",
           "#FECB52"
          ],
          "font": {
           "color": "#2a3f5f"
          },
          "geo": {
           "bgcolor": "white",
           "lakecolor": "white",
           "landcolor": "#E5ECF6",
           "showlakes": true,
           "showland": true,
           "subunitcolor": "white"
          },
          "hoverlabel": {
           "align": "left"
          },
          "hovermode": "closest",
          "mapbox": {
           "style": "light"
          },
          "paper_bgcolor": "white",
          "plot_bgcolor": "#E5ECF6",
          "polar": {
           "angularaxis": {
            "gridcolor": "white",
            "linecolor": "white",
            "ticks": ""
           },
           "bgcolor": "#E5ECF6",
           "radialaxis": {
            "gridcolor": "white",
            "linecolor": "white",
            "ticks": ""
           }
          },
          "scene": {
           "xaxis": {
            "backgroundcolor": "#E5ECF6",
            "gridcolor": "white",
            "gridwidth": 2,
            "linecolor": "white",
            "showbackground": true,
            "ticks": "",
            "zerolinecolor": "white"
           },
           "yaxis": {
            "backgroundcolor": "#E5ECF6",
            "gridcolor": "white",
            "gridwidth": 2,
            "linecolor": "white",
            "showbackground": true,
            "ticks": "",
            "zerolinecolor": "white"
           },
           "zaxis": {
            "backgroundcolor": "#E5ECF6",
            "gridcolor": "white",
            "gridwidth": 2,
            "linecolor": "white",
            "showbackground": true,
            "ticks": "",
            "zerolinecolor": "white"
           }
          },
          "shapedefaults": {
           "line": {
            "color": "#2a3f5f"
           }
          },
          "ternary": {
           "aaxis": {
            "gridcolor": "white",
            "linecolor": "white",
            "ticks": ""
           },
           "baxis": {
            "gridcolor": "white",
            "linecolor": "white",
            "ticks": ""
           },
           "bgcolor": "#E5ECF6",
           "caxis": {
            "gridcolor": "white",
            "linecolor": "white",
            "ticks": ""
           }
          },
          "title": {
           "x": 0.05
          },
          "xaxis": {
           "automargin": true,
           "gridcolor": "white",
           "linecolor": "white",
           "ticks": "",
           "title": {
            "standoff": 15
           },
           "zerolinecolor": "white",
           "zerolinewidth": 2
          },
          "yaxis": {
           "automargin": true,
           "gridcolor": "white",
           "linecolor": "white",
           "ticks": "",
           "title": {
            "standoff": 15
           },
           "zerolinecolor": "white",
           "zerolinewidth": 2
          }
         }
        }
       }
      },
      "text/html": [
       "<div>                            <div id=\"f2cc116b-00c9-487f-bb26-e5a0a9feed20\" class=\"plotly-graph-div\" style=\"height:525px; width:100%;\"></div>            <script type=\"text/javascript\">                require([\"plotly\"], function(Plotly) {                    window.PLOTLYENV=window.PLOTLYENV || {};                                    if (document.getElementById(\"f2cc116b-00c9-487f-bb26-e5a0a9feed20\")) {                    Plotly.newPlot(                        \"f2cc116b-00c9-487f-bb26-e5a0a9feed20\",                        [{\"mode\":\"markers\",\"x\":[-2.3853605997057823,1.7834085326254954,2.765579555928152,2.65600725027668,-2.4950028047864956,2.0065730642994604,-2.135496695028065,-2.912363951870116,0.11613435655250459,2.216354595604745,-0.23435485837983716,-2.9399086628035724,-2.2505103430422273,-0.29362169593335175,1.2483599649612644,0.6619439203124156,-0.877775765056859,1.147814958892031,-2.9471106945160344,0.22399223496843046,2.7033938480508555,-1.1942551812878868,1.3100162015495522,-1.1605256979116834,2.263886885785114,0.5902431771359522,2.8717307898524567,-1.6638061372676833,-0.5095470538121329,-1.8315852937935122,-2.0487288318134214,-1.5414231127848967,2.9034517998899316,0.39182229523993106,2.4527435773800104,-0.1848749591035288,-0.20119120182298644,-2.1905545380442337,0.4751327530044622,-1.8514334011095694,-0.13926688274019217,0.07308845106172956,0.4773791194331274,1.5877101088958199,1.8484384102103064,-1.4644515737303563,-1.719341047093117,0.2082018083067827,1.8996664972094646,2.825214381724223,-0.7104716492906258,-1.4243516103074547,-1.751088433153884,-1.3820128692834253,1.4347779511946603,0.17836967730774766,-2.4401532465171574,-2.9714750081334995,0.028989295938885995,1.5495934583968953,1.1419740959143105,-0.8637558616496435,-2.5567359154486775,1.0310666439789564,-0.030236030928741275,-1.5373964995002558,-2.8941188091957395,2.1886122027018233,1.0337364174629187,-2.4926751832734544,0.8769351180830425,0.7144738138805691,-2.318456352158856,1.7362631550111232,1.9873849527700695,-1.090604616787227,-1.1843487412962925,-0.25570005752331326,-2.6119309661195267,0.032794200318845945,1.4752589377727165,-2.996296248622726,-1.3728827123648686,1.7709357295026944,2.6315169445452673,-0.8230117958386711,-1.9649915387930923,2.2643436129327377,-0.676242526350384,-1.2338766911297094,2.9225630421240236,2.6491135033589934,0.6961284350501891,-1.4832945906780768,0.1660602978532908,-1.1222728481322588,0.5420844380079153,-1.2225270338980354,-2.9563004691270454,-0.5960958098541376,2.954453463960588,-1.9749986438269271,1.2939804212444024,1.5862780906061245,-1.6512100049516698,1.9715609981977211,2.7892049902593836,-1.4943950380908784,0.9527542117884806,-0.8773450221662551,0.013699023065061766,1.22206991440817,-0.7402081512695,-0.41920515975231876,-0.4755312260799127,-2.53185670198595,2.8422276593658067,2.777244501785937,1.5374027405023538,2.7707704310944576,1.5219576277788187,2.592053326554981,1.1212030813960494,2.620641995972294,1.53230079386796,2.917444174827284,0.40878056766295856,0.6761081516359679,-1.251770480509634,1.4253235830526174,-1.899249793489852,1.3713474961526115,-2.841551658399445,-2.322108828885206,1.5016220014622483,-2.4885298336783954,0.541155027912315,2.6053244589770284,2.641630219626288,0.5699479262706819,-1.014935519694771,-0.6959926300249291,-0.053563289253448776,1.0621869053071151,1.1030440303771707,1.1226846120782117,2.1135361053046937,2.3814035101103475,2.7121741423144243,1.347095415942368,2.4558855393052497,-2.719402388792557,-2.708719256921941,-2.77433013746736,-2.2576700946014903,-0.636361573487509,2.9712641339676757,-1.5209061946680609,-2.686835227057104,0.0950260050974503,-0.9079832008291109,-0.405723333416407,2.222591255215587,-0.9527717958202597,-2.1549418805789773,-0.11042702227086476,-1.4994482183203186,-0.03295682092142904,2.7579682457102184,-1.6480219267828837,1.2342355400747778,-2.586426588399595,2.8250158018210474,1.2360971052287049,-0.1672158690220451,0.9183282249275226,-0.5321796709272384,-2.6549293971362964,1.4683382065929065,2.2431819987944968,2.200751021486803,0.3225500824925822,1.6498052601895816,-1.8605877773761372,-0.3293537604999335,-2.4104070674829425,1.9178272153383258,-2.963487257007386,0.3701156355020867,0.40948859798543324,-0.034774157692016416,-0.7279363934167522,-2.8413027229280106,2.8137639244197308,-2.5592297930071792,-1.2382353462563673,0.8904627160613723,-1.5423959709799118,-0.21443154579097268,-0.5649674420209783],\"y\":[1.0624771153906118,5.969737957506418,6.662563355898616,8.643074937534646,1.7520660372169985,7.052542618367961,2.249209913566512,2.769180740705467,1.8602417256750634,6.238029236846764,1.8714010353450203,4.402979904889186,1.0733610848061177,2.7090066967088067,4.647450116365681,1.7500797929414942,4.019616870560657,2.676455230772687,4.22518184430383,1.810796147169562,7.7524662737615175,0.7440291843405352,6.279903004264596,0.4707702901465898,6.094412666732303,2.4933259630956943,10.725840517838101,3.9082320378926614,0.6318983909129388,0.6743396995658313,1.8027521084882117,4.96811643174724,9.200609860087832,0.47951260210585445,7.183347871567813,2.836477052794959,1.718069547810578,3.8185817597446947,2.2731274692503995,0.9781857142871981,3.066135646660017,1.8659951861826085,4.00127159433709,4.062081624147145,5.143219247614562,2.3446013854256496,2.9638170139428968,3.69000267553995,6.454737530849011,10.288041988527235,2.5628077489429764,0.9575579988530496,1.659235926806225,1.7044630373322918,4.2305084069138275,1.2980556947280546,2.789012985101828,2.0967618321894292,1.5446936489901333,2.169249651761217,3.956770069367454,0.4272442176922817,2.830051923491137,5.263779565907266,-0.5412189362547237,0.3405030213222222,2.9644477669399354,6.162871519423537,3.43533175695475,2.1210890541968523,3.4462210306040033,4.066824224587454,2.668707570046124,4.81594998416456,5.390191401549911,2.477649792441974,3.243647785200503,0.01701790567982009,2.0965348151937344,0.9551593297090617,4.87285850892138,3.0879190367207943,0.058434837983138754,5.604375078355715,6.969435020455801,1.7704882848113317,2.107646133583027,8.033163939199511,0.40723400942530796,3.2658346226875548,9.927378615347845,8.004327658051272,2.726438665276367,1.3381162756321303,1.2168005349804027,3.149148020097521,1.0835045931653728,1.7038891761124346,2.3673958669633306,-0.9183039595994369,8.323996933892317,1.6794875032629653,5.727172910545518,5.011212742459186,2.133444759370065,5.428999405367087,7.073655942648326,0.16020604164529684,3.3129921443595456,2.295721726506231,-0.46749247185962783,4.690115773677945,3.7584957905738827,2.56702275063419,1.906990561185014,2.4977102474547066,7.7475388453811735,8.258413981475199,6.21128260528754,9.588330833513359,4.514814051379208,7.808664582603372,5.254660497532025,7.4934849204789025,6.154184408923312,7.959743060736281,2.0521224564614884,4.601806596482564,1.5376353639076172,5.772365494609739,1.9396899077026262,5.685622406514907,2.6085058455471604,0.15922327891136767,5.519767374582766,3.659359197836057,3.0804725973011746,9.181542742091423,8.79874959586702,2.987784518926461,1.8047980796425316,1.8426102416707288,1.0918763832275147,1.583876967224486,4.7402098309348215,5.113451578725725,6.595109604286519,6.021352077455507,9.268375350031212,5.331434932702535,8.410396318554968,4.284140166772326,1.0154433811362422,3.5842493389322594,3.2277263934008857,2.3899513940066632,10.760647671857098,2.8153668365533706,2.560539404648031,0.6582887172567966,1.5566770772912428,3.166685663983289,6.728735910142256,1.0880378119724956,1.05603378785269,1.5934273301256132,0.8054533102529697,1.2605494130692023,9.543289395706374,1.4899455947163027,5.778524766698348,1.8441168234298035,10.386133631014232,3.994837349997029,3.412031036697888,4.1927369588793235,2.7091688158522773,2.993025013466828,4.480949004149082,7.8459390073523725,7.662258936839448,3.815941941680214,5.171495749717331,0.35834050611516477,2.771017248025472,3.959250791795322,6.950189183777044,0.8602271390112786,2.4222157411179337,2.1356749288134242,2.906221595593351,0.9090098288136964,3.2992998068529356,8.840832743074467,3.7587945772353706,0.38730852522880466,0.5425122325243352,0.6798984963614941,2.009752710166368,1.2880318022904724],\"type\":\"scatter\"}],                        {\"template\":{\"data\":{\"bar\":[{\"error_x\":{\"color\":\"#2a3f5f\"},\"error_y\":{\"color\":\"#2a3f5f\"},\"marker\":{\"line\":{\"color\":\"#E5ECF6\",\"width\":0.5},\"pattern\":{\"fillmode\":\"overlay\",\"size\":10,\"solidity\":0.2}},\"type\":\"bar\"}],\"barpolar\":[{\"marker\":{\"line\":{\"color\":\"#E5ECF6\",\"width\":0.5},\"pattern\":{\"fillmode\":\"overlay\",\"size\":10,\"solidity\":0.2}},\"type\":\"barpolar\"}],\"carpet\":[{\"aaxis\":{\"endlinecolor\":\"#2a3f5f\",\"gridcolor\":\"white\",\"linecolor\":\"white\",\"minorgridcolor\":\"white\",\"startlinecolor\":\"#2a3f5f\"},\"baxis\":{\"endlinecolor\":\"#2a3f5f\",\"gridcolor\":\"white\",\"linecolor\":\"white\",\"minorgridcolor\":\"white\",\"startlinecolor\":\"#2a3f5f\"},\"type\":\"carpet\"}],\"choropleth\":[{\"colorbar\":{\"outlinewidth\":0,\"ticks\":\"\"},\"type\":\"choropleth\"}],\"contour\":[{\"colorbar\":{\"outlinewidth\":0,\"ticks\":\"\"},\"colorscale\":[[0.0,\"#0d0887\"],[0.1111111111111111,\"#46039f\"],[0.2222222222222222,\"#7201a8\"],[0.3333333333333333,\"#9c179e\"],[0.4444444444444444,\"#bd3786\"],[0.5555555555555556,\"#d8576b\"],[0.6666666666666666,\"#ed7953\"],[0.7777777777777778,\"#fb9f3a\"],[0.8888888888888888,\"#fdca26\"],[1.0,\"#f0f921\"]],\"type\":\"contour\"}],\"contourcarpet\":[{\"colorbar\":{\"outlinewidth\":0,\"ticks\":\"\"},\"type\":\"contourcarpet\"}],\"heatmap\":[{\"colorbar\":{\"outlinewidth\":0,\"ticks\":\"\"},\"colorscale\":[[0.0,\"#0d0887\"],[0.1111111111111111,\"#46039f\"],[0.2222222222222222,\"#7201a8\"],[0.3333333333333333,\"#9c179e\"],[0.4444444444444444,\"#bd3786\"],[0.5555555555555556,\"#d8576b\"],[0.6666666666666666,\"#ed7953\"],[0.7777777777777778,\"#fb9f3a\"],[0.8888888888888888,\"#fdca26\"],[1.0,\"#f0f921\"]],\"type\":\"heatmap\"}],\"heatmapgl\":[{\"colorbar\":{\"outlinewidth\":0,\"ticks\":\"\"},\"colorscale\":[[0.0,\"#0d0887\"],[0.1111111111111111,\"#46039f\"],[0.2222222222222222,\"#7201a8\"],[0.3333333333333333,\"#9c179e\"],[0.4444444444444444,\"#bd3786\"],[0.5555555555555556,\"#d8576b\"],[0.6666666666666666,\"#ed7953\"],[0.7777777777777778,\"#fb9f3a\"],[0.8888888888888888,\"#fdca26\"],[1.0,\"#f0f921\"]],\"type\":\"heatmapgl\"}],\"histogram\":[{\"marker\":{\"pattern\":{\"fillmode\":\"overlay\",\"size\":10,\"solidity\":0.2}},\"type\":\"histogram\"}],\"histogram2d\":[{\"colorbar\":{\"outlinewidth\":0,\"ticks\":\"\"},\"colorscale\":[[0.0,\"#0d0887\"],[0.1111111111111111,\"#46039f\"],[0.2222222222222222,\"#7201a8\"],[0.3333333333333333,\"#9c179e\"],[0.4444444444444444,\"#bd3786\"],[0.5555555555555556,\"#d8576b\"],[0.6666666666666666,\"#ed7953\"],[0.7777777777777778,\"#fb9f3a\"],[0.8888888888888888,\"#fdca26\"],[1.0,\"#f0f921\"]],\"type\":\"histogram2d\"}],\"histogram2dcontour\":[{\"colorbar\":{\"outlinewidth\":0,\"ticks\":\"\"},\"colorscale\":[[0.0,\"#0d0887\"],[0.1111111111111111,\"#46039f\"],[0.2222222222222222,\"#7201a8\"],[0.3333333333333333,\"#9c179e\"],[0.4444444444444444,\"#bd3786\"],[0.5555555555555556,\"#d8576b\"],[0.6666666666666666,\"#ed7953\"],[0.7777777777777778,\"#fb9f3a\"],[0.8888888888888888,\"#fdca26\"],[1.0,\"#f0f921\"]],\"type\":\"histogram2dcontour\"}],\"mesh3d\":[{\"colorbar\":{\"outlinewidth\":0,\"ticks\":\"\"},\"type\":\"mesh3d\"}],\"parcoords\":[{\"line\":{\"colorbar\":{\"outlinewidth\":0,\"ticks\":\"\"}},\"type\":\"parcoords\"}],\"pie\":[{\"automargin\":true,\"type\":\"pie\"}],\"scatter\":[{\"marker\":{\"colorbar\":{\"outlinewidth\":0,\"ticks\":\"\"}},\"type\":\"scatter\"}],\"scatter3d\":[{\"line\":{\"colorbar\":{\"outlinewidth\":0,\"ticks\":\"\"}},\"marker\":{\"colorbar\":{\"outlinewidth\":0,\"ticks\":\"\"}},\"type\":\"scatter3d\"}],\"scattercarpet\":[{\"marker\":{\"colorbar\":{\"outlinewidth\":0,\"ticks\":\"\"}},\"type\":\"scattercarpet\"}],\"scattergeo\":[{\"marker\":{\"colorbar\":{\"outlinewidth\":0,\"ticks\":\"\"}},\"type\":\"scattergeo\"}],\"scattergl\":[{\"marker\":{\"colorbar\":{\"outlinewidth\":0,\"ticks\":\"\"}},\"type\":\"scattergl\"}],\"scattermapbox\":[{\"marker\":{\"colorbar\":{\"outlinewidth\":0,\"ticks\":\"\"}},\"type\":\"scattermapbox\"}],\"scatterpolar\":[{\"marker\":{\"colorbar\":{\"outlinewidth\":0,\"ticks\":\"\"}},\"type\":\"scatterpolar\"}],\"scatterpolargl\":[{\"marker\":{\"colorbar\":{\"outlinewidth\":0,\"ticks\":\"\"}},\"type\":\"scatterpolargl\"}],\"scatterternary\":[{\"marker\":{\"colorbar\":{\"outlinewidth\":0,\"ticks\":\"\"}},\"type\":\"scatterternary\"}],\"surface\":[{\"colorbar\":{\"outlinewidth\":0,\"ticks\":\"\"},\"colorscale\":[[0.0,\"#0d0887\"],[0.1111111111111111,\"#46039f\"],[0.2222222222222222,\"#7201a8\"],[0.3333333333333333,\"#9c179e\"],[0.4444444444444444,\"#bd3786\"],[0.5555555555555556,\"#d8576b\"],[0.6666666666666666,\"#ed7953\"],[0.7777777777777778,\"#fb9f3a\"],[0.8888888888888888,\"#fdca26\"],[1.0,\"#f0f921\"]],\"type\":\"surface\"}],\"table\":[{\"cells\":{\"fill\":{\"color\":\"#EBF0F8\"},\"line\":{\"color\":\"white\"}},\"header\":{\"fill\":{\"color\":\"#C8D4E3\"},\"line\":{\"color\":\"white\"}},\"type\":\"table\"}]},\"layout\":{\"annotationdefaults\":{\"arrowcolor\":\"#2a3f5f\",\"arrowhead\":0,\"arrowwidth\":1},\"autotypenumbers\":\"strict\",\"coloraxis\":{\"colorbar\":{\"outlinewidth\":0,\"ticks\":\"\"}},\"colorscale\":{\"diverging\":[[0,\"#8e0152\"],[0.1,\"#c51b7d\"],[0.2,\"#de77ae\"],[0.3,\"#f1b6da\"],[0.4,\"#fde0ef\"],[0.5,\"#f7f7f7\"],[0.6,\"#e6f5d0\"],[0.7,\"#b8e186\"],[0.8,\"#7fbc41\"],[0.9,\"#4d9221\"],[1,\"#276419\"]],\"sequential\":[[0.0,\"#0d0887\"],[0.1111111111111111,\"#46039f\"],[0.2222222222222222,\"#7201a8\"],[0.3333333333333333,\"#9c179e\"],[0.4444444444444444,\"#bd3786\"],[0.5555555555555556,\"#d8576b\"],[0.6666666666666666,\"#ed7953\"],[0.7777777777777778,\"#fb9f3a\"],[0.8888888888888888,\"#fdca26\"],[1.0,\"#f0f921\"]],\"sequentialminus\":[[0.0,\"#0d0887\"],[0.1111111111111111,\"#46039f\"],[0.2222222222222222,\"#7201a8\"],[0.3333333333333333,\"#9c179e\"],[0.4444444444444444,\"#bd3786\"],[0.5555555555555556,\"#d8576b\"],[0.6666666666666666,\"#ed7953\"],[0.7777777777777778,\"#fb9f3a\"],[0.8888888888888888,\"#fdca26\"],[1.0,\"#f0f921\"]]},\"colorway\":[\"#636efa\",\"#EF553B\",\"#00cc96\",\"#ab63fa\",\"#FFA15A\",\"#19d3f3\",\"#FF6692\",\"#B6E880\",\"#FF97FF\",\"#FECB52\"],\"font\":{\"color\":\"#2a3f5f\"},\"geo\":{\"bgcolor\":\"white\",\"lakecolor\":\"white\",\"landcolor\":\"#E5ECF6\",\"showlakes\":true,\"showland\":true,\"subunitcolor\":\"white\"},\"hoverlabel\":{\"align\":\"left\"},\"hovermode\":\"closest\",\"mapbox\":{\"style\":\"light\"},\"paper_bgcolor\":\"white\",\"plot_bgcolor\":\"#E5ECF6\",\"polar\":{\"angularaxis\":{\"gridcolor\":\"white\",\"linecolor\":\"white\",\"ticks\":\"\"},\"bgcolor\":\"#E5ECF6\",\"radialaxis\":{\"gridcolor\":\"white\",\"linecolor\":\"white\",\"ticks\":\"\"}},\"scene\":{\"xaxis\":{\"backgroundcolor\":\"#E5ECF6\",\"gridcolor\":\"white\",\"gridwidth\":2,\"linecolor\":\"white\",\"showbackground\":true,\"ticks\":\"\",\"zerolinecolor\":\"white\"},\"yaxis\":{\"backgroundcolor\":\"#E5ECF6\",\"gridcolor\":\"white\",\"gridwidth\":2,\"linecolor\":\"white\",\"showbackground\":true,\"ticks\":\"\",\"zerolinecolor\":\"white\"},\"zaxis\":{\"backgroundcolor\":\"#E5ECF6\",\"gridcolor\":\"white\",\"gridwidth\":2,\"linecolor\":\"white\",\"showbackground\":true,\"ticks\":\"\",\"zerolinecolor\":\"white\"}},\"shapedefaults\":{\"line\":{\"color\":\"#2a3f5f\"}},\"ternary\":{\"aaxis\":{\"gridcolor\":\"white\",\"linecolor\":\"white\",\"ticks\":\"\"},\"baxis\":{\"gridcolor\":\"white\",\"linecolor\":\"white\",\"ticks\":\"\"},\"bgcolor\":\"#E5ECF6\",\"caxis\":{\"gridcolor\":\"white\",\"linecolor\":\"white\",\"ticks\":\"\"}},\"title\":{\"x\":0.05},\"xaxis\":{\"automargin\":true,\"gridcolor\":\"white\",\"linecolor\":\"white\",\"ticks\":\"\",\"title\":{\"standoff\":15},\"zerolinecolor\":\"white\",\"zerolinewidth\":2},\"yaxis\":{\"automargin\":true,\"gridcolor\":\"white\",\"linecolor\":\"white\",\"ticks\":\"\",\"title\":{\"standoff\":15},\"zerolinecolor\":\"white\",\"zerolinewidth\":2}}}},                        {\"responsive\": true}                    ).then(function(){\n",
       "                            \n",
       "var gd = document.getElementById('f2cc116b-00c9-487f-bb26-e5a0a9feed20');\n",
       "var x = new MutationObserver(function (mutations, observer) {{\n",
       "        var display = window.getComputedStyle(gd).display;\n",
       "        if (!display || display === 'none') {{\n",
       "            console.log([gd, 'removed!']);\n",
       "            Plotly.purge(gd);\n",
       "            observer.disconnect();\n",
       "        }}\n",
       "}});\n",
       "\n",
       "// Listen for the removal of the full notebook cells\n",
       "var notebookContainer = gd.closest('#notebook-container');\n",
       "if (notebookContainer) {{\n",
       "    x.observe(notebookContainer, {childList: true});\n",
       "}}\n",
       "\n",
       "// Listen for the clearing of the current output cell\n",
       "var outputEl = gd.closest('.output');\n",
       "if (outputEl) {{\n",
       "    x.observe(outputEl, {childList: true});\n",
       "}}\n",
       "\n",
       "                        })                };                });            </script>        </div>"
      ]
     },
     "metadata": {},
     "output_type": "display_data"
    }
   ],
   "source": [
    "#Using Plotly\n",
    "go.Figure(go.Scatter(x=X[:,0], y=y[:,0], mode='markers'))"
   ]
  },
  {
   "cell_type": "code",
   "execution_count": null,
   "id": "bf2d8124",
   "metadata": {},
   "outputs": [],
   "source": []
  },
  {
   "cell_type": "code",
   "execution_count": 123,
   "id": "97dbe8db",
   "metadata": {},
   "outputs": [
    {
     "data": {
      "image/png": "[encoded data removed]",
      "text/plain": [
       "<Figure size 720x576 with 1 Axes>"
      ]
     },
     "metadata": {
      "needs_background": "light"
     },
     "output_type": "display_data"
    }
   ],
   "source": [
    "model = LinearRegression()\n",
    "model.fit(X, y)\n",
    "y_pred = model.predict(X)\n",
    "\n",
    "fig = plt.figure(figsize=(10,8))\n",
    "_ = plt.scatter(X, y, s=10)\n",
    "_ = plt.plot(X, y_pred, color='r')\n",
    "plt.show()"
   ]
  },
  {
   "cell_type": "code",
   "execution_count": 124,
   "id": "d3274d6f",
   "metadata": {},
   "outputs": [
    {
     "name": "stdout",
     "output_type": "stream",
     "text": [
      "R-Squared of the model is 0.5479173841858733\n"
     ]
    }
   ],
   "source": [
    "from sklearn.metrics import r2_score\n",
    "\n",
    "print(f\"R-Squared of the model is {r2_score(y, y_pred)}\")"
   ]
  },
  {
   "cell_type": "code",
   "execution_count": 174,
   "id": "451bcec0",
   "metadata": {},
   "outputs": [
    {
     "data": {
      "image/png": "[encoded data removed]",
      "text/plain": [
       "<Figure size 720x576 with 1 Axes>"
      ]
     },
     "metadata": {
      "needs_background": "light"
     },
     "output_type": "display_data"
    }
   ],
   "source": [
    "polynomial_features= PolynomialFeatures(degree=2)\n",
    "x_poly = polynomial_features.fit_transform(X)\n",
    "\n",
    "model = LinearRegression()\n",
    "model.fit(x_poly, y)\n",
    "y_poly_pred = model.predict(x_poly)\n",
    "r2 = r2_score(y,y_poly_pred)\n",
    "\n",
    "sort_axis = operator.itemgetter(0)\n",
    "sorted_zip = sorted(zip(X,y_poly_pred), key=sort_axis)\n",
    "x, y_poly_pred = zip(*sorted_zip)\n",
    "fig = plt.figure(figsize=(10,8))\n",
    "_ = plt.scatter(X, y, s=10)\n",
    "_ = plt.plot(x, y_poly_pred, color='r')\n",
    "plt.show()"
   ]
  },
  {
   "cell_type": "code",
   "execution_count": 137,
   "id": "eec547af",
   "metadata": {},
   "outputs": [
    {
     "name": "stdout",
     "output_type": "stream",
     "text": [
      "R-Squared of the model is 0.8242378566950601\n"
     ]
    }
   ],
   "source": [
    "print(f\"R-Squared of the model is {r2}\")"
   ]
  },
  {
   "cell_type": "code",
   "execution_count": 142,
   "id": "a7aad6ba",
   "metadata": {},
   "outputs": [
    {
     "data": {
      "image/png": "[encoded data removed]",
      "text/plain": [
       "<Figure size 720x576 with 1 Axes>"
      ]
     },
     "metadata": {
      "needs_background": "light"
     },
     "output_type": "display_data"
    },
    {
     "name": "stdout",
     "output_type": "stream",
     "text": [
      "R-Squared of the model is 0.831777739222978\n"
     ]
    }
   ],
   "source": [
    "polynomial_features= PolynomialFeatures(degree=10)\n",
    "x_poly = polynomial_features.fit_transform(X)\n",
    "\n",
    "model = LinearRegression()\n",
    "model.fit(x_poly, y)\n",
    "y_poly_pred = model.predict(x_poly)\n",
    "r2 = r2_score(y,y_poly_pred)\n",
    "\n",
    "sort_axis = operator.itemgetter(0)\n",
    "sorted_zip = sorted(zip(X,y_poly_pred), key=sort_axis)\n",
    "x, y_poly_pred = zip(*sorted_zip)\n",
    "fig = plt.figure(figsize=(10,8))\n",
    "_ = plt.scatter(X, y, s=10)\n",
    "_ = plt.plot(x, y_poly_pred, color='r')\n",
    "plt.show()\n",
    "\n",
    "print(f\"R-Squared of the model is {r2}\")"
   ]
  },
  {
   "cell_type": "code",
   "execution_count": 181,
   "id": "07c3ab74",
   "metadata": {},
   "outputs": [
    {
     "data": {
      "image/png": "[encoded data removed]",
      "text/plain": [
       "<Figure size 720x576 with 1 Axes>"
      ]
     },
     "metadata": {
      "needs_background": "light"
     },
     "output_type": "display_data"
    },
    {
     "name": "stdout",
     "output_type": "stream",
     "text": [
      "R-Squared of the model is 0.7419383093794893\n"
     ]
    }
   ],
   "source": [
    "polynomial_features= PolynomialFeatures(degree=30)\n",
    "x_poly = polynomial_features.fit_transform(X)\n",
    "\n",
    "model = LinearRegression()\n",
    "model.fit(x_poly, y)\n",
    "y_poly_pred30 = model.predict(x_poly)\n",
    "r2 = r2_score(y,y_poly_pred30)\n",
    "\n",
    "sort_axis = operator.itemgetter(0)\n",
    "sorted_zip = sorted(zip(X,y_poly_pred30), key=sort_axis)\n",
    "x, y_poly_pred30 = zip(*sorted_zip)\n",
    "fig = plt.figure(figsize=(10,8))\n",
    "_ = plt.scatter(X, y, s=10)\n",
    "_ = plt.plot(x, y_poly_pred30, color='r')\n",
    "plt.show()\n",
    "\n",
    "print(f\"R-Squared of the model is {r2}\")"
   ]
  },
  {
   "cell_type": "code",
   "execution_count": 188,
   "id": "cec9943a",
   "metadata": {},
   "outputs": [],
   "source": [
    "plt.figure?"
   ]
  },
  {
   "cell_type": "code",
   "execution_count": 202,
   "id": "5632229e",
   "metadata": {},
   "outputs": [
    {
     "data": {
      "image/png": "[encoded data removed]",
      "text/plain": [
       "<Figure size 1440x504 with 3 Axes>"
      ]
     },
     "metadata": {
      "needs_background": "light"
     },
     "output_type": "display_data"
    }
   ],
   "source": [
    "plt.figure(figsize=(20,7))\n",
    "plt.subplot(131)\n",
    "_ = plt.scatter(X, y, s=10)\n",
    "_ = plt.plot(X, y_pred, '--',linewidth=2,color='r', label = \"degree = 1\")\n",
    "plt.legend()\n",
    "plt.xlabel(\"Underfit\\nHigh Bias\\nLow Variance\",fontsize=14)\n",
    "ax = plt.gca()\n",
    "ax.xaxis.set_ticklabels([])\n",
    "ax.yaxis.set_ticklabels([])\n",
    "plt.tick_params(left = False)\n",
    "plt.tick_params(bottom = False)\n",
    "\n",
    "\n",
    "plt.subplot(132)\n",
    "_ = plt.scatter(X, y, s=10)\n",
    "_ = plt.plot(x, y_poly_pred, '--',linewidth=2,color='g',label = \"degree = 2\")\n",
    "plt.legend()\n",
    "plt.xlabel(\"Correct Fit\\nLow Bias\\nLow Variance\",fontsize=14)\n",
    "ax = plt.gca()\n",
    "ax.xaxis.set_ticklabels([])\n",
    "ax.yaxis.set_ticklabels([])\n",
    "plt.tick_params(left = False)\n",
    "plt.tick_params(bottom = False)\n",
    "\n",
    "\n",
    "plt.subplot(133)\n",
    "_ = plt.scatter(X, y, s=10)\n",
    "_ = plt.plot(x, y_poly_pred30, '--',color='m', label = \"degree = 30\")\n",
    "plt.legend()\n",
    "plt.xlabel(\"Overfit\\nLow Bias\\nHigh Variance\",fontsize=14)\n",
    "ax = plt.gca()\n",
    "ax.xaxis.set_ticklabels([])\n",
    "ax.yaxis.set_ticklabels([])\n",
    "plt.tick_params(left = False)\n",
    "plt.tick_params(bottom = False)"
   ]
  },
  {
   "cell_type": "code",
   "execution_count": 95,
   "id": "742a0411",
   "metadata": {},
   "outputs": [],
   "source": [
    "mymodel = np.poly1d(np.polyfit(X[:,0], y[:,0], 2))\n",
    "\n",
    "myline = np.linspace(X.min(), X.max(), X.shape[0])"
   ]
  },
  {
   "cell_type": "code",
   "execution_count": 111,
   "id": "b23ffe31",
   "metadata": {},
   "outputs": [],
   "source": [
    "y_pred_poly = mymodel(X)"
   ]
  },
  {
   "cell_type": "code",
   "execution_count": 105,
   "id": "3bfd4cff",
   "metadata": {},
   "outputs": [
    {
     "data": {
      "image/png": "[encoded data removed]",
      "text/plain": [
       "<Figure size 720x576 with 1 Axes>"
      ]
     },
     "metadata": {
      "needs_background": "light"
     },
     "output_type": "display_data"
    }
   ],
   "source": [
    "fig = plt.figure(figsize=(10,8))\n",
    "plt.scatter(X, y, s=10)\n",
    "plt.plot(myline, mymodel(myline), linewidth=2,c='r')\n",
    "plt.show()"
   ]
  },
  {
   "cell_type": "code",
   "execution_count": 203,
   "id": "c0f61e0c",
   "metadata": {},
   "outputs": [],
   "source": [
    "#Own implementation (using GD)\n",
    "\n",
    "def loss(y, y_hat):\n",
    "\n",
    "    loss = np.mean((y_hat - y)**2)\n",
    "    return loss\n",
    "\n",
    "def gradients(X, y, y_hat):\n",
    "    \n",
    "    m = X.shape[0]\n",
    "    dw = (1/m)*np.dot(X.T, (y_hat - y))\n",
    "    db = (1/m)*np.sum((y_hat - y)) \n",
    "    \n",
    "    return dw, db\n",
    "\n",
    "def x_transform(X, degrees):\n",
    "    \n",
    "    t = X.copy()\n",
    "    for i in degrees:\n",
    "        X = np.append(X, t**i, axis=1)\n",
    "            \n",
    "    return X\n",
    "\n",
    "def train(X, y, bs, degrees, epochs, lr):\n",
    "    \n",
    "    x = x_transform(X, degrees)\n",
    "    m, n = x.shape\n",
    "    w = np.zeros((n,1))\n",
    "    b = 0\n",
    "    y = y.reshape(m,1)\n",
    "    \n",
    "    losses = []\n",
    "    for epoch in range(epochs):\n",
    "        for i in range((m-1)//bs + 1):\n",
    "            \n",
    "            start_i = i*bs\n",
    "            end_i = start_i + bs\n",
    "            xb = x[start_i:end_i]\n",
    "            yb = y[start_i:end_i]\n",
    "    \n",
    "            y_hat = np.dot(xb, w) + b\n",
    "            dw, db = gradients(xb, yb, y_hat)\n",
    "            w -= lr*dw\n",
    "            b -= lr*db\n",
    "        l = loss(y, np.dot(x, w) + b)\n",
    "        losses.append(l)\n",
    "        \n",
    "    return w, b, losses\n",
    "\n",
    "def predict(X, w, b, degrees):\n",
    "    \n",
    "    x1 = x_transform(X, degrees)\n",
    "    return np.dot(x1, w) + b"
   ]
  },
  {
   "cell_type": "code",
   "execution_count": 206,
   "id": "f01ed2a2",
   "metadata": {},
   "outputs": [
    {
     "data": {
      "image/png": "[encoded data removed]",
      "text/plain": [
       "<Figure size 576x432 with 1 Axes>"
      ]
     },
     "metadata": {
      "needs_background": "light"
     },
     "output_type": "display_data"
    }
   ],
   "source": [
    "w, b, l = train(X, y, bs=100, degrees=[2], epochs=1000,lr=0.01)\n",
    "fig = plt.figure(figsize=(8,6))\n",
    "plt.plot(X, y, 'y.')\n",
    "plt.plot(X, predict(X, w, b, [2]), 'r.')\n",
    "plt.legend([\"Data\", \"Polynomial predictions\"])\n",
    "plt.xlabel('X - Input')\n",
    "plt.ylabel('y - target / true')\n",
    "plt.title('Polynomial Regression')\n",
    "plt.show()"
   ]
  },
  {
   "cell_type": "code",
   "execution_count": 207,
   "id": "d8ed7206",
   "metadata": {},
   "outputs": [
    {
     "data": {
      "text/plain": [
       "0.8242362012250128"
      ]
     },
     "execution_count": 207,
     "metadata": {},
     "output_type": "execute_result"
    }
   ],
   "source": [
    "r2_score(y, predict(X, w, b, [2]))"
   ]
  },
  {
   "cell_type": "code",
   "execution_count": null,
   "id": "7580605b",
   "metadata": {},
   "outputs": [],
   "source": []
  }
 ],
 "metadata": {
  "kernelspec": {
   "display_name": "Python 3 (ipykernel)",
   "language": "python",
   "name": "python3"
  },
  "language_info": {
   "codemirror_mode": {
    "name": "ipython",
    "version": 3
   },
   "file_extension": ".py",
   "mimetype": "text/x-python",
   "name": "python",
   "nbconvert_exporter": "python",
   "pygments_lexer": "ipython3",
   "version": "3.9.7"
  }
 },
 "nbformat": 4,
 "nbformat_minor": 5
}
