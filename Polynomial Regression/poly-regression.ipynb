{
 "cells": [
  {
   "cell_type": "markdown",
   "id": "6fa589ca",
   "metadata": {},
   "source": [
    "## Import Libraries"
   ]
  },
  {
   "cell_type": "code",
   "execution_count": 6,
   "id": "6c2ea29e",
   "metadata": {},
   "outputs": [],
   "source": [
    "import pandas as pd\n",
    "import numpy as np\n",
    "import matplotlib.pyplot as plt\n",
    "import plotly.express as px\n",
    "import plotly.graph_objects as go\n",
    "from sklearn.linear_model import LinearRegression\n",
    "from sklearn.preprocessing import PolynomialFeatures\n",
    "import operator"
   ]
  },
  {
   "cell_type": "markdown",
   "id": "a895800d",
   "metadata": {},
   "source": [
    "## Creating and plotting synthetic data"
   ]
  },
  {
   "cell_type": "code",
   "execution_count": 7,
   "id": "7eb686fa",
   "metadata": {},
   "outputs": [
    {
     "data": {
      "image/png": "[encoded data removed]",
      "text/plain": [
       "<Figure size 720x576 with 1 Axes>"
      ]
     },
     "metadata": {
      "needs_background": "light"
     },
     "output_type": "display_data"
    }
   ],
   "source": [
    "X = 6 * np.random.rand(200, 1) - 3\n",
    "y = 0.5 * X**2 + X + 2 + np.random.randn(200, 1)\n",
    "\n",
    "fig = plt.figure(figsize=(10,8))\n",
    "_ = plt.scatter(X,y,s=10)\n",
    "_ = plt.xlabel(\"$X$\", fontsize=16)\n",
    "_ = plt.ylabel(\"$y$\", rotation=0, fontsize=16)"
   ]
  },
  {
   "cell_type": "code",
   "execution_count": 8,
   "id": "5d7ce32f",
   "metadata": {},
   "outputs": [
    {
     "data": {
      "application/vnd.plotly.v1+json": {
       "config": {
        "plotlyServerURL": "https://plot.ly"
       },
       "data": [
        {
         "mode": "markers",
         "type": "scatter",
         "x": [
          2.64072510496805,
          -1.5682136958943191,
          2.6066737755393357,
          -0.5818356966913445,
          0.09807141998801061,
          -1.7960489592874396,
          -2.5214948173005016,
          -2.4763860583683046,
          2.1212711341174453,
          -0.5831600358863298,
          2.1263162488739376,
          1.3133586621686106,
          1.3053240442422318,
          -2.7934230927199923,
          0.49545038819988596,
          -2.384279968384865,
          -1.1466324381476383,
          -2.6252701141735475,
          -1.377212117927409,
          -1.9255470862558561,
          2.1562314753662326,
          -2.4591371549387677,
          -1.578310041719933,
          -0.4330090365078645,
          0.6558174724074686,
          1.1605171722689587,
          1.2542357276517713,
          1.344259905930012,
          2.3584405929041923,
          -1.4125137481103498,
          2.646832084349601,
          2.282024268963168,
          -0.7715489467202756,
          -2.4969954573704016,
          1.2483768457203928,
          -1.9041298335629515,
          -0.33415188370294313,
          -1.8088476547555403,
          0.4363452578477034,
          -1.0112990391417895,
          0.9329596816291406,
          -2.536675253967112,
          0.45071984043428914,
          0.9851252361999152,
          2.4198969438231934,
          1.4361121751600612,
          -2.5565674605115083,
          -2.346278579683908,
          -1.7993390204546291,
          -1.7876882908863276,
          -1.0005768763589777,
          2.450882319436472,
          -1.48325973851743,
          1.5907246158892008,
          0.23647022713552213,
          -1.3564167199085069,
          2.668701825787066,
          -2.8730221617475253,
          -1.7564921190558425,
          -1.9340245407007663,
          0.19714466815630738,
          1.2989298292099623,
          -2.7198325403841785,
          1.200312644838018,
          -1.098545544454636,
          -2.4169914904702603,
          2.4125092722022314,
          2.955593105683727,
          -1.2826255265329107,
          1.9572832097508828,
          1.1076660898551198,
          2.8216380165412893,
          1.5777614683146162,
          1.0299983688915493,
          -1.2164493272820416,
          -1.4838038218711807,
          0.21865233749887825,
          -2.328918578677742,
          1.7016027304720112,
          -1.7480940150107152,
          0.4361222323379339,
          -1.1898831988032943,
          -1.6809134770328464,
          2.639167858504929,
          -0.8421276808292877,
          2.8311623029036124,
          -0.009503852284598935,
          -2.9143766695070488,
          0.6833593936778493,
          1.5049966889780935,
          0.9896672411816976,
          2.4102524955240296,
          2.6935135975082938,
          0.3438318006573029,
          2.394046019450866,
          -2.6943312423067303,
          -2.543480622239435,
          -1.8733946545596032,
          2.757327981643985,
          1.4632188154652361,
          0.4193375540617068,
          1.2516301509965846,
          2.3568821982091785,
          2.9669347692893497,
          -2.2901895240133534,
          0.4412781547372404,
          -2.947439732001264,
          2.663739227803288,
          -1.3927652678985583,
          -1.6881575214606506,
          0.1396527735992832,
          0.6459988224180369,
          -1.6265757131491363,
          -0.4112682102846623,
          1.5867770215804562,
          0.7302302855405722,
          -2.460869943459244,
          1.0704041712700683,
          -2.5674486983815035,
          0.04885894602626273,
          2.2326444987194716,
          1.4166424881639292,
          1.3947614314675114,
          -2.82093967038724,
          0.912032738103929,
          0.317279973809125,
          -0.9589452099357794,
          -1.4330365915985719,
          -1.8222219793267025,
          -0.46688945618316824,
          -1.0720551537908383,
          -2.6546359458312843,
          2.9431191306030016,
          0.8671571716039832,
          0.6394403784685618,
          -1.6227008565895078,
          -2.2385241467498584,
          -0.5874001865235825,
          -0.8944108513695435,
          2.1656142884778244,
          -0.01250160646269416,
          -2.9744128647770225,
          -1.4108848267091727,
          1.7010428112285991,
          0.9991249460231151,
          0.9619397843119102,
          1.5104031906843964,
          -2.479916454106017,
          -0.3149456118722864,
          1.521711945300737,
          0.14585733449841243,
          2.559642763605421,
          -1.270353820356959,
          1.769279242159759,
          0.968201131326202,
          0.5934303761347755,
          2.1710419858110113,
          -1.4338653624679314,
          -1.197308393144546,
          -2.1942751012131527,
          2.837409674300255,
          -1.3242483339071727,
          1.8028350437804637,
          1.1718260771150693,
          0.12405888248837149,
          -0.05083626309042488,
          -1.0973095049319013,
          1.651182613227137,
          -0.8490685135016234,
          -0.704805220191981,
          1.274271288549194,
          1.6643732001389973,
          1.15602847169954,
          -1.6980945124398406,
          2.456949884335282,
          -0.7172797249072644,
          -1.1550504138812703,
          -2.143790890340132,
          -0.3167693077358016,
          -2.8433447247799526,
          -1.7619315398961846,
          1.101485138877682,
          0.6125047454799413,
          -2.407617400431221,
          -0.5367308571092173,
          2.840240359065449,
          -0.6926177805481588,
          -2.9342498047329877,
          2.562719750054544,
          0.7302260218320695,
          2.5835574995515733,
          -2.993308346666054,
          1.1591340382389284,
          1.5665085198374857,
          -1.2327607805264553,
          -0.9801311919947606,
          -1.9643283999568444,
          -0.8585104413467901,
          0.02146098944949859,
          -0.08883998053430542
         ],
         "y": [
          9.604455203635831,
          0.9511694816082471,
          7.5774711569013915,
          0.5822926576395946,
          3.6350206537535614,
          2.3915790983061327,
          2.604464248076151,
          2.0447168581363147,
          4.5947329172623705,
          1.7763241568056674,
          7.025526792973273,
          5.0458014617487645,
          5.132475725670907,
          3.071595646103075,
          3.3728301682157076,
          3.7617998166312745,
          1.2675214099577181,
          4.129269291131866,
          -0.3152545758966061,
          0.9997943951111875,
          7.172047315744022,
          3.370740872134328,
          1.7545182303051312,
          1.6277860169048421,
          2.3500003288436724,
          2.6969764249194172,
          4.2905977248890865,
          2.9876101767467924,
          5.8701405929348045,
          2.304321692974117,
          8.093805017419804,
          7.731912967641841,
          0.4443091765987264,
          2.483940568308953,
          4.196115326917122,
          1.9015350990384126,
          1.7445296829059762,
          1.446110829972027,
          1.8381039074501535,
          1.7630962633725675,
          4.2254503946924915,
          3.424851215204308,
          3.5884662966332854,
          2.4268448910654468,
          8.15209762905553,
          2.325342091987678,
          3.0614463909045684,
          -0.013760786313535167,
          0.7830682222853993,
          1.5848092031412264,
          3.7949276952185516,
          7.517847316200546,
          1.5532799950675582,
          5.065363623848352,
          3.305724485280879,
          0.9488802992482933,
          8.980208545861913,
          4.429185077070163,
          1.8292057711426877,
          1.8612780277175238,
          2.523148742358848,
          5.64049560039501,
          3.358527867629808,
          4.076345872377254,
          0.6076685038903726,
          3.2744603371180236,
          6.969845625801072,
          10.317764025644955,
          1.7348148673365096,
          6.375574536338706,
          3.0565712260347375,
          10.500860038546707,
          4.054345972758195,
          2.876137289820136,
          0.45581056970581413,
          1.8096356020668065,
          2.163172567668216,
          1.941380358551001,
          5.540219056103244,
          2.214949734943887,
          3.9324025533637386,
          0.7232613105502469,
          1.2242543945041322,
          8.483935682751115,
          1.5879811779403272,
          8.468118865873981,
          0.6579018766049358,
          0.8966229386073179,
          2.439476070301525,
          3.6202555314744407,
          1.0597480555535181,
          6.424376774018738,
          8.810840302213952,
          1.6237011845395004,
          8.023378017756988,
          2.674525199545382,
          3.9570108937302257,
          0.7625946406790716,
          8.735754965795307,
          6.047501628337878,
          4.637423813917968,
          2.8718051488172534,
          7.976931017474411,
          8.21090558259924,
          2.1574903648824164,
          1.8343938423377573,
          4.369009876240076,
          7.21923109980162,
          3.0018417015763514,
          1.8784507148699443,
          3.952461092573332,
          2.4580312784640475,
          1.9915931403075535,
          1.284111327311397,
          5.4757571256283715,
          4.221363357109756,
          2.7672027539264135,
          2.658742834138589,
          4.39866704668162,
          1.4333342649793939,
          7.224496197955557,
          2.689880329383459,
          4.016771048464439,
          2.6228691804593116,
          4.485047154751796,
          2.3562934717094746,
          0.7293111571648746,
          2.1132516789931515,
          3.421887502009572,
          1.2774829130982743,
          1.4637185389386071,
          2.0237070495103717,
          8.595143026275368,
          5.426004359865739,
          3.051028787258774,
          2.4251604008607646,
          2.054531876338617,
          2.820392215552001,
          1.633597991455994,
          5.1879491399102,
          2.397054030139359,
          4.53784772479276,
          -0.1635506318770541,
          4.834778667659232,
          5.672765443396134,
          4.559415397699654,
          6.190498679751971,
          3.006279721027783,
          0.13374025897155373,
          2.281091066115196,
          1.60169543360875,
          7.162238984133082,
          2.482847809938557,
          3.9673921260998286,
          3.239977013540104,
          2.488335340055032,
          5.20288570259946,
          0.44625379052133707,
          2.258298157959276,
          2.5850735265070184,
          7.958170325310384,
          1.9837180128790188,
          5.64569516455378,
          2.4733096389002065,
          1.7322624323456428,
          2.6518359986902826,
          2.3936791001151967,
          2.77571283829817,
          1.5653202404100222,
          2.158604289155452,
          4.828879757059515,
          5.879139334206621,
          3.5229775103056067,
          1.8675930358659414,
          5.701721843823061,
          0.3739682883292894,
          1.7527443392279554,
          0.30574828869720805,
          0.5819948402299844,
          1.849419134759213,
          3.0423068127874164,
          4.6593775516609375,
          4.078424966797717,
          2.6435391709453335,
          1.2779022825358157,
          7.335062508859564,
          1.0351458384567855,
          1.310968052272854,
          9.474371847765736,
          1.2349737619653953,
          7.31468094792697,
          3.4563035025137907,
          4.2872713843321275,
          4.934795762853535,
          1.477977527394397,
          0.8609392918566742,
          2.3168676967478374,
          0.24991491327967896,
          0.030165110305582,
          4.324136099193103
         ]
        }
       ],
       "layout": {
        "template": {
         "data": {
          "bar": [
           {
            "error_x": {
             "color": "#2a3f5f"
            },
            "error_y": {
             "color": "#2a3f5f"
            },
            "marker": {
             "line": {
              "color": "#E5ECF6",
              "width": 0.5
             },
             "pattern": {
              "fillmode": "overlay",
              "size": 10,
              "solidity": 0.2
             }
            },
            "type": "bar"
           }
          ],
          "barpolar": [
           {
            "marker": {
             "line": {
              "color": "#E5ECF6",
              "width": 0.5
             },
             "pattern": {
              "fillmode": "overlay",
              "size": 10,
              "solidity": 0.2
             }
            },
            "type": "barpolar"
           }
          ],
          "carpet": [
           {
            "aaxis": {
             "endlinecolor": "#2a3f5f",
             "gridcolor": "white",
             "linecolor": "white",
             "minorgridcolor": "white",
             "startlinecolor": "#2a3f5f"
            },
            "baxis": {
             "endlinecolor": "#2a3f5f",
             "gridcolor": "white",
             "linecolor": "white",
             "minorgridcolor": "white",
             "startlinecolor": "#2a3f5f"
            },
            "type": "carpet"
           }
          ],
          "choropleth": [
           {
            "colorbar": {
             "outlinewidth": 0,
             "ticks": ""
            },
            "type": "choropleth"
           }
          ],
          "contour": [
           {
            "colorbar": {
             "outlinewidth": 0,
             "ticks": ""
            },
            "colorscale": [
             [
              0,
              "#0d0887"
             ],
             [
              0.1111111111111111,
              "#46039f"
             ],
             [
              0.2222222222222222,
              "#7201a8"
             ],
             [
              0.3333333333333333,
              "#9c179e"
             ],
             [
              0.4444444444444444,
              "#bd3786"
             ],
             [
              0.5555555555555556,
              "#d8576b"
             ],
             [
              0.6666666666666666,
              "#ed7953"
             ],
             [
              0.7777777777777778,
              "#fb9f3a"
             ],
             [
              0.8888888888888888,
              "#fdca26"
             ],
             [
              1,
              "#f0f921"
             ]
            ],
            "type": "contour"
           }
          ],
          "contourcarpet": [
           {
            "colorbar": {
             "outlinewidth": 0,
             "ticks": ""
            },
            "type": "contourcarpet"
           }
          ],
          "heatmap": [
           {
            "colorbar": {
             "outlinewidth": 0,
             "ticks": ""
            },
            "colorscale": [
             [
              0,
              "#0d0887"
             ],
             [
              0.1111111111111111,
              "#46039f"
             ],
             [
              0.2222222222222222,
              "#7201a8"
             ],
             [
              0.3333333333333333,
              "#9c179e"
             ],
             [
              0.4444444444444444,
              "#bd3786"
             ],
             [
              0.5555555555555556,
              "#d8576b"
             ],
             [
              0.6666666666666666,
              "#ed7953"
             ],
             [
              0.7777777777777778,
              "#fb9f3a"
             ],
             [
              0.8888888888888888,
              "#fdca26"
             ],
             [
              1,
              "#f0f921"
             ]
            ],
            "type": "heatmap"
           }
          ],
          "heatmapgl": [
           {
            "colorbar": {
             "outlinewidth": 0,
             "ticks": ""
            },
            "colorscale": [
             [
              0,
              "#0d0887"
             ],
             [
              0.1111111111111111,
              "#46039f"
             ],
             [
              0.2222222222222222,
              "#7201a8"
             ],
             [
              0.3333333333333333,
              "#9c179e"
             ],
             [
              0.4444444444444444,
              "#bd3786"
             ],
             [
              0.5555555555555556,
              "#d8576b"
             ],
             [
              0.6666666666666666,
              "#ed7953"
             ],
             [
              0.7777777777777778,
              "#fb9f3a"
             ],
             [
              0.8888888888888888,
              "#fdca26"
             ],
             [
              1,
              "#f0f921"
             ]
            ],
            "type": "heatmapgl"
           }
          ],
          "histogram": [
           {
            "marker": {
             "pattern": {
              "fillmode": "overlay",
              "size": 10,
              "solidity": 0.2
             }
            },
            "type": "histogram"
           }
          ],
          "histogram2d": [
           {
            "colorbar": {
             "outlinewidth": 0,
             "ticks": ""
            },
            "colorscale": [
             [
              0,
              "#0d0887"
             ],
             [
              0.1111111111111111,
              "#46039f"
             ],
             [
              0.2222222222222222,
              "#7201a8"
             ],
             [
              0.3333333333333333,
              "#9c179e"
             ],
             [
              0.4444444444444444,
              "#bd3786"
             ],
             [
              0.5555555555555556,
              "#d8576b"
             ],
             [
              0.6666666666666666,
              "#ed7953"
             ],
             [
              0.7777777777777778,
              "#fb9f3a"
             ],
             [
              0.8888888888888888,
              "#fdca26"
             ],
             [
              1,
              "#f0f921"
             ]
            ],
            "type": "histogram2d"
           }
          ],
          "histogram2dcontour": [
           {
            "colorbar": {
             "outlinewidth": 0,
             "ticks": ""
            },
            "colorscale": [
             [
              0,
              "#0d0887"
             ],
             [
              0.1111111111111111,
              "#46039f"
             ],
             [
              0.2222222222222222,
              "#7201a8"
             ],
             [
              0.3333333333333333,
              "#9c179e"
             ],
             [
              0.4444444444444444,
              "#bd3786"
             ],
             [
              0.5555555555555556,
              "#d8576b"
             ],
             [
              0.6666666666666666,
              "#ed7953"
             ],
             [
              0.7777777777777778,
              "#fb9f3a"
             ],
             [
              0.8888888888888888,
              "#fdca26"
             ],
             [
              1,
              "#f0f921"
             ]
            ],
            "type": "histogram2dcontour"
           }
          ],
          "mesh3d": [
           {
            "colorbar": {
             "outlinewidth": 0,
             "ticks": ""
            },
            "type": "mesh3d"
           }
          ],
          "parcoords": [
           {
            "line": {
             "colorbar": {
              "outlinewidth": 0,
              "ticks": ""
             }
            },
            "type": "parcoords"
           }
          ],
          "pie": [
           {
            "automargin": true,
            "type": "pie"
           }
          ],
          "scatter": [
           {
            "marker": {
             "colorbar": {
              "outlinewidth": 0,
              "ticks": ""
             }
            },
            "type": "scatter"
           }
          ],
          "scatter3d": [
           {
            "line": {
             "colorbar": {
              "outlinewidth": 0,
              "ticks": ""
             }
            },
            "marker": {
             "colorbar": {
              "outlinewidth": 0,
              "ticks": ""
             }
            },
            "type": "scatter3d"
           }
          ],
          "scattercarpet": [
           {
            "marker": {
             "colorbar": {
              "outlinewidth": 0,
              "ticks": ""
             }
            },
            "type": "scattercarpet"
           }
          ],
          "scattergeo": [
           {
            "marker": {
             "colorbar": {
              "outlinewidth": 0,
              "ticks": ""
             }
            },
            "type": "scattergeo"
           }
          ],
          "scattergl": [
           {
            "marker": {
             "colorbar": {
              "outlinewidth": 0,
              "ticks": ""
             }
            },
            "type": "scattergl"
           }
          ],
          "scattermapbox": [
           {
            "marker": {
             "colorbar": {
              "outlinewidth": 0,
              "ticks": ""
             }
            },
            "type": "scattermapbox"
           }
          ],
          "scatterpolar": [
           {
            "marker": {
             "colorbar": {
              "outlinewidth": 0,
              "ticks": ""
             }
            },
            "type": "scatterpolar"
           }
          ],
          "scatterpolargl": [
           {
            "marker": {
             "colorbar": {
              "outlinewidth": 0,
              "ticks": ""
             }
            },
            "type": "scatterpolargl"
           }
          ],
          "scatterternary": [
           {
            "marker": {
             "colorbar": {
              "outlinewidth": 0,
              "ticks": ""
             }
            },
            "type": "scatterternary"
           }
          ],
          "surface": [
           {
            "colorbar": {
             "outlinewidth": 0,
             "ticks": ""
            },
            "colorscale": [
             [
              0,
              "#0d0887"
             ],
             [
              0.1111111111111111,
              "#46039f"
             ],
             [
              0.2222222222222222,
              "#7201a8"
             ],
             [
              0.3333333333333333,
              "#9c179e"
             ],
             [
              0.4444444444444444,
              "#bd3786"
             ],
             [
              0.5555555555555556,
              "#d8576b"
             ],
             [
              0.6666666666666666,
              "#ed7953"
             ],
             [
              0.7777777777777778,
              "#fb9f3a"
             ],
             [
              0.8888888888888888,
              "#fdca26"
             ],
             [
              1,
              "#f0f921"
             ]
            ],
            "type": "surface"
           }
          ],
          "table": [
           {
            "cells": {
             "fill": {
              "color": "#EBF0F8"
             },
             "line": {
              "color": "white"
             }
            },
            "header": {
             "fill": {
              "color": "#C8D4E3"
             },
             "line": {
              "color": "white"
             }
            },
            "type": "table"
           }
          ]
         },
         "layout": {
          "annotationdefaults": {
           "arrowcolor": "#2a3f5f",
           "arrowhead": 0,
           "arrowwidth": 1
          },
          "autotypenumbers": "strict",
          "coloraxis": {
           "colorbar": {
            "outlinewidth": 0,
            "ticks": ""
           }
          },
          "colorscale": {
           "diverging": [
            [
             0,
             "#8e0152"
            ],
            [
             0.1,
             "#c51b7d"
            ],
            [
             0.2,
             "#de77ae"
            ],
            [
             0.3,
             "#f1b6da"
            ],
            [
             0.4,
             "#fde0ef"
            ],
            [
             0.5,
             "#f7f7f7"
            ],
            [
             0.6,
             "#e6f5d0"
            ],
            [
             0.7,
             "#b8e186"
            ],
            [
             0.8,
             "#7fbc41"
            ],
            [
             0.9,
             "#4d9221"
            ],
            [
             1,
             "#276419"
            ]
           ],
           "sequential": [
            [
             0,
             "#0d0887"
            ],
            [
             0.1111111111111111,
             "#46039f"
            ],
            [
             0.2222222222222222,
             "#7201a8"
            ],
            [
             0.3333333333333333,
             "#9c179e"
            ],
            [
             0.4444444444444444,
             "#bd3786"
            ],
            [
             0.5555555555555556,
             "#d8576b"
            ],
            [
             0.6666666666666666,
             "#ed7953"
            ],
            [
             0.7777777777777778,
             "#fb9f3a"
            ],
            [
             0.8888888888888888,
             "#fdca26"
            ],
            [
             1,
             "#f0f921"
            ]
           ],
           "sequentialminus": [
            [
             0,
             "#0d0887"
            ],
            [
             0.1111111111111111,
             "#46039f"
            ],
            [
             0.2222222222222222,
             "#7201a8"
            ],
            [
             0.3333333333333333,
             "#9c179e"
            ],
            [
             0.4444444444444444,
             "#bd3786"
            ],
            [
             0.5555555555555556,
             "#d8576b"
            ],
            [
             0.6666666666666666,
             "#ed7953"
            ],
            [
             0.7777777777777778,
             "#fb9f3a"
            ],
            [
             0.8888888888888888,
             "#fdca26"
            ],
            [
             1,
             "#f0f921"
            ]
           ]
          },
          "colorway": [
           "#636efa",
           "#EF553B",
           "#00cc96",
           "#ab63fa",
           "#FFA15A",
           "#19d3f3",
           "#FF6692",
           "#B6E880",
           "#FF97FF",
           "#FECB52"
          ],
          "font": {
           "color": "#2a3f5f"
          },
          "geo": {
           "bgcolor": "white",
           "lakecolor": "white",
           "landcolor": "#E5ECF6",
           "showlakes": true,
           "showland": true,
           "subunitcolor": "white"
          },
          "hoverlabel": {
           "align": "left"
          },
          "hovermode": "closest",
          "mapbox": {
           "style": "light"
          },
          "paper_bgcolor": "white",
          "plot_bgcolor": "#E5ECF6",
          "polar": {
           "angularaxis": {
            "gridcolor": "white",
            "linecolor": "white",
            "ticks": ""
           },
           "bgcolor": "#E5ECF6",
           "radialaxis": {
            "gridcolor": "white",
            "linecolor": "white",
            "ticks": ""
           }
          },
          "scene": {
           "xaxis": {
            "backgroundcolor": "#E5ECF6",
            "gridcolor": "white",
            "gridwidth": 2,
            "linecolor": "white",
            "showbackground": true,
            "ticks": "",
            "zerolinecolor": "white"
           },
           "yaxis": {
            "backgroundcolor": "#E5ECF6",
            "gridcolor": "white",
            "gridwidth": 2,
            "linecolor": "white",
            "showbackground": true,
            "ticks": "",
            "zerolinecolor": "white"
           },
           "zaxis": {
            "backgroundcolor": "#E5ECF6",
            "gridcolor": "white",
            "gridwidth": 2,
            "linecolor": "white",
            "showbackground": true,
            "ticks": "",
            "zerolinecolor": "white"
           }
          },
          "shapedefaults": {
           "line": {
            "color": "#2a3f5f"
           }
          },
          "ternary": {
           "aaxis": {
            "gridcolor": "white",
            "linecolor": "white",
            "ticks": ""
           },
           "baxis": {
            "gridcolor": "white",
            "linecolor": "white",
            "ticks": ""
           },
           "bgcolor": "#E5ECF6",
           "caxis": {
            "gridcolor": "white",
            "linecolor": "white",
            "ticks": ""
           }
          },
          "title": {
           "x": 0.05
          },
          "xaxis": {
           "automargin": true,
           "gridcolor": "white",
           "linecolor": "white",
           "ticks": "",
           "title": {
            "standoff": 15
           },
           "zerolinecolor": "white",
           "zerolinewidth": 2
          },
          "yaxis": {
           "automargin": true,
           "gridcolor": "white",
           "linecolor": "white",
           "ticks": "",
           "title": {
            "standoff": 15
           },
           "zerolinecolor": "white",
           "zerolinewidth": 2
          }
         }
        }
       }
      },
      "text/html": [
       "<div>                            <div id=\"5d5a7338-131c-4d47-810e-87bf24f9eb77\" class=\"plotly-graph-div\" style=\"height:525px; width:100%;\"></div>            <script type=\"text/javascript\">                require([\"plotly\"], function(Plotly) {                    window.PLOTLYENV=window.PLOTLYENV || {};                                    if (document.getElementById(\"5d5a7338-131c-4d47-810e-87bf24f9eb77\")) {                    Plotly.newPlot(                        \"5d5a7338-131c-4d47-810e-87bf24f9eb77\",                        [{\"mode\":\"markers\",\"x\":[2.64072510496805,-1.5682136958943191,2.6066737755393357,-0.5818356966913445,0.09807141998801061,-1.7960489592874396,-2.5214948173005016,-2.4763860583683046,2.1212711341174453,-0.5831600358863298,2.1263162488739376,1.3133586621686106,1.3053240442422318,-2.7934230927199923,0.49545038819988596,-2.384279968384865,-1.1466324381476383,-2.6252701141735475,-1.377212117927409,-1.9255470862558561,2.1562314753662326,-2.4591371549387677,-1.578310041719933,-0.4330090365078645,0.6558174724074686,1.1605171722689587,1.2542357276517713,1.344259905930012,2.3584405929041923,-1.4125137481103498,2.646832084349601,2.282024268963168,-0.7715489467202756,-2.4969954573704016,1.2483768457203928,-1.9041298335629515,-0.33415188370294313,-1.8088476547555403,0.4363452578477034,-1.0112990391417895,0.9329596816291406,-2.536675253967112,0.45071984043428914,0.9851252361999152,2.4198969438231934,1.4361121751600612,-2.5565674605115083,-2.346278579683908,-1.7993390204546291,-1.7876882908863276,-1.0005768763589777,2.450882319436472,-1.48325973851743,1.5907246158892008,0.23647022713552213,-1.3564167199085069,2.668701825787066,-2.8730221617475253,-1.7564921190558425,-1.9340245407007663,0.19714466815630738,1.2989298292099623,-2.7198325403841785,1.200312644838018,-1.098545544454636,-2.4169914904702603,2.4125092722022314,2.955593105683727,-1.2826255265329107,1.9572832097508828,1.1076660898551198,2.8216380165412893,1.5777614683146162,1.0299983688915493,-1.2164493272820416,-1.4838038218711807,0.21865233749887825,-2.328918578677742,1.7016027304720112,-1.7480940150107152,0.4361222323379339,-1.1898831988032943,-1.6809134770328464,2.639167858504929,-0.8421276808292877,2.8311623029036124,-0.009503852284598935,-2.9143766695070488,0.6833593936778493,1.5049966889780935,0.9896672411816976,2.4102524955240296,2.6935135975082938,0.3438318006573029,2.394046019450866,-2.6943312423067303,-2.543480622239435,-1.8733946545596032,2.757327981643985,1.4632188154652361,0.4193375540617068,1.2516301509965846,2.3568821982091785,2.9669347692893497,-2.2901895240133534,0.4412781547372404,-2.947439732001264,2.663739227803288,-1.3927652678985583,-1.6881575214606506,0.1396527735992832,0.6459988224180369,-1.6265757131491363,-0.4112682102846623,1.5867770215804562,0.7302302855405722,-2.460869943459244,1.0704041712700683,-2.5674486983815035,0.04885894602626273,2.2326444987194716,1.4166424881639292,1.3947614314675114,-2.82093967038724,0.912032738103929,0.317279973809125,-0.9589452099357794,-1.4330365915985719,-1.8222219793267025,-0.46688945618316824,-1.0720551537908383,-2.6546359458312843,2.9431191306030016,0.8671571716039832,0.6394403784685618,-1.6227008565895078,-2.2385241467498584,-0.5874001865235825,-0.8944108513695435,2.1656142884778244,-0.01250160646269416,-2.9744128647770225,-1.4108848267091727,1.7010428112285991,0.9991249460231151,0.9619397843119102,1.5104031906843964,-2.479916454106017,-0.3149456118722864,1.521711945300737,0.14585733449841243,2.559642763605421,-1.270353820356959,1.769279242159759,0.968201131326202,0.5934303761347755,2.1710419858110113,-1.4338653624679314,-1.197308393144546,-2.1942751012131527,2.837409674300255,-1.3242483339071727,1.8028350437804637,1.1718260771150693,0.12405888248837149,-0.05083626309042488,-1.0973095049319013,1.651182613227137,-0.8490685135016234,-0.704805220191981,1.274271288549194,1.6643732001389973,1.15602847169954,-1.6980945124398406,2.456949884335282,-0.7172797249072644,-1.1550504138812703,-2.143790890340132,-0.3167693077358016,-2.8433447247799526,-1.7619315398961846,1.101485138877682,0.6125047454799413,-2.407617400431221,-0.5367308571092173,2.840240359065449,-0.6926177805481588,-2.9342498047329877,2.562719750054544,0.7302260218320695,2.5835574995515733,-2.993308346666054,1.1591340382389284,1.5665085198374857,-1.2327607805264553,-0.9801311919947606,-1.9643283999568444,-0.8585104413467901,0.02146098944949859,-0.08883998053430542],\"y\":[9.604455203635831,0.9511694816082471,7.5774711569013915,0.5822926576395946,3.6350206537535614,2.3915790983061327,2.604464248076151,2.0447168581363147,4.5947329172623705,1.7763241568056674,7.025526792973273,5.0458014617487645,5.132475725670907,3.071595646103075,3.3728301682157076,3.7617998166312745,1.2675214099577181,4.129269291131866,-0.3152545758966061,0.9997943951111875,7.172047315744022,3.370740872134328,1.7545182303051312,1.6277860169048421,2.3500003288436724,2.6969764249194172,4.2905977248890865,2.9876101767467924,5.8701405929348045,2.304321692974117,8.093805017419804,7.731912967641841,0.4443091765987264,2.483940568308953,4.196115326917122,1.9015350990384126,1.7445296829059762,1.446110829972027,1.8381039074501535,1.7630962633725675,4.2254503946924915,3.424851215204308,3.5884662966332854,2.4268448910654468,8.15209762905553,2.325342091987678,3.0614463909045684,-0.013760786313535167,0.7830682222853993,1.5848092031412264,3.7949276952185516,7.517847316200546,1.5532799950675582,5.065363623848352,3.305724485280879,0.9488802992482933,8.980208545861913,4.429185077070163,1.8292057711426877,1.8612780277175238,2.523148742358848,5.64049560039501,3.358527867629808,4.076345872377254,0.6076685038903726,3.2744603371180236,6.969845625801072,10.317764025644955,1.7348148673365096,6.375574536338706,3.0565712260347375,10.500860038546707,4.054345972758195,2.876137289820136,0.45581056970581413,1.8096356020668065,2.163172567668216,1.941380358551001,5.540219056103244,2.214949734943887,3.9324025533637386,0.7232613105502469,1.2242543945041322,8.483935682751115,1.5879811779403272,8.468118865873981,0.6579018766049358,0.8966229386073179,2.439476070301525,3.6202555314744407,1.0597480555535181,6.424376774018738,8.810840302213952,1.6237011845395004,8.023378017756988,2.674525199545382,3.9570108937302257,0.7625946406790716,8.735754965795307,6.047501628337878,4.637423813917968,2.8718051488172534,7.976931017474411,8.21090558259924,2.1574903648824164,1.8343938423377573,4.369009876240076,7.21923109980162,3.0018417015763514,1.8784507148699443,3.952461092573332,2.4580312784640475,1.9915931403075535,1.284111327311397,5.4757571256283715,4.221363357109756,2.7672027539264135,2.658742834138589,4.39866704668162,1.4333342649793939,7.224496197955557,2.689880329383459,4.016771048464439,2.6228691804593116,4.485047154751796,2.3562934717094746,0.7293111571648746,2.1132516789931515,3.421887502009572,1.2774829130982743,1.4637185389386071,2.0237070495103717,8.595143026275368,5.426004359865739,3.051028787258774,2.4251604008607646,2.054531876338617,2.820392215552001,1.633597991455994,5.1879491399102,2.397054030139359,4.53784772479276,-0.1635506318770541,4.834778667659232,5.672765443396134,4.559415397699654,6.190498679751971,3.006279721027783,0.13374025897155373,2.281091066115196,1.60169543360875,7.162238984133082,2.482847809938557,3.9673921260998286,3.239977013540104,2.488335340055032,5.20288570259946,0.44625379052133707,2.258298157959276,2.5850735265070184,7.958170325310384,1.9837180128790188,5.64569516455378,2.4733096389002065,1.7322624323456428,2.6518359986902826,2.3936791001151967,2.77571283829817,1.5653202404100222,2.158604289155452,4.828879757059515,5.879139334206621,3.5229775103056067,1.8675930358659414,5.701721843823061,0.3739682883292894,1.7527443392279554,0.30574828869720805,0.5819948402299844,1.849419134759213,3.0423068127874164,4.6593775516609375,4.078424966797717,2.6435391709453335,1.2779022825358157,7.335062508859564,1.0351458384567855,1.310968052272854,9.474371847765736,1.2349737619653953,7.31468094792697,3.4563035025137907,4.2872713843321275,4.934795762853535,1.477977527394397,0.8609392918566742,2.3168676967478374,0.24991491327967896,0.030165110305582,4.324136099193103],\"type\":\"scatter\"}],                        {\"template\":{\"data\":{\"bar\":[{\"error_x\":{\"color\":\"#2a3f5f\"},\"error_y\":{\"color\":\"#2a3f5f\"},\"marker\":{\"line\":{\"color\":\"#E5ECF6\",\"width\":0.5},\"pattern\":{\"fillmode\":\"overlay\",\"size\":10,\"solidity\":0.2}},\"type\":\"bar\"}],\"barpolar\":[{\"marker\":{\"line\":{\"color\":\"#E5ECF6\",\"width\":0.5},\"pattern\":{\"fillmode\":\"overlay\",\"size\":10,\"solidity\":0.2}},\"type\":\"barpolar\"}],\"carpet\":[{\"aaxis\":{\"endlinecolor\":\"#2a3f5f\",\"gridcolor\":\"white\",\"linecolor\":\"white\",\"minorgridcolor\":\"white\",\"startlinecolor\":\"#2a3f5f\"},\"baxis\":{\"endlinecolor\":\"#2a3f5f\",\"gridcolor\":\"white\",\"linecolor\":\"white\",\"minorgridcolor\":\"white\",\"startlinecolor\":\"#2a3f5f\"},\"type\":\"carpet\"}],\"choropleth\":[{\"colorbar\":{\"outlinewidth\":0,\"ticks\":\"\"},\"type\":\"choropleth\"}],\"contour\":[{\"colorbar\":{\"outlinewidth\":0,\"ticks\":\"\"},\"colorscale\":[[0.0,\"#0d0887\"],[0.1111111111111111,\"#46039f\"],[0.2222222222222222,\"#7201a8\"],[0.3333333333333333,\"#9c179e\"],[0.4444444444444444,\"#bd3786\"],[0.5555555555555556,\"#d8576b\"],[0.6666666666666666,\"#ed7953\"],[0.7777777777777778,\"#fb9f3a\"],[0.8888888888888888,\"#fdca26\"],[1.0,\"#f0f921\"]],\"type\":\"contour\"}],\"contourcarpet\":[{\"colorbar\":{\"outlinewidth\":0,\"ticks\":\"\"},\"type\":\"contourcarpet\"}],\"heatmap\":[{\"colorbar\":{\"outlinewidth\":0,\"ticks\":\"\"},\"colorscale\":[[0.0,\"#0d0887\"],[0.1111111111111111,\"#46039f\"],[0.2222222222222222,\"#7201a8\"],[0.3333333333333333,\"#9c179e\"],[0.4444444444444444,\"#bd3786\"],[0.5555555555555556,\"#d8576b\"],[0.6666666666666666,\"#ed7953\"],[0.7777777777777778,\"#fb9f3a\"],[0.8888888888888888,\"#fdca26\"],[1.0,\"#f0f921\"]],\"type\":\"heatmap\"}],\"heatmapgl\":[{\"colorbar\":{\"outlinewidth\":0,\"ticks\":\"\"},\"colorscale\":[[0.0,\"#0d0887\"],[0.1111111111111111,\"#46039f\"],[0.2222222222222222,\"#7201a8\"],[0.3333333333333333,\"#9c179e\"],[0.4444444444444444,\"#bd3786\"],[0.5555555555555556,\"#d8576b\"],[0.6666666666666666,\"#ed7953\"],[0.7777777777777778,\"#fb9f3a\"],[0.8888888888888888,\"#fdca26\"],[1.0,\"#f0f921\"]],\"type\":\"heatmapgl\"}],\"histogram\":[{\"marker\":{\"pattern\":{\"fillmode\":\"overlay\",\"size\":10,\"solidity\":0.2}},\"type\":\"histogram\"}],\"histogram2d\":[{\"colorbar\":{\"outlinewidth\":0,\"ticks\":\"\"},\"colorscale\":[[0.0,\"#0d0887\"],[0.1111111111111111,\"#46039f\"],[0.2222222222222222,\"#7201a8\"],[0.3333333333333333,\"#9c179e\"],[0.4444444444444444,\"#bd3786\"],[0.5555555555555556,\"#d8576b\"],[0.6666666666666666,\"#ed7953\"],[0.7777777777777778,\"#fb9f3a\"],[0.8888888888888888,\"#fdca26\"],[1.0,\"#f0f921\"]],\"type\":\"histogram2d\"}],\"histogram2dcontour\":[{\"colorbar\":{\"outlinewidth\":0,\"ticks\":\"\"},\"colorscale\":[[0.0,\"#0d0887\"],[0.1111111111111111,\"#46039f\"],[0.2222222222222222,\"#7201a8\"],[0.3333333333333333,\"#9c179e\"],[0.4444444444444444,\"#bd3786\"],[0.5555555555555556,\"#d8576b\"],[0.6666666666666666,\"#ed7953\"],[0.7777777777777778,\"#fb9f3a\"],[0.8888888888888888,\"#fdca26\"],[1.0,\"#f0f921\"]],\"type\":\"histogram2dcontour\"}],\"mesh3d\":[{\"colorbar\":{\"outlinewidth\":0,\"ticks\":\"\"},\"type\":\"mesh3d\"}],\"parcoords\":[{\"line\":{\"colorbar\":{\"outlinewidth\":0,\"ticks\":\"\"}},\"type\":\"parcoords\"}],\"pie\":[{\"automargin\":true,\"type\":\"pie\"}],\"scatter\":[{\"marker\":{\"colorbar\":{\"outlinewidth\":0,\"ticks\":\"\"}},\"type\":\"scatter\"}],\"scatter3d\":[{\"line\":{\"colorbar\":{\"outlinewidth\":0,\"ticks\":\"\"}},\"marker\":{\"colorbar\":{\"outlinewidth\":0,\"ticks\":\"\"}},\"type\":\"scatter3d\"}],\"scattercarpet\":[{\"marker\":{\"colorbar\":{\"outlinewidth\":0,\"ticks\":\"\"}},\"type\":\"scattercarpet\"}],\"scattergeo\":[{\"marker\":{\"colorbar\":{\"outlinewidth\":0,\"ticks\":\"\"}},\"type\":\"scattergeo\"}],\"scattergl\":[{\"marker\":{\"colorbar\":{\"outlinewidth\":0,\"ticks\":\"\"}},\"type\":\"scattergl\"}],\"scattermapbox\":[{\"marker\":{\"colorbar\":{\"outlinewidth\":0,\"ticks\":\"\"}},\"type\":\"scattermapbox\"}],\"scatterpolar\":[{\"marker\":{\"colorbar\":{\"outlinewidth\":0,\"ticks\":\"\"}},\"type\":\"scatterpolar\"}],\"scatterpolargl\":[{\"marker\":{\"colorbar\":{\"outlinewidth\":0,\"ticks\":\"\"}},\"type\":\"scatterpolargl\"}],\"scatterternary\":[{\"marker\":{\"colorbar\":{\"outlinewidth\":0,\"ticks\":\"\"}},\"type\":\"scatterternary\"}],\"surface\":[{\"colorbar\":{\"outlinewidth\":0,\"ticks\":\"\"},\"colorscale\":[[0.0,\"#0d0887\"],[0.1111111111111111,\"#46039f\"],[0.2222222222222222,\"#7201a8\"],[0.3333333333333333,\"#9c179e\"],[0.4444444444444444,\"#bd3786\"],[0.5555555555555556,\"#d8576b\"],[0.6666666666666666,\"#ed7953\"],[0.7777777777777778,\"#fb9f3a\"],[0.8888888888888888,\"#fdca26\"],[1.0,\"#f0f921\"]],\"type\":\"surface\"}],\"table\":[{\"cells\":{\"fill\":{\"color\":\"#EBF0F8\"},\"line\":{\"color\":\"white\"}},\"header\":{\"fill\":{\"color\":\"#C8D4E3\"},\"line\":{\"color\":\"white\"}},\"type\":\"table\"}]},\"layout\":{\"annotationdefaults\":{\"arrowcolor\":\"#2a3f5f\",\"arrowhead\":0,\"arrowwidth\":1},\"autotypenumbers\":\"strict\",\"coloraxis\":{\"colorbar\":{\"outlinewidth\":0,\"ticks\":\"\"}},\"colorscale\":{\"diverging\":[[0,\"#8e0152\"],[0.1,\"#c51b7d\"],[0.2,\"#de77ae\"],[0.3,\"#f1b6da\"],[0.4,\"#fde0ef\"],[0.5,\"#f7f7f7\"],[0.6,\"#e6f5d0\"],[0.7,\"#b8e186\"],[0.8,\"#7fbc41\"],[0.9,\"#4d9221\"],[1,\"#276419\"]],\"sequential\":[[0.0,\"#0d0887\"],[0.1111111111111111,\"#46039f\"],[0.2222222222222222,\"#7201a8\"],[0.3333333333333333,\"#9c179e\"],[0.4444444444444444,\"#bd3786\"],[0.5555555555555556,\"#d8576b\"],[0.6666666666666666,\"#ed7953\"],[0.7777777777777778,\"#fb9f3a\"],[0.8888888888888888,\"#fdca26\"],[1.0,\"#f0f921\"]],\"sequentialminus\":[[0.0,\"#0d0887\"],[0.1111111111111111,\"#46039f\"],[0.2222222222222222,\"#7201a8\"],[0.3333333333333333,\"#9c179e\"],[0.4444444444444444,\"#bd3786\"],[0.5555555555555556,\"#d8576b\"],[0.6666666666666666,\"#ed7953\"],[0.7777777777777778,\"#fb9f3a\"],[0.8888888888888888,\"#fdca26\"],[1.0,\"#f0f921\"]]},\"colorway\":[\"#636efa\",\"#EF553B\",\"#00cc96\",\"#ab63fa\",\"#FFA15A\",\"#19d3f3\",\"#FF6692\",\"#B6E880\",\"#FF97FF\",\"#FECB52\"],\"font\":{\"color\":\"#2a3f5f\"},\"geo\":{\"bgcolor\":\"white\",\"lakecolor\":\"white\",\"landcolor\":\"#E5ECF6\",\"showlakes\":true,\"showland\":true,\"subunitcolor\":\"white\"},\"hoverlabel\":{\"align\":\"left\"},\"hovermode\":\"closest\",\"mapbox\":{\"style\":\"light\"},\"paper_bgcolor\":\"white\",\"plot_bgcolor\":\"#E5ECF6\",\"polar\":{\"angularaxis\":{\"gridcolor\":\"white\",\"linecolor\":\"white\",\"ticks\":\"\"},\"bgcolor\":\"#E5ECF6\",\"radialaxis\":{\"gridcolor\":\"white\",\"linecolor\":\"white\",\"ticks\":\"\"}},\"scene\":{\"xaxis\":{\"backgroundcolor\":\"#E5ECF6\",\"gridcolor\":\"white\",\"gridwidth\":2,\"linecolor\":\"white\",\"showbackground\":true,\"ticks\":\"\",\"zerolinecolor\":\"white\"},\"yaxis\":{\"backgroundcolor\":\"#E5ECF6\",\"gridcolor\":\"white\",\"gridwidth\":2,\"linecolor\":\"white\",\"showbackground\":true,\"ticks\":\"\",\"zerolinecolor\":\"white\"},\"zaxis\":{\"backgroundcolor\":\"#E5ECF6\",\"gridcolor\":\"white\",\"gridwidth\":2,\"linecolor\":\"white\",\"showbackground\":true,\"ticks\":\"\",\"zerolinecolor\":\"white\"}},\"shapedefaults\":{\"line\":{\"color\":\"#2a3f5f\"}},\"ternary\":{\"aaxis\":{\"gridcolor\":\"white\",\"linecolor\":\"white\",\"ticks\":\"\"},\"baxis\":{\"gridcolor\":\"white\",\"linecolor\":\"white\",\"ticks\":\"\"},\"bgcolor\":\"#E5ECF6\",\"caxis\":{\"gridcolor\":\"white\",\"linecolor\":\"white\",\"ticks\":\"\"}},\"title\":{\"x\":0.05},\"xaxis\":{\"automargin\":true,\"gridcolor\":\"white\",\"linecolor\":\"white\",\"ticks\":\"\",\"title\":{\"standoff\":15},\"zerolinecolor\":\"white\",\"zerolinewidth\":2},\"yaxis\":{\"automargin\":true,\"gridcolor\":\"white\",\"linecolor\":\"white\",\"ticks\":\"\",\"title\":{\"standoff\":15},\"zerolinecolor\":\"white\",\"zerolinewidth\":2}}}},                        {\"responsive\": true}                    ).then(function(){\n",
       "                            \n",
       "var gd = document.getElementById('5d5a7338-131c-4d47-810e-87bf24f9eb77');\n",
       "var x = new MutationObserver(function (mutations, observer) {{\n",
       "        var display = window.getComputedStyle(gd).display;\n",
       "        if (!display || display === 'none') {{\n",
       "            console.log([gd, 'removed!']);\n",
       "            Plotly.purge(gd);\n",
       "            observer.disconnect();\n",
       "        }}\n",
       "}});\n",
       "\n",
       "// Listen for the removal of the full notebook cells\n",
       "var notebookContainer = gd.closest('#notebook-container');\n",
       "if (notebookContainer) {{\n",
       "    x.observe(notebookContainer, {childList: true});\n",
       "}}\n",
       "\n",
       "// Listen for the clearing of the current output cell\n",
       "var outputEl = gd.closest('.output');\n",
       "if (outputEl) {{\n",
       "    x.observe(outputEl, {childList: true});\n",
       "}}\n",
       "\n",
       "                        })                };                });            </script>        </div>"
      ]
     },
     "metadata": {},
     "output_type": "display_data"
    }
   ],
   "source": [
    "#Using Plotly\n",
    "go.Figure(go.Scatter(x=X[:,0], y=y[:,0], mode='markers'))"
   ]
  },
  {
   "cell_type": "markdown",
   "id": "b2d25af4",
   "metadata": {},
   "source": [
    "## Modelling the data with Linear Regression"
   ]
  },
  {
   "cell_type": "code",
   "execution_count": 9,
   "id": "97dbe8db",
   "metadata": {},
   "outputs": [
    {
     "data": {
      "image/png": "[encoded data removed]",
      "text/plain": [
       "<Figure size 720x576 with 1 Axes>"
      ]
     },
     "metadata": {
      "needs_background": "light"
     },
     "output_type": "display_data"
    }
   ],
   "source": [
    "model = LinearRegression()\n",
    "model.fit(X, y)\n",
    "y_pred = model.predict(X)\n",
    "\n",
    "fig = plt.figure(figsize=(10,8))\n",
    "_ = plt.scatter(X, y, s=10)\n",
    "_ = plt.plot(X, y_pred, color='r')\n",
    "plt.show()"
   ]
  },
  {
   "cell_type": "code",
   "execution_count": 10,
   "id": "d3274d6f",
   "metadata": {},
   "outputs": [
    {
     "name": "stdout",
     "output_type": "stream",
     "text": [
      "R-Squared of the model is 0.504977849629453\n"
     ]
    }
   ],
   "source": [
    "from sklearn.metrics import r2_score\n",
    "\n",
    "print(f\"R-Squared of the model is {r2_score(y, y_pred)}\")"
   ]
  },
  {
   "cell_type": "markdown",
   "id": "a4dddb85",
   "metadata": {},
   "source": [
    "## Modelling the data with Polynomial Regression"
   ]
  },
  {
   "cell_type": "code",
   "execution_count": 11,
   "id": "451bcec0",
   "metadata": {},
   "outputs": [
    {
     "data": {
      "image/png": "[encoded data removed]",
      "text/plain": [
       "<Figure size 720x576 with 1 Axes>"
      ]
     },
     "metadata": {
      "needs_background": "light"
     },
     "output_type": "display_data"
    }
   ],
   "source": [
    "polynomial_features= PolynomialFeatures(degree=2)\n",
    "x_poly = polynomial_features.fit_transform(X)\n",
    "\n",
    "model = LinearRegression()\n",
    "model.fit(x_poly, y)\n",
    "y_poly_pred = model.predict(x_poly)\n",
    "r2 = r2_score(y,y_poly_pred)\n",
    "\n",
    "sort_axis = operator.itemgetter(0)\n",
    "sorted_zip = sorted(zip(X,y_poly_pred), key=sort_axis)\n",
    "x, y_poly_pred = zip(*sorted_zip)\n",
    "fig = plt.figure(figsize=(10,8))\n",
    "_ = plt.scatter(X, y, s=10)\n",
    "_ = plt.plot(x, y_poly_pred, color='r')\n",
    "plt.show()"
   ]
  },
  {
   "cell_type": "code",
   "execution_count": 12,
   "id": "eec547af",
   "metadata": {},
   "outputs": [
    {
     "name": "stdout",
     "output_type": "stream",
     "text": [
      "R-Squared of the model is 0.813609064451724\n"
     ]
    }
   ],
   "source": [
    "print(f\"R-Squared of the model is {r2}\")"
   ]
  },
  {
   "cell_type": "code",
   "execution_count": 13,
   "id": "a7aad6ba",
   "metadata": {},
   "outputs": [
    {
     "data": {
      "image/png": "[encoded data removed]",
      "text/plain": [
       "<Figure size 720x576 with 1 Axes>"
      ]
     },
     "metadata": {
      "needs_background": "light"
     },
     "output_type": "display_data"
    },
    {
     "name": "stdout",
     "output_type": "stream",
     "text": [
      "R-Squared of the model is 0.8186461185505226\n"
     ]
    }
   ],
   "source": [
    "polynomial_features= PolynomialFeatures(degree=10)\n",
    "x_poly = polynomial_features.fit_transform(X)\n",
    "\n",
    "model = LinearRegression()\n",
    "model.fit(x_poly, y)\n",
    "y_poly_pred = model.predict(x_poly)\n",
    "r2 = r2_score(y,y_poly_pred)\n",
    "\n",
    "sort_axis = operator.itemgetter(0)\n",
    "sorted_zip = sorted(zip(X,y_poly_pred), key=sort_axis)\n",
    "x, y_poly_pred = zip(*sorted_zip)\n",
    "fig = plt.figure(figsize=(10,8))\n",
    "_ = plt.scatter(X, y, s=10)\n",
    "_ = plt.plot(x, y_poly_pred, color='r')\n",
    "plt.show()\n",
    "\n",
    "print(f\"R-Squared of the model is {r2}\")"
   ]
  },
  {
   "cell_type": "code",
   "execution_count": 14,
   "id": "07c3ab74",
   "metadata": {},
   "outputs": [
    {
     "data": {
      "image/png": "[encoded data removed]",
      "text/plain": [
       "<Figure size 720x576 with 1 Axes>"
      ]
     },
     "metadata": {
      "needs_background": "light"
     },
     "output_type": "display_data"
    },
    {
     "name": "stdout",
     "output_type": "stream",
     "text": [
      "R-Squared of the model is 0.7966837360485548\n"
     ]
    }
   ],
   "source": [
    "polynomial_features= PolynomialFeatures(degree=30)\n",
    "x_poly = polynomial_features.fit_transform(X)\n",
    "\n",
    "model = LinearRegression()\n",
    "model.fit(x_poly, y)\n",
    "y_poly_pred30 = model.predict(x_poly)\n",
    "r2 = r2_score(y,y_poly_pred30)\n",
    "\n",
    "sort_axis = operator.itemgetter(0)\n",
    "sorted_zip = sorted(zip(X,y_poly_pred30), key=sort_axis)\n",
    "x, y_poly_pred30 = zip(*sorted_zip)\n",
    "fig = plt.figure(figsize=(10,8))\n",
    "_ = plt.scatter(X, y, s=10)\n",
    "_ = plt.plot(x, y_poly_pred30, color='r')\n",
    "plt.show()\n",
    "\n",
    "print(f\"R-Squared of the model is {r2}\")"
   ]
  },
  {
   "cell_type": "markdown",
   "id": "33e67275",
   "metadata": {},
   "source": [
    "## Bias-Variance Trade-Off"
   ]
  },
  {
   "cell_type": "code",
   "execution_count": 15,
   "id": "5632229e",
   "metadata": {},
   "outputs": [
    {
     "data": {
      "image/png": "[encoded data removed]",
      "text/plain": [
       "<Figure size 1440x504 with 3 Axes>"
      ]
     },
     "metadata": {
      "needs_background": "light"
     },
     "output_type": "display_data"
    }
   ],
   "source": [
    "plt.figure(figsize=(20,7))\n",
    "plt.subplot(131)\n",
    "_ = plt.scatter(X, y, s=10)\n",
    "_ = plt.plot(X, y_pred, '--',linewidth=2,color='r', label = \"degree = 1\")\n",
    "plt.legend()\n",
    "plt.xlabel(\"Underfit\\nHigh Bias\\nLow Variance\",fontsize=14)\n",
    "ax = plt.gca()\n",
    "ax.xaxis.set_ticklabels([])\n",
    "ax.yaxis.set_ticklabels([])\n",
    "plt.tick_params(left = False)\n",
    "plt.tick_params(bottom = False)\n",
    "\n",
    "\n",
    "plt.subplot(132)\n",
    "_ = plt.scatter(X, y, s=10)\n",
    "_ = plt.plot(x, y_poly_pred, '--',linewidth=2,color='g',label = \"degree = 2\")\n",
    "plt.legend()\n",
    "plt.xlabel(\"Correct Fit\\nLow Bias\\nLow Variance\",fontsize=14)\n",
    "ax = plt.gca()\n",
    "ax.xaxis.set_ticklabels([])\n",
    "ax.yaxis.set_ticklabels([])\n",
    "plt.tick_params(left = False)\n",
    "plt.tick_params(bottom = False)\n",
    "\n",
    "\n",
    "plt.subplot(133)\n",
    "_ = plt.scatter(X, y, s=10)\n",
    "_ = plt.plot(x, y_poly_pred30, '--',color='m', label = \"degree = 30\")\n",
    "plt.legend()\n",
    "plt.xlabel(\"Overfit\\nLow Bias\\nHigh Variance\",fontsize=14)\n",
    "ax = plt.gca()\n",
    "ax.xaxis.set_ticklabels([])\n",
    "ax.yaxis.set_ticklabels([])\n",
    "plt.tick_params(left = False)\n",
    "plt.tick_params(bottom = False)"
   ]
  },
  {
   "cell_type": "markdown",
   "id": "b7e1b232",
   "metadata": {},
   "source": [
    "## Polynomial Regression with NumPy"
   ]
  },
  {
   "cell_type": "code",
   "execution_count": 17,
   "id": "742a0411",
   "metadata": {},
   "outputs": [
    {
     "data": {
      "image/png": "[encoded data removed]",
      "text/plain": [
       "<Figure size 720x576 with 1 Axes>"
      ]
     },
     "metadata": {
      "needs_background": "light"
     },
     "output_type": "display_data"
    }
   ],
   "source": [
    "mymodel = np.poly1d(np.polyfit(X[:,0], y[:,0], 2))\n",
    "myline = np.linspace(X.min(), X.max(), X.shape[0])\n",
    "y_pred_poly = mymodel(X)\n",
    "\n",
    "fig = plt.figure(figsize=(10,8))\n",
    "plt.scatter(X, y, s=10)\n",
    "plt.plot(myline, mymodel(myline), linewidth=2,c='r')\n",
    "plt.show()"
   ]
  },
  {
   "cell_type": "markdown",
   "id": "b8b4fb20",
   "metadata": {},
   "source": [
    "## Polynomial Regression Implementation"
   ]
  },
  {
   "cell_type": "code",
   "execution_count": 18,
   "id": "c0f61e0c",
   "metadata": {},
   "outputs": [],
   "source": [
    "#Own implementation (using GD)\n",
    "\n",
    "def loss(y, y_hat):\n",
    "\n",
    "    loss = np.mean((y_hat - y)**2)\n",
    "    return loss\n",
    "\n",
    "def gradients(X, y, y_hat):\n",
    "    \n",
    "    m = X.shape[0]\n",
    "    dw = (1/m)*np.dot(X.T, (y_hat - y))\n",
    "    db = (1/m)*np.sum((y_hat - y)) \n",
    "    \n",
    "    return dw, db\n",
    "\n",
    "def x_transform(X, degrees):\n",
    "    \n",
    "    t = X.copy()\n",
    "    for i in degrees:\n",
    "        X = np.append(X, t**i, axis=1)\n",
    "            \n",
    "    return X\n",
    "\n",
    "def train(X, y, bs, degrees, epochs, lr):\n",
    "    \n",
    "    x = x_transform(X, degrees)\n",
    "    m, n = x.shape\n",
    "    w = np.zeros((n,1))\n",
    "    b = 0\n",
    "    y = y.reshape(m,1)\n",
    "    \n",
    "    losses = []\n",
    "    for epoch in range(epochs):\n",
    "        for i in range((m-1)//bs + 1):\n",
    "            \n",
    "            start_i = i*bs\n",
    "            end_i = start_i + bs\n",
    "            xb = x[start_i:end_i]\n",
    "            yb = y[start_i:end_i]\n",
    "    \n",
    "            y_hat = np.dot(xb, w) + b\n",
    "            dw, db = gradients(xb, yb, y_hat)\n",
    "            w -= lr*dw\n",
    "            b -= lr*db\n",
    "        l = loss(y, np.dot(x, w) + b)\n",
    "        losses.append(l)\n",
    "        \n",
    "    return w, b, losses\n",
    "\n",
    "def predict(X, w, b, degrees):\n",
    "    \n",
    "    x1 = x_transform(X, degrees)\n",
    "    return np.dot(x1, w) + b"
   ]
  },
  {
   "cell_type": "code",
   "execution_count": 19,
   "id": "f01ed2a2",
   "metadata": {},
   "outputs": [
    {
     "data": {
      "image/png": "[encoded data removed]",
      "text/plain": [
       "<Figure size 576x432 with 1 Axes>"
      ]
     },
     "metadata": {
      "needs_background": "light"
     },
     "output_type": "display_data"
    }
   ],
   "source": [
    "w, b, l = train(X, y, bs=100, degrees=[2], epochs=1000,lr=0.01)\n",
    "fig = plt.figure(figsize=(8,6))\n",
    "plt.plot(X, y, 'y.')\n",
    "plt.plot(X, predict(X, w, b, [2]), 'r.')\n",
    "plt.legend([\"Data\", \"Polynomial predictions\"])\n",
    "plt.xlabel('X - Input')\n",
    "plt.ylabel('y - target / true')\n",
    "plt.title('Polynomial Regression')\n",
    "plt.show()"
   ]
  },
  {
   "cell_type": "code",
   "execution_count": 20,
   "id": "d8ed7206",
   "metadata": {},
   "outputs": [
    {
     "data": {
      "text/plain": [
       "0.8135919136810676"
      ]
     },
     "execution_count": 20,
     "metadata": {},
     "output_type": "execute_result"
    }
   ],
   "source": [
    "r2_score(y, predict(X, w, b, [2]))"
   ]
  },
  {
   "cell_type": "markdown",
   "id": "c2cd5490",
   "metadata": {},
   "source": [
    "## Polynomial Regression on actual data"
   ]
  },
  {
   "cell_type": "code",
   "execution_count": 21,
   "id": "26bb4453",
   "metadata": {},
   "outputs": [],
   "source": [
    "df = pd.read_csv(\"./data/advertising.csv\")"
   ]
  },
  {
   "cell_type": "code",
   "execution_count": 24,
   "id": "ddd9e3c8",
   "metadata": {},
   "outputs": [
    {
     "data": {
      "image/png": "[encoded data removed]",
      "text/plain": [
       "<Figure size 720x576 with 1 Axes>"
      ]
     },
     "metadata": {
      "needs_background": "light"
     },
     "output_type": "display_data"
    }
   ],
   "source": [
    "plt.figure(figsize=(10,8))\n",
    "_ = plt.scatter(df['TV'],df['Sales'])\n",
    "_ = plt.xlabel(\"TV\")\n",
    "_ = plt.ylabel(\"Sales\")"
   ]
  },
  {
   "cell_type": "code",
   "execution_count": 34,
   "id": "41669cf4",
   "metadata": {},
   "outputs": [
    {
     "name": "stdout",
     "output_type": "stream",
     "text": [
      "Degree 2: R2 train = 0.8161401169323494 R2 test = 0.8122175875952192\n",
      "Degree 3: R2 train = 0.8169255043365083 R2 test = 0.8081813169960154\n",
      "Degree 4: R2 train = 0.8210664279837678 R2 test = 0.8082710703339393\n",
      "Degree 5: R2 train = 0.833132134425951 R2 test = 0.8088130190869348\n",
      "Degree 6: R2 train = 0.83320316819928 R2 test = 0.8078054579965992\n",
      "Degree 7: R2 train = 0.8307258655321016 R2 test = 0.805084832585914\n",
      "Degree 8: R2 train = 0.8209117056977628 R2 test = 0.8189855748205266\n",
      "Degree 9: R2 train = 0.8063977185632468 R2 test = 0.8151022294625074\n",
      "Degree 10: R2 train = 0.7619835702712724 R2 test = 0.7751487741451989\n"
     ]
    }
   ],
   "source": [
    "from sklearn.model_selection import train_test_split\n",
    "\n",
    "X = df['TV']\n",
    "y = df['Sales']\n",
    "X_train, X_test, y_train, y_test = train_test_split(X, y, train_size = 0.7, test_size = 0.3, random_state = 42)\n",
    "\n",
    "for deg in [2,3,4,5,6,7,8,9,10]:\n",
    "    polynomial_features = PolynomialFeatures(degree=deg)\n",
    "    x_poly_train = polynomial_features.fit_transform(X_train.values.reshape(-1, 1))\n",
    "    x_poly_test = polynomial_features.transform(X_test.values.reshape(-1, 1))\n",
    "    model = LinearRegression()\n",
    "    model.fit(x_poly_train, y_train)\n",
    "    y_poly_pred = model.predict(x_poly_train)\n",
    "    y_poly_pred_test = model.predict(x_poly_test)\n",
    "    r2_train = r2_score(y_train,y_poly_pred)\n",
    "    r2_test = r2_score(y_test,y_poly_pred_test)\n",
    "    \n",
    "    print(f\"Degree {deg}: R2 train = {r2_train} R2 test = {r2_test}\")\n",
    "    "
   ]
  },
  {
   "cell_type": "code",
   "execution_count": 53,
   "id": "0ad2ccd0",
   "metadata": {},
   "outputs": [
    {
     "data": {
      "image/png": "[encoded data removed]",
      "text/plain": [
       "<Figure size 720x576 with 1 Axes>"
      ]
     },
     "metadata": {
      "needs_background": "light"
     },
     "output_type": "display_data"
    }
   ],
   "source": [
    "polynomial_features= PolynomialFeatures(degree=8) #best performing is 8\n",
    "x_poly = polynomial_features.fit_transform(X.values.reshape(-1,1))\n",
    "\n",
    "model = LinearRegression()\n",
    "model.fit(x_poly, y)\n",
    "y_poly_pred = model.predict(x_poly)\n",
    "sort_axis = operator.itemgetter(0)\n",
    "sorted_zip = sorted(zip(X,y_poly_pred), key=sort_axis)\n",
    "x, y_poly_pred = zip(*sorted_zip)\n",
    "fig = plt.figure(figsize=(10,8))\n",
    "_ = plt.scatter(X, y, s=10)\n",
    "_ = plt.plot(x, y_poly_pred, color='r')\n",
    "plt.show()"
   ]
  }
 ],
 "metadata": {
  "kernelspec": {
   "display_name": "Python 3 (ipykernel)",
   "language": "python",
   "name": "python3"
  },
  "language_info": {
   "codemirror_mode": {
    "name": "ipython",
    "version": 3
   },
   "file_extension": ".py",
   "mimetype": "text/x-python",
   "name": "python",
   "nbconvert_exporter": "python",
   "pygments_lexer": "ipython3",
   "version": "3.9.7"
  }
 },
 "nbformat": 4,
 "nbformat_minor": 5
}
